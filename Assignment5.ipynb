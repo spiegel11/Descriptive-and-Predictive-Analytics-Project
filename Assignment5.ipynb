{
 "cells": [
  {
   "cell_type": "markdown",
   "metadata": {},
   "source": [
    "# Homework 5: Numerical Prediction\n",
    "\n",
    "## Instructions\n",
    "\n",
    "You will not need R (although feel free to use R) in part 1. You will need R in part 2.\n",
    "\n",
    "Your HW submission should consist of **one pdf or HTML file** exported from the Jupyter Lab containing the answers to all the questions included in the homework.\n",
    "\n",
    "You will use Jupyter Lab exclusively for this homework. All the cells in this notebook is editable. You need to edit, insert `markdown` and `code` cells to complete the homework.\n",
    "\n",
    "If you are having trouble with installing the package, first look at the [troubleshooting guide](https://www.notion.so/alanchen/R-FAQ-Troubleshooting-Guide-97dae246efad44b293ffb7b13f8a959f) or consult the instructor. Or you can use MyBinder: https://z.umn.edu/idsc4444mybinder\n",
    "\n",
    "> If you are running this notebook on MyBinder, be sure to download your notebook, otherwise all your progress will be lost. You will need to reupload your notebook to MyBinder next time to restore progress.\n",
    "\n",
    "> If you are running this notebook locally on your own machine, you can simply save the notebook.\n",
    "\n",
    "> AVOID writing all your codes in a single cell if there are multiple lines with meaningful outputs. Separate them and insert new cells as you see fit."
   ]
  },
  {
   "cell_type": "markdown",
   "metadata": {},
   "source": [
    "# Part 1\n",
    "\n",
    "## Q1 K-NN for Numeric Prediction\n",
    "\n",
    "(1.5 point total)\n",
    "\n",
    "Assume you want to build a model to predict customers’ credit card bill amount for the current month.\n",
    "\n",
    "The attributes you have available are: balance limit, age, bill amount for the previous month, amount paid in the previous month. Your Y is the bill amount for the current month.\n",
    "\n",
    "You train a K-NN model using the following 5 observations.\n",
    "\n",
    "| ID | LIMIT_BAL | AGE | BILL_AMT_previousMonth | PAY_AMT_previousMonth | Y- BILL_AMT_thisMonth |\n",
    "|----|-----------|-----|------------------------|-----------------------|-----------------------|\n",
    "| 1  | 230000    | 30  | -441                   | 4851                  | 754                   |\n",
    "| 2  | 90000     | 25  | 67857                  | 3000                  | 79938                 |\n",
    "| 3  | 10000     | 50  | 600                    | 0                     | 600                   |\n",
    "| 4  | 20000     | 31  | 19116                  | 200                   | 16509                 |\n",
    "| 5  | 90000     | 28  | 25743                  | 1500                  | 24657                 |\n",
    "\n",
    "Feel free to use Excel to make the calculations, as long as you show the steps you took to get your answers (otherwise, you will lose points)."
   ]
  },
  {
   "cell_type": "markdown",
   "metadata": {},
   "source": [
    "## A\n",
    "\n",
    "(0.2) Normalize the dataset using min-max normalization. Decide which variables to\n",
    "normalize.\n",
    "\n",
    "Tips for generating a table in Markdown: you can use https://www.tablesgenerator.com/markdown_tables or you can attach a screenshot of your table."
   ]
  },
  {
   "cell_type": "markdown",
   "metadata": {},
   "source": [
    "**Answer**:"
   ]
  },
  {
   "cell_type": "markdown",
   "metadata": {},
   "source": [
    "## B\n",
    "\n",
    "You need to predict the bill amount for the following new customer:\n",
    "\n",
    "| ID | LIMIT_BAL | AGE | BILL_AMT_previousMonth | PAY_AMT_previousMonth | Y- BILL_AMT_thisMonth |\n",
    "|----|-----------|-----|------------------------|-----------------------|-----------------------|\n",
    "| 6  | 64000     | 32  | 28451                  | 3120                  | ??                    |\n",
    "\n",
    "(0.2) First, normalize the new observation (use the min and max that you used to normalize the dataset above)."
   ]
  },
  {
   "cell_type": "markdown",
   "metadata": {},
   "source": [
    "## C\n",
    "\n",
    "(0.5) Predict the value of the outcome variable (bill amount) for the new observation, using\n",
    " k-NN with k = 2. Use Euclidian distance."
   ]
  },
  {
   "cell_type": "markdown",
   "metadata": {},
   "source": [
    "**Answer**:"
   ]
  },
  {
   "cell_type": "markdown",
   "metadata": {},
   "source": [
    "## D\n",
    "\n",
    "(0.3) Repeat the point above, using Max-coordinate distance. Are the results similar?"
   ]
  },
  {
   "cell_type": "markdown",
   "metadata": {},
   "source": [
    "**Answer**:"
   ]
  },
  {
   "cell_type": "markdown",
   "metadata": {},
   "source": [
    "## E\n",
    "\n",
    "(0.1) Finally, improve the prediction of your k-NN models by using a weighted average: the\n",
    " outcome value of the closest neighbor should be given weight of `0.7`, while the outcome\n",
    " value of the second closest neighbor should be given weight of `0.3`. \n",
    " \n",
    "Repeat this for the predictions found in point c) and d).\n",
    "Compare the results to the ones obtained using the unweighted average.\n",
    "\n",
    "Tip: How to compute a weighted average: if $x_1$ and $x_2$ are the two numbers and $w_1$ and $w_2$ are two\n",
    "weights, then the weighted average is:\n",
    "\n",
    "$$x_1*w_1 + x_2*w_2 \\over (w_1+w_2)$$\n",
    "\n",
    "For more: https://www.mathsisfun.com/data/weighted-mean.html"
   ]
  },
  {
   "cell_type": "markdown",
   "metadata": {},
   "source": [
    "**Answer**:"
   ]
  },
  {
   "cell_type": "markdown",
   "metadata": {},
   "source": [
    "## Q2 Apply what you have been learning – 1.5 points\n",
    "\n",
    "Assume a fitness center wants to explore the power of data-science and hires you as a consultant\n",
    "data scientist. The fitness center would like to predict whether a given member will churn or not –\n",
    "that is, whether the member will terminate her/his membership.\n",
    "The fitness center has no idea how to implement such analysis and does not know which data may\n",
    "be needed.\n",
    "As the hired data-scientist, you need to:\n",
    "\n",
    "- Identify the unit of observation of your analysis: what should each row/record represent?\n",
    "- Identify at least 3 distinct attributes that you think you would need to make the required\n",
    "prediction. Each attribute should be measurable and you should clearly explain the\n",
    "definition of the attribute and why you believe it is important (you must think of what data\n",
    "a fitness center may reasonably have available).\n",
    "- Explain briefly how you would go about the analysis, which method or methods you would\n",
    "use and why."
   ]
  },
  {
   "cell_type": "markdown",
   "metadata": {},
   "source": [
    "**Answer: write your answer in this markdown cell**"
   ]
  },
  {
   "cell_type": "markdown",
   "metadata": {},
   "source": [
    "# Part 2 - Numeric Prediction in R (7 points total)\n",
    "\n",
    "For this part of the HW, you need to load the dataset `bike_day.csv`, that contains data about bike-sharing transactions.\n",
    "\n",
    "Each record in the dataset corresponds to a day of the year and the available variables are:\n",
    "\n",
    "- cnt_bike: the daily count of bike-sharing transactions: in other words, the count of daily\n",
    "bike-rides. This is your Y, outcome variable.\n",
    "- atemp: perceived temperature in Celsius\n",
    "- hum: humidity\n",
    "- windspeed: wind speed\n",
    "- temp: temperature in Celsius\n",
    "- holiday: binary variable that takes value of 0 if the day is not a holiday day; 1 otherwise\n",
    "- workingday: categorical variable that takes value No if it is not a working day; 1 otherwise\n",
    "\n",
    "The objective is to build different numeric prediction models to predict the number (count) of bikerides in a day, based on the available attributes."
   ]
  },
  {
   "cell_type": "markdown",
   "metadata": {},
   "source": [
    "## 1: Pre-processing\n",
    "\n",
    "### a) (0.3)\n",
    "\n",
    "Load the data, summarize it (report the summary). Use `ggplot` to plot a histogram for\n",
    "the distribution of the number of bike-rides and comment on it. Your plot should have a\n",
    "proper title, proper axis’ labels, proper axis’ limits. "
   ]
  },
  {
   "cell_type": "code",
   "execution_count": 8,
   "metadata": {},
   "outputs": [
    {
     "name": "stdout",
     "output_type": "stream",
     "text": [
      "package 'GGally' successfully unpacked and MD5 sums checked\n",
      "\n",
      "The downloaded binary packages are in\n",
      "\tC:\\Users\\Shinelon\\AppData\\Local\\Temp\\RtmpclFN1O\\downloaded_packages\n",
      "package 'labelVector' successfully unpacked and MD5 sums checked\n",
      "\n",
      "The downloaded binary packages are in\n",
      "\tC:\\Users\\Shinelon\\AppData\\Local\\Temp\\RtmpclFN1O\\downloaded_packages\n",
      "package 'tidyverse' successfully unpacked and MD5 sums checked\n",
      "\n",
      "The downloaded binary packages are in\n",
      "\tC:\\Users\\Shinelon\\AppData\\Local\\Temp\\RtmpclFN1O\\downloaded_packages\n"
     ]
    },
    {
     "name": "stderr",
     "output_type": "stream",
     "text": [
      "Warning message:\n",
      "\"package 'GGally' was built under R version 3.6.3\"Registered S3 method overwritten by 'GGally':\n",
      "  method from   \n",
      "  +.gg   ggplot2\n",
      "Warning message:\n",
      "\"package 'caret' was built under R version 3.6.3\"Loading required package: lattice\n",
      "Warning message:\n",
      "\"package 'lattice' was built under R version 3.6.3\"Warning message:\n",
      "\"package 'rpart.plot' was built under R version 3.6.3\"Loading required package: rpart\n",
      "Warning message:\n",
      "\"package 'rpart' was built under R version 3.6.3\"Warning message:\n",
      "\"package 'gridExtra' was built under R version 3.6.3\"Warning message:\n",
      "\"package 'labelVector' was built under R version 3.6.3\"Warning message:\n",
      "\"package 'tidyverse' was built under R version 3.6.3\"-- Attaching packages --------------------------------------- tidyverse 1.3.0 --\n",
      "√ tibble  3.0.4     √ dplyr   1.0.2\n",
      "√ tidyr   1.1.2     √ stringr 1.4.0\n",
      "√ readr   1.4.0     √ forcats 0.5.0\n",
      "√ purrr   0.3.4     \n",
      "Warning message:\n",
      "\"package 'tibble' was built under R version 3.6.3\"Warning message:\n",
      "\"package 'tidyr' was built under R version 3.6.3\"Warning message:\n",
      "\"package 'readr' was built under R version 3.6.3\"Warning message:\n",
      "\"package 'purrr' was built under R version 3.6.3\"Warning message:\n",
      "\"package 'dplyr' was built under R version 3.6.3\"Warning message:\n",
      "\"package 'stringr' was built under R version 3.6.3\"Warning message:\n",
      "\"package 'forcats' was built under R version 3.6.3\"-- Conflicts ------------------------------------------ tidyverse_conflicts() --\n",
      "x dplyr::combine() masks gridExtra::combine()\n",
      "x dplyr::filter()  masks stats::filter()\n",
      "x dplyr::lag()     masks stats::lag()\n",
      "x purrr::lift()    masks caret::lift()\n"
     ]
    },
    {
     "data": {
      "text/plain": [
       "    cnt_bike        atemp            hum          windspeed          temp      \n",
       " Min.   :  22   Min.   : 3.95   Min.   : 0.00   Min.   : 1.50   Min.   : 2.42  \n",
       " 1st Qu.:3152   1st Qu.:16.89   1st Qu.:52.00   1st Qu.: 9.04   1st Qu.:13.82  \n",
       " Median :4548   Median :24.34   Median :62.67   Median :12.13   Median :20.43  \n",
       " Mean   :4504   Mean   :23.72   Mean   :62.79   Mean   :12.76   Mean   :20.31  \n",
       " 3rd Qu.:5956   3rd Qu.:30.43   3rd Qu.:73.02   3rd Qu.:15.62   3rd Qu.:26.88  \n",
       " Max.   :8714   Max.   :42.04   Max.   :97.25   Max.   :34.00   Max.   :35.33  \n",
       "    holiday          workingday   \n",
       " Min.   :0.00000   Min.   :0.000  \n",
       " 1st Qu.:0.00000   1st Qu.:0.000  \n",
       " Median :0.00000   Median :1.000  \n",
       " Mean   :0.02873   Mean   :0.684  \n",
       " 3rd Qu.:0.00000   3rd Qu.:1.000  \n",
       " Max.   :1.00000   Max.   :1.000  "
      ]
     },
     "metadata": {},
     "output_type": "display_data"
    }
   ],
   "source": [
    "#install.packages(\"ggplot2\")\n",
    "#library(\"ggplot2\")\n",
    "#install.packages(\"GGally\")\n",
    "#install.packages(\"labelVector\")\n",
    "#install.packages(\"tidyverse\")\n",
    "#library(GGally)\n",
    "#library(caret)\n",
    "#library(rpart.plot)\n",
    "#library(gridExtra)\n",
    "#library(labelVector)\n",
    "#library(tidyverse)\n",
    "\n",
    "bike_day <- read.csv(\"bike_day.csv\")\n",
    "summary(bike_day)"
   ]
  },
  {
   "cell_type": "code",
   "execution_count": 5,
   "metadata": {},
   "outputs": [
    {
     "name": "stderr",
     "output_type": "stream",
     "text": [
      "`stat_bin()` using `bins = 30`. Pick better value with `binwidth`.\n",
      "Warning message:\n",
      "\"Removed 2 rows containing missing values (geom_bar).\""
     ]
    },
    {
     "data": {
      "image/png": "[encoded data removed]",
      "text/plain": [
       "plot without title"
      ]
     },
     "metadata": {},
     "output_type": "display_data"
    }
   ],
   "source": [
    "\n",
    "\n",
    "ggplot(data = bike_day, aes(x = cnt_bike)) + \n",
    "        geom_histogram(colour = \"grey\", fill = \"black\") +\n",
    "        xlim(0,10000) + \n",
    "        ylim(0,80)+\n",
    "        ggtitle(\"Number of Bike-rides Distribution\") +\n",
    "        labs(x = \"Daily Bike-rides\")\n",
    "#Comments: The shape of the count distribution is similar to normal distribution, It is suitable \n",
    "#for liner regression"
   ]
  },
  {
   "cell_type": "markdown",
   "metadata": {},
   "source": [
    "### b) (0.4)\n",
    "\n",
    "Use the function `pairs()` to produce a plot of the relationships among `cnt_bike`, `atemp` and\n",
    "`hum`.\n",
    "\n",
    "Comment on the relationship between `cnt_bike` and `atemp`, and `cnt_bike` and `hum`."
   ]
  },
  {
   "cell_type": "code",
   "execution_count": 6,
   "metadata": {},
   "outputs": [
    {
     "data": {
      "image/png": "[encoded data removed]",
      "text/plain": [
       "plot without title"
      ]
     },
     "metadata": {},
     "output_type": "display_data"
    }
   ],
   "source": [
    "pairs(bike_day[,1:3], col = \"darkgreen\")\n",
    "#The relationship: The dependent variable and independent variable should have a linger \n",
    "#relationship. From the plot we generate, its easy to tell there is a positive liner relation \n",
    "#between daily count and perceived temperature. The relationship between daily count and \n",
    "#humidity is slight negative liner regression. There is no relationship between perceived \n",
    "#temperature and humidity, which is great for our model."
   ]
  },
  {
   "cell_type": "markdown",
   "metadata": {},
   "source": [
    "### c) (0.1)\n",
    "\n",
    "Split the data into 70% training and 30% testing."
   ]
  },
  {
   "cell_type": "code",
   "execution_count": 12,
   "metadata": {},
   "outputs": [],
   "source": [
    "trainRows <- createDataPartition(y=bike_day$cnt_bike,p=0.7,list=FALSE)\n",
    "train_set <- bike_day[trainRows,]\n",
    "test_set <- bike_day[-trainRows,]\n"
   ]
  },
  {
   "cell_type": "markdown",
   "metadata": {},
   "source": [
    "## K-NN\n",
    "\n",
    "### a) (0.1)\n",
    "\n",
    "Decide whether you need to standardize the data or not. If yes, explain why; then\n",
    "decide which attributes to include, proceed with the standardization and motivate your\n",
    "choices. If not, explain why."
   ]
  },
  {
   "cell_type": "code",
   "execution_count": 14,
   "metadata": {},
   "outputs": [
    {
     "data": {
      "text/html": [
       "<table>\n",
       "<thead><tr><th></th><th scope=col>cnt_bike</th><th scope=col>atemp</th><th scope=col>hum</th><th scope=col>windspeed</th><th scope=col>temp</th><th scope=col>holiday</th><th scope=col>workingday</th></tr></thead>\n",
       "<tbody>\n",
       "\t<tr><th scope=row>1</th><td> 985       </td><td>-0.6926088 </td><td> 1.2718822 </td><td>-0.43510090</td><td>-0.842339  </td><td>-0.1670025 </td><td>-1.5017011 </td></tr>\n",
       "\t<tr><th scope=row>3</th><td>1349       </td><td>-1.7495991 </td><td>-1.3550043 </td><td> 0.68708437</td><td>-1.643822  </td><td>-0.1670025 </td><td> 0.6646184 </td></tr>\n",
       "\t<tr><th scope=row>4</th><td>1562       </td><td>-1.6112559 </td><td>-0.2636167 </td><td>-0.43700614</td><td>-1.623983  </td><td>-0.1670025 </td><td> 0.6646184 </td></tr>\n",
       "\t<tr><th scope=row>5</th><td>1600       </td><td>-1.5081053 </td><td>-1.3571429 </td><td>-0.09787375</td><td>-1.477177  </td><td>-0.1670025 </td><td> 0.6646184 </td></tr>\n",
       "\t<tr><th scope=row>9</th><td> 822       </td><td>-2.1937534 </td><td>-1.3771029 </td><td> 2.13697061</td><td>-1.958596  </td><td>-0.1670025 </td><td>-1.5017011 </td></tr>\n",
       "\t<tr><th scope=row>10</th><td>1321       </td><td>-1.9838116 </td><td>-1.0299405 </td><td> 0.36700436</td><td>-1.891144  </td><td>-0.1670025 </td><td> 0.6646184 </td></tr>\n",
       "</tbody>\n",
       "</table>\n"
      ],
      "text/latex": [
       "\\begin{tabular}{r|lllllll}\n",
       "  & cnt\\_bike & atemp & hum & windspeed & temp & holiday & workingday\\\\\n",
       "\\hline\n",
       "\t1 &  985        & -0.6926088  &  1.2718822  & -0.43510090 & -0.842339   & -0.1670025  & -1.5017011 \\\\\n",
       "\t3 & 1349        & -1.7495991  & -1.3550043  &  0.68708437 & -1.643822   & -0.1670025  &  0.6646184 \\\\\n",
       "\t4 & 1562        & -1.6112559  & -0.2636167  & -0.43700614 & -1.623983   & -0.1670025  &  0.6646184 \\\\\n",
       "\t5 & 1600        & -1.5081053  & -1.3571429  & -0.09787375 & -1.477177   & -0.1670025  &  0.6646184 \\\\\n",
       "\t9 &  822        & -2.1937534  & -1.3771029  &  2.13697061 & -1.958596   & -0.1670025  & -1.5017011 \\\\\n",
       "\t10 & 1321        & -1.9838116  & -1.0299405  &  0.36700436 & -1.891144   & -0.1670025  &  0.6646184 \\\\\n",
       "\\end{tabular}\n"
      ],
      "text/markdown": [
       "\n",
       "| <!--/--> | cnt_bike | atemp | hum | windspeed | temp | holiday | workingday |\n",
       "|---|---|---|---|---|---|---|---|\n",
       "| 1 |  985        | -0.6926088  |  1.2718822  | -0.43510090 | -0.842339   | -0.1670025  | -1.5017011  |\n",
       "| 3 | 1349        | -1.7495991  | -1.3550043  |  0.68708437 | -1.643822   | -0.1670025  |  0.6646184  |\n",
       "| 4 | 1562        | -1.6112559  | -0.2636167  | -0.43700614 | -1.623983   | -0.1670025  |  0.6646184  |\n",
       "| 5 | 1600        | -1.5081053  | -1.3571429  | -0.09787375 | -1.477177   | -0.1670025  |  0.6646184  |\n",
       "| 9 |  822        | -2.1937534  | -1.3771029  |  2.13697061 | -1.958596   | -0.1670025  | -1.5017011  |\n",
       "| 10 | 1321        | -1.9838116  | -1.0299405  |  0.36700436 | -1.891144   | -0.1670025  |  0.6646184  |\n",
       "\n"
      ],
      "text/plain": [
       "   cnt_bike atemp      hum        windspeed   temp      holiday    workingday\n",
       "1   985     -0.6926088  1.2718822 -0.43510090 -0.842339 -0.1670025 -1.5017011\n",
       "3  1349     -1.7495991 -1.3550043  0.68708437 -1.643822 -0.1670025  0.6646184\n",
       "4  1562     -1.6112559 -0.2636167 -0.43700614 -1.623983 -0.1670025  0.6646184\n",
       "5  1600     -1.5081053 -1.3571429 -0.09787375 -1.477177 -0.1670025  0.6646184\n",
       "9   822     -2.1937534 -1.3771029  2.13697061 -1.958596 -0.1670025 -1.5017011\n",
       "10 1321     -1.9838116 -1.0299405  0.36700436 -1.891144 -0.1670025  0.6646184"
      ]
     },
     "metadata": {},
     "output_type": "display_data"
    }
   ],
   "source": [
    "train_set_stand <- train_set\n",
    "test_set_stand <- test_set\n",
    "library(standardize)\n",
    "train_set_stand[,2:7] <- apply(train_set_stand[,2:7], MARGIN = 2, FUN = scale)\n",
    "test_set_stand[,2:7] <- apply(test_set_stand[,2:7], MARGIN = 2, FUN = scale)\n",
    "head(train_set_stand)\n",
    "#For K-NN, we need to standardize the data, cause the different range can destroy the \n",
    "#relationship among attributes. We should include atemp, hum, windspeed, temp, holiday, \n",
    "#and workingday. We do not include the Y outcome variable."
   ]
  },
  {
   "cell_type": "markdown",
   "metadata": {},
   "source": [
    "### b) (0.2)\n",
    "\n",
    "Train a k-NN model on the appropriate attributes. Report the algorithm’s output and\n",
    "identify the number of k used to trained the model."
   ]
  },
  {
   "cell_type": "code",
   "execution_count": 15,
   "metadata": {},
   "outputs": [
    {
     "data": {
      "text/plain": [
       "k-Nearest Neighbors \n",
       "\n",
       "515 samples\n",
       "  6 predictor\n",
       "\n",
       "No pre-processing\n",
       "Resampling: Bootstrapped (25 reps) \n",
       "Summary of sample sizes: 515, 515, 515, 515, 515, 515, ... \n",
       "Resampling results across tuning parameters:\n",
       "\n",
       "  k  RMSE      Rsquared   MAE     \n",
       "  5  1424.910  0.4674522  1164.070\n",
       "  7  1392.427  0.4831230  1141.951\n",
       "  9  1373.015  0.4934193  1134.741\n",
       "\n",
       "RMSE was used to select the optimal model using the smallest value.\n",
       "The final value used for the model was k = 9."
      ]
     },
     "metadata": {},
     "output_type": "display_data"
    }
   ],
   "source": [
    "knn_model <- train(cnt_bike~., train_set_stand, method = \"knn\")\n",
    "knn_model \n",
    "#K=9 is used to train the model, RMSE is the smallest when k=9."
   ]
  },
  {
   "cell_type": "markdown",
   "metadata": {},
   "source": [
    "### c) (0.5)\n",
    "\n",
    "- Get the predictions from the k-NN model and use `ggplot` to create a histogram of the\n",
    "distribution of the predicted bike rides.\n",
    "- Also, create a `ggplot` histogram of the distribution of the true count of bike rides using the testing data. Arrange the plots next to each other. Your graphs should have a proper title, proper axis’ labels and proper axis’ limits.\n",
    "- Pick two different colors for the histograms, so to distinguish them clearly.\n",
    "- Compare the two histograms and assess how you think the k-NN model is performing, by simply looking at the plots."
   ]
  },
  {
   "cell_type": "code",
   "execution_count": 16,
   "metadata": {},
   "outputs": [
    {
     "name": "stderr",
     "output_type": "stream",
     "text": [
      "`stat_bin()` using `bins = 30`. Pick better value with `binwidth`.\n",
      "Warning message:\n",
      "\"Removed 2 rows containing missing values (geom_bar).\"`stat_bin()` using `bins = 30`. Pick better value with `binwidth`.\n",
      "Warning message:\n",
      "\"Removed 2 rows containing missing values (geom_bar).\""
     ]
    },
    {
     "data": {
      "image/png": "[encoded data removed]",
      "text/plain": [
       "plot without title"
      ]
     },
     "metadata": {},
     "output_type": "display_data"
    }
   ],
   "source": [
    "knnPred <- predict(knn_model, test_set_stand)\n",
    "h_pred_knn <- ggplot(data= test_set_stand, aes(x = knnPred)) + \n",
    "        geom_histogram(colour = \"lightblue\", fill = \"darkblue\") +\n",
    "        xlim (0,10000) + \n",
    "        ylim (0,40) + \n",
    "        ggtitle(\"KNN, Distribution of Daily Count\") +\n",
    "        labs(x = \"Predicted Daily Count\")\n",
    "count_dist <- ggplot(data=test_set_stand, aes(x = cnt_bike)) + \n",
    "        geom_histogram(colour = \"grey\", fill = \"black\") +\n",
    "        xlim (0,10000) + \n",
    "        ylim (0,40) + \n",
    "        ggtitle(\"Original Daily Count Distribution\") +\n",
    "        labs(x = \"Daily Count\")\n",
    "grid.arrange(count_dist, h_pred_knn, nrow = 1)\n",
    "#The predict is similar to the real daily count distribution, \n",
    "#although there are some underpredictions and overpredictions. Overall is good."
   ]
  },
  {
   "cell_type": "markdown",
   "metadata": {},
   "source": [
    "### d) (0.5)\n",
    "\n",
    "- Compute the prediction error for the k-NN model and create a `ggplot` histogram in for the distribution of the prediction error.\n",
    "- Additionally, create a `ggplot` scatterplot of the prediction error and the true count of bike rides. The plots should have a proper title, proper axis’ labels and proper axis limits. Arrange the plots next to each or on top of each other, as preferred. \n",
    "- Describe which insights you derive from the two plots. What can we say of the k-NN model performance, by simply looking at these two plots?"
   ]
  },
  {
   "cell_type": "code",
   "execution_count": 17,
   "metadata": {},
   "outputs": [
    {
     "name": "stderr",
     "output_type": "stream",
     "text": [
      "`stat_bin()` using `bins = 30`. Pick better value with `binwidth`.\n",
      "Warning message:\n",
      "\"Removed 2 rows containing missing values (geom_bar).\""
     ]
    },
    {
     "data": {
      "image/png": "[encoded data removed]",
      "text/plain": [
       "plot without title"
      ]
     },
     "metadata": {},
     "output_type": "display_data"
    }
   ],
   "source": [
    "knn_error <- knnPred - test_set_stand$cnt_bike\n",
    "h_error_knn <- ggplot(data= test_set_stand, aes(x = knn_error)) + \n",
    "        geom_histogram(colour = \"lightblue\", fill = \"blue\") +\n",
    "        xlim (-4000, 4000) + \n",
    "        ylim (0, 40) + \n",
    "        ggtitle(\"KNN, Distribution of Prediction Error\") +\n",
    "        labs(x = \"Prediction Error\")\n",
    "p_error_knn <- ggplot(data = test_set_stand, aes(x=cnt_bike, y=knn_error)) +\n",
    "        geom_point(size=2, color = \"blue\") +\n",
    "        ylim (-4000, 6000) +\n",
    "        xlim (0, 10000) +\n",
    "        ggtitle(\"KNN, Prediction Error vs Actual Daily Count\") +\n",
    "        labs(x = \"Actual Price\", y = \"KNN Prediction Error\")\n",
    "grid.arrange(h_error_knn, p_error_knn)\n",
    "#Insights: are some large negative and positive prediction error which means highly under\n",
    "#predictive and over-predicative. Overall, this prediction model is good, as most of the \n",
    "#prediction error is concentered around 0. From the scatterplot, when the actual daily count is \n",
    "#low there are some over predictions, when the actual daily count is high, there are some \n",
    "#under predictions. The overall all is around 0, which is good."
   ]
  },
  {
   "cell_type": "markdown",
   "metadata": {},
   "source": [
    "### e) (0.3)\n",
    "\n",
    "Compute the ME (mean error) and the RMSE for the k-NN model. Interpret the results."
   ]
  },
  {
   "cell_type": "code",
   "execution_count": 19,
   "metadata": {},
   "outputs": [
    {
     "data": {
      "text/html": [
       "90.6100823045268"
      ],
      "text/latex": [
       "90.6100823045268"
      ],
      "text/markdown": [
       "90.6100823045268"
      ],
      "text/plain": [
       "[1] 90.61008"
      ]
     },
     "metadata": {},
     "output_type": "display_data"
    },
    {
     "data": {
      "text/html": [
       "1346.5662932517"
      ],
      "text/latex": [
       "1346.5662932517"
      ],
      "text/markdown": [
       "1346.5662932517"
      ],
      "text/plain": [
       "[1] 1346.566"
      ]
     },
     "metadata": {},
     "output_type": "display_data"
    }
   ],
   "source": [
    "knnME <- mean(knn_error)\n",
    "knnME\n",
    "knnRMSE <- RMSE(pred = knnPred, obs = test_set_stand$cnt_bike)\n",
    "knnRMSE\n",
    "#Interpret: The ME number means in average, the KNN model is over predicting daily count. \n",
    "#The RMSE has the same unites of the outcome variable, from the number we generate, we \n",
    "#can say the prediction value is about 1346.6 count off about our actual daily count."
   ]
  },
  {
   "cell_type": "markdown",
   "metadata": {},
   "source": [
    "## Regression Tree\n",
    "\n",
    "### a) (0.1)\n",
    "\n",
    "Decide whether you need to standardize the data or not. If yes, explain why; then\n",
    "decide which attributes to include, proceed with the standardization and motivate your\n",
    "choices. If not, explain why."
   ]
  },
  {
   "cell_type": "markdown",
   "metadata": {},
   "source": [
    "We don’t need to standardize the data for regression tree analysis. Based on regression trees, \n",
    "data are split recursively, based on different values of attributes. To determine the leaf node, \n",
    "we use the average of the outcome values of the data point in that node instead of the \n",
    "distance, so we do not need normalization."
   ]
  },
  {
   "cell_type": "markdown",
   "metadata": {},
   "source": [
    "### b) (0.2)\n",
    "\n",
    "Train a regression tree model on the appropriate attributes; report algorithm’s output"
   ]
  },
  {
   "cell_type": "code",
   "execution_count": 20,
   "metadata": {},
   "outputs": [
    {
     "name": "stderr",
     "output_type": "stream",
     "text": [
      "Warning message in nominalTrainWorkflow(x = x, y = y, wts = weights, info = trainInfo, :\n",
      "\"There were missing values in resampled performance measures.\""
     ]
    },
    {
     "data": {
      "text/plain": [
       "CART \n",
       "\n",
       "515 samples\n",
       "  6 predictor\n",
       "\n",
       "No pre-processing\n",
       "Resampling: Bootstrapped (25 reps) \n",
       "Summary of sample sizes: 515, 515, 515, 515, 515, 515, ... \n",
       "Resampling results across tuning parameters:\n",
       "\n",
       "  cp          RMSE      Rsquared   MAE     \n",
       "  0.03296143  1451.153  0.4434682  1209.071\n",
       "  0.07498785  1519.758  0.3859417  1276.896\n",
       "  0.39077886  1689.100  0.3622484  1412.150\n",
       "\n",
       "RMSE was used to select the optimal model using the smallest value.\n",
       "The final value used for the model was cp = 0.03296143."
      ]
     },
     "metadata": {},
     "output_type": "display_data"
    }
   ],
   "source": [
    "rtree <- train(cnt_bike~., train_set, method = \"rpart\")\n",
    "rtree"
   ]
  },
  {
   "cell_type": "markdown",
   "metadata": {},
   "source": [
    "### c) (0.3)\n",
    "\n",
    "Plot the final tree; describe which attribute-values the algorithm picked to create the\n",
    "tree."
   ]
  },
  {
   "cell_type": "code",
   "execution_count": 21,
   "metadata": {},
   "outputs": [
    {
     "data": {
      "image/png": "[encoded data removed]",
      "text/plain": [
       "plot without title"
      ]
     },
     "metadata": {},
     "output_type": "display_data"
    }
   ],
   "source": [
    "rpart.plot(rtree$finalModel, digits=-3)\n",
    "#For the two number in the cude, the first one is the outcome average, and the second one is the \n",
    "#porpotion. For this regression tree, the model used temperature and preceived temperature \n",
    "#attributes to allocate the leaf node."
   ]
  },
  {
   "cell_type": "markdown",
   "metadata": {},
   "source": [
    "### d) (0.5)\n",
    "\n",
    "- Get the predictions from the regression tree and use `ggplot` to create a histogram of the distribution of the predicted bike rides. Compare it to the histogram of the distribution of the true count of bike rides using the testing data (you can use the one produced for point (c) in the k-NN analysis).\n",
    "- Arrange the plots next to each other. Your graphs should have a proper title, proper axis’ labels and proper axis’ limits. Pick two different colors for the histograms, so to distinguish them clearly.\n",
    "- Compare the two histograms and assess how you think the regression tree model is performing, by simply looking at the plots."
   ]
  },
  {
   "cell_type": "code",
   "execution_count": 22,
   "metadata": {},
   "outputs": [
    {
     "name": "stderr",
     "output_type": "stream",
     "text": [
      "`stat_bin()` using `bins = 30`. Pick better value with `binwidth`.\n",
      "Warning message:\n",
      "\"Removed 2 rows containing missing values (geom_bar).\"`stat_bin()` using `bins = 30`. Pick better value with `binwidth`.\n",
      "Warning message:\n",
      "\"Removed 2 rows containing missing values (geom_bar).\""
     ]
    },
    {
     "data": {
      "image/png": "[encoded data removed]",
      "text/plain": [
       "plot without title"
      ]
     },
     "metadata": {},
     "output_type": "display_data"
    }
   ],
   "source": [
    "treePred <- predict(rtree, test_set)\n",
    "h_pred_tree <- ggplot(data= test_set, aes(x = treePred)) + \n",
    "        geom_histogram(colour = \"red\", fill = \"darkred\") +\n",
    "        xlim(0, 10000) + \n",
    "        ylim(0, 200) + \n",
    "        ggtitle(\"Tree, Distribution of Predictions\") +\n",
    "        labs(x = \"Predictions\")\n",
    "grid.arrange(count_dist,h_pred_tree, nrow=1)\n",
    "#The outcome of regression tree is discretized, as we only have 3 leaf nodes."
   ]
  },
  {
   "cell_type": "markdown",
   "metadata": {},
   "source": [
    "### e) (0.5)\n",
    "\n",
    "- Compute the prediction error for the regression tree and create a `ggplot` histogram for the distribution of the prediction error.\n",
    "- Additionally, create a `ggplot` scatterplot of the prediction error and the true count of bike rides. The plots should have a proper title, proper axis’ labels and proper axis limits. Arrange the plots next to each or on top of each other, as preferred. - Describe which insights you derive from the two plots. What can we say of the regression tree model performance, by simply looking at these two plots? "
   ]
  },
  {
   "cell_type": "code",
   "execution_count": 23,
   "metadata": {},
   "outputs": [
    {
     "name": "stderr",
     "output_type": "stream",
     "text": [
      "`stat_bin()` using `bins = 30`. Pick better value with `binwidth`.\n",
      "Warning message:\n",
      "\"Removed 2 rows containing missing values (geom_bar).\""
     ]
    },
    {
     "data": {
      "image/png": "[encoded data removed]",
      "text/plain": [
       "plot without title"
      ]
     },
     "metadata": {},
     "output_type": "display_data"
    }
   ],
   "source": [
    "tree_error <- treePred - test_set$cnt_bike\n",
    "h_error_tree<- ggplot(data= test_set, aes(x = tree_error)) + \n",
    "        geom_histogram(colour = \"darkred\", fill = \"red\") +\n",
    "        xlim (-5000, 8000) + \n",
    "        ylim (0, 40) + \n",
    "        ggtitle(\"Tree, Distribution of Prediction Error\") +\n",
    "        labs(x = \"Prediction Error\")\n",
    "p_error_tree<- ggplot(data = test_set, aes(x=cnt_bike, y=tree_error)) +\n",
    "        geom_point(size=2, color = \"red\") +\n",
    "        ylim (-4000, 6000) +\n",
    "        xlim (0, 10000) +\n",
    "        ggtitle(\"Tree, Prediction Error vs Actual Daily Count\") +\n",
    "        labs(x = \"Actual Daily Count\", y = \"Tree Prediction Error\")\n",
    "grid.arrange(h_error_tree, p_error_tree)\n",
    "#Insights: there are some large negative and positive prediction error which means highly \n",
    "#under-predictive and over-predicative. Overall, this prediction model is not good, as most of \n",
    "#the prediction error is not concentered around 0. For the scatterplot, as we discretize the \n",
    "#data to three leaf nodes, so it shows in this pattern. When the actual daily count is low there \n",
    "#are some over predictions, when the actual daily count is high, there are some under \n",
    "#predictions. The overall all is flat distributed."
   ]
  },
  {
   "cell_type": "markdown",
   "metadata": {},
   "source": [
    "### f) (0.3)\n",
    "\n",
    "Compute the ME and the RMSE for the regression tree. Interpret the results."
   ]
  },
  {
   "cell_type": "code",
   "execution_count": 24,
   "metadata": {},
   "outputs": [
    {
     "data": {
      "text/html": [
       "-23.4692314785024"
      ],
      "text/latex": [
       "-23.4692314785024"
      ],
      "text/markdown": [
       "-23.4692314785024"
      ],
      "text/plain": [
       "[1] -23.46923"
      ]
     },
     "metadata": {},
     "output_type": "display_data"
    },
    {
     "data": {
      "text/html": [
       "1510.98679971756"
      ],
      "text/latex": [
       "1510.98679971756"
      ],
      "text/markdown": [
       "1510.98679971756"
      ],
      "text/plain": [
       "[1] 1510.987"
      ]
     },
     "metadata": {},
     "output_type": "display_data"
    }
   ],
   "source": [
    "ME_tree <- mean(tree_error)\n",
    "ME_tree\n",
    "treeRMSE <- RMSE(pred = treePred, obs = test_set$cnt_bike)\n",
    "treeRMSE\n",
    "#Interpret: The ME number means in average, the KNN model is over predicting daily count. \n",
    "#The RMSE has the same unites of the outcome variable, from the number we generate, we \n",
    "#can say the prediction value is about 1510.99 count off about our actual daily count."
   ]
  },
  {
   "cell_type": "markdown",
   "metadata": {},
   "source": [
    "## Linear Regression – Finally, we want to train a linear regression model.\n",
    "\n",
    "### a) (0.1)\n",
    "\n",
    "Decide whether you need to standardize the data or not. If yes, explain why; then\n",
    "decide which attributes to include, proceed with the standardization and motivate your\n",
    "choices. If not, explain why."
   ]
  },
  {
   "cell_type": "markdown",
   "metadata": {},
   "source": [
    "We don’t need to standardize the data, as we are not calculating the distance to build our \n",
    "model of prediction."
   ]
  },
  {
   "cell_type": "markdown",
   "metadata": {},
   "source": [
    "### b) (0.3)\n",
    "\n",
    "Check and comment on whether the assumption of the outcome variable being somewhat normally distributed is satisfied or not."
   ]
  },
  {
   "cell_type": "code",
   "execution_count": 26,
   "metadata": {},
   "outputs": [
    {
     "name": "stderr",
     "output_type": "stream",
     "text": [
      "`stat_bin()` using `bins = 30`. Pick better value with `binwidth`.\n",
      "Warning message:\n",
      "\"Removed 2 rows containing missing values (geom_bar).\""
     ]
    },
    {
     "data": {
      "image/png": "[encoded data removed]",
      "text/plain": [
       "plot without title"
      ]
     },
     "metadata": {},
     "output_type": "display_data"
    }
   ],
   "source": [
    "ggplot(data = bike_day, aes(x = cnt_bike)) + \n",
    "        geom_histogram(colour = \"grey\", fill = \"green\") +\n",
    "        xlim(0,10000) + \n",
    "        ylim(0,80)+\n",
    "        ggtitle(\"Number of Bike-rides Distribution\") +\n",
    "        labs(x = \"Daily Bike-rides\")\n",
    "#The shape of the count distribution is similar to normal distribution; it is suitable \n",
    "#for liner regression. The assumption of the outcome variable being somewhat normally \n",
    "#distributed is satisfied"
   ]
  },
  {
   "cell_type": "markdown",
   "metadata": {},
   "source": [
    "### c) (0.3)\n",
    "\n",
    "Create a correlation matrix using the attributes used for prediction. Evaluate whether\n",
    "you should exclude any attribute from the linear regression model due to multicollinearity\n",
    "reasons. Clearly motivate your choices, either way."
   ]
  },
  {
   "cell_type": "code",
   "execution_count": 27,
   "metadata": {},
   "outputs": [
    {
     "data": {
      "text/html": [
       "<table>\n",
       "<thead><tr><th></th><th scope=col>atemp</th><th scope=col>hum</th><th scope=col>windspeed</th><th scope=col>temp</th><th scope=col>holiday</th><th scope=col>workingday</th></tr></thead>\n",
       "<tbody>\n",
       "\t<tr><th scope=row>atemp</th><td> 1.00000000 </td><td> 0.14000432 </td><td>-0.183668766</td><td> 0.99169797 </td><td>-0.032502593</td><td> 0.05215699 </td></tr>\n",
       "\t<tr><th scope=row>hum</th><td> 0.14000432 </td><td> 1.00000000 </td><td>-0.248509797</td><td> 0.12695001 </td><td>-0.015927598</td><td> 0.02432579 </td></tr>\n",
       "\t<tr><th scope=row>windspeed</th><td>-0.18366877 </td><td>-0.24850980 </td><td> 1.000000000</td><td>-0.15792514 </td><td> 0.006288675</td><td>-0.01879191 </td></tr>\n",
       "\t<tr><th scope=row>temp</th><td> 0.99169797 </td><td> 0.12695001 </td><td>-0.157925143</td><td> 1.00000000 </td><td>-0.028556898</td><td> 0.05267624 </td></tr>\n",
       "\t<tr><th scope=row>holiday</th><td>-0.03250259 </td><td>-0.01592760 </td><td> 0.006288675</td><td>-0.02855690 </td><td> 1.000000000</td><td>-0.25302270 </td></tr>\n",
       "\t<tr><th scope=row>workingday</th><td> 0.05215699 </td><td> 0.02432579 </td><td>-0.018791911</td><td> 0.05267624 </td><td>-0.253022700</td><td> 1.00000000 </td></tr>\n",
       "</tbody>\n",
       "</table>\n"
      ],
      "text/latex": [
       "\\begin{tabular}{r|llllll}\n",
       "  & atemp & hum & windspeed & temp & holiday & workingday\\\\\n",
       "\\hline\n",
       "\tatemp &  1.00000000  &  0.14000432  & -0.183668766 &  0.99169797  & -0.032502593 &  0.05215699 \\\\\n",
       "\thum &  0.14000432  &  1.00000000  & -0.248509797 &  0.12695001  & -0.015927598 &  0.02432579 \\\\\n",
       "\twindspeed & -0.18366877  & -0.24850980  &  1.000000000 & -0.15792514  &  0.006288675 & -0.01879191 \\\\\n",
       "\ttemp &  0.99169797  &  0.12695001  & -0.157925143 &  1.00000000  & -0.028556898 &  0.05267624 \\\\\n",
       "\tholiday & -0.03250259  & -0.01592760  &  0.006288675 & -0.02855690  &  1.000000000 & -0.25302270 \\\\\n",
       "\tworkingday &  0.05215699  &  0.02432579  & -0.018791911 &  0.05267624  & -0.253022700 &  1.00000000 \\\\\n",
       "\\end{tabular}\n"
      ],
      "text/markdown": [
       "\n",
       "| <!--/--> | atemp | hum | windspeed | temp | holiday | workingday |\n",
       "|---|---|---|---|---|---|---|\n",
       "| atemp |  1.00000000  |  0.14000432  | -0.183668766 |  0.99169797  | -0.032502593 |  0.05215699  |\n",
       "| hum |  0.14000432  |  1.00000000  | -0.248509797 |  0.12695001  | -0.015927598 |  0.02432579  |\n",
       "| windspeed | -0.18366877  | -0.24850980  |  1.000000000 | -0.15792514  |  0.006288675 | -0.01879191  |\n",
       "| temp |  0.99169797  |  0.12695001  | -0.157925143 |  1.00000000  | -0.028556898 |  0.05267624  |\n",
       "| holiday | -0.03250259  | -0.01592760  |  0.006288675 | -0.02855690  |  1.000000000 | -0.25302270  |\n",
       "| workingday |  0.05215699  |  0.02432579  | -0.018791911 |  0.05267624  | -0.253022700 |  1.00000000  |\n",
       "\n"
      ],
      "text/plain": [
       "           atemp       hum         windspeed    temp        holiday     \n",
       "atemp       1.00000000  0.14000432 -0.183668766  0.99169797 -0.032502593\n",
       "hum         0.14000432  1.00000000 -0.248509797  0.12695001 -0.015927598\n",
       "windspeed  -0.18366877 -0.24850980  1.000000000 -0.15792514  0.006288675\n",
       "temp        0.99169797  0.12695001 -0.157925143  1.00000000 -0.028556898\n",
       "holiday    -0.03250259 -0.01592760  0.006288675 -0.02855690  1.000000000\n",
       "workingday  0.05215699  0.02432579 -0.018791911  0.05267624 -0.253022700\n",
       "           workingday \n",
       "atemp       0.05215699\n",
       "hum         0.02432579\n",
       "windspeed  -0.01879191\n",
       "temp        0.05267624\n",
       "holiday    -0.25302270\n",
       "workingday  1.00000000"
      ]
     },
     "metadata": {},
     "output_type": "display_data"
    }
   ],
   "source": [
    "cor(bike_day[, c(2:7)])"
   ]
  },
  {
   "cell_type": "markdown",
   "metadata": {},
   "source": [
    "### d) (0.2)\n",
    "\n",
    "Train a linear regression model on the chosen attributed and summarize the final model. Report the results."
   ]
  },
  {
   "cell_type": "code",
   "execution_count": 30,
   "metadata": {},
   "outputs": [
    {
     "data": {
      "text/plain": [
       "Linear Regression \n",
       "\n",
       "515 samples\n",
       "  5 predictor\n",
       "\n",
       "No pre-processing\n",
       "Resampling: Bootstrapped (25 reps) \n",
       "Summary of sample sizes: 515, 515, 515, 515, 515, 515, ... \n",
       "Resampling results:\n",
       "\n",
       "  RMSE      Rsquared   MAE     \n",
       "  1448.386  0.4479112  1187.469\n",
       "\n",
       "Tuning parameter 'intercept' was held constant at a value of TRUE"
      ]
     },
     "metadata": {},
     "output_type": "display_data"
    },
    {
     "data": {
      "text/plain": [
       "\n",
       "Call:\n",
       "lm(formula = .outcome ~ ., data = dat)\n",
       "\n",
       "Residuals:\n",
       "    Min      1Q  Median      3Q     Max \n",
       "-4726.8 -1014.6  -181.2  1090.6  4314.3 \n",
       "\n",
       "Coefficients:\n",
       "            Estimate Std. Error t value             Pr(>|t|)    \n",
       "(Intercept) 3681.962    424.074   8.682 < 0.0000000000000002 ***\n",
       "atemp        144.908      7.891  18.363 < 0.0000000000000002 ***\n",
       "hum          -28.579      4.714  -6.062        0.00000000262 ***\n",
       "windspeed    -74.496     12.636  -5.896        0.00000000680 ***\n",
       "holiday     -116.517    402.216  -0.290                0.772    \n",
       "workingday   181.436    142.057   1.277                0.202    \n",
       "---\n",
       "Signif. codes:  0 '***' 0.001 '**' 0.01 '*' 0.05 '.' 0.1 ' ' 1\n",
       "\n",
       "Residual standard error: 1437 on 509 degrees of freedom\n",
       "Multiple R-squared:  0.4522,\tAdjusted R-squared:  0.4468 \n",
       "F-statistic: 84.02 on 5 and 509 DF,  p-value: < 0.00000000000000022\n"
      ]
     },
     "metadata": {},
     "output_type": "display_data"
    }
   ],
   "source": [
    "train_set_lr <- train_set %>% select(1:4, 6:7) \n",
    "test_set_lr <- test_set %>% select(1:4, 6:7)\n",
    "lin_reg <- train(cnt_bike~., train_set_lr, method = \"lm\")\n",
    "lin_reg\n",
    "fit <- lin_reg$finalModel\n",
    "options(scipen = 999)\n",
    "summary(fit)"
   ]
  },
  {
   "cell_type": "markdown",
   "metadata": {},
   "source": [
    "### e) (0.5)\n",
    "\n",
    "- Get the predictions from the linear regression model and use `ggplot` to create a histogram of the distribution of the predicted bike rides.\n",
    "- Compare it to the histogram of the distribution of the true count of bike rides using the testing data (you can use the one produced for point (c) in the k-NN analysis).\n",
    "- Arrange the plots next to each other. Your graphs should have a proper title, proper axis’ labels and proper axis’ limits. Pick two different colors for the histograms, so to distinguish them clearly. Compare the two histograms and assess "
   ]
  },
  {
   "cell_type": "code",
   "execution_count": 32,
   "metadata": {},
   "outputs": [
    {
     "name": "stderr",
     "output_type": "stream",
     "text": [
      "`stat_bin()` using `bins = 30`. Pick better value with `binwidth`.\n",
      "Warning message:\n",
      "\"Removed 2 rows containing missing values (geom_bar).\"`stat_bin()` using `bins = 30`. Pick better value with `binwidth`.\n",
      "Warning message:\n",
      "\"Removed 2 rows containing missing values (geom_bar).\""
     ]
    },
    {
     "data": {
      "image/png": "[encoded data removed]",
      "text/plain": [
       "plot without title"
      ]
     },
     "metadata": {},
     "output_type": "display_data"
    }
   ],
   "source": [
    "lin_pred <- predict(lin_reg, newdata = test_set_lr)\n",
    "h_pred_lm <- ggplot(data = test_set_lr, aes(x = lin_pred)) + \n",
    "        geom_histogram(colour = \"seagreen\", fill = \"darkgreen\") +\n",
    "        xlim(0, 10000) + \n",
    "        ylim(0, 80) + \n",
    "        ggtitle(\"Linear Reg., Distribution of Predictions\") +\n",
    "        labs(x = \"Predicted Daily Count\")\n",
    "grid.arrange(count_dist, h_pred_lm, nrow = 1)\n",
    "#The predict is similar to the real daily count distribution, although \n",
    "#there are some underpredictions and overpredictions. Overall is good."
   ]
  },
  {
   "cell_type": "markdown",
   "metadata": {},
   "source": [
    "### f) (0.5)\n",
    "\n",
    "- Compute the prediction error for the linear regression model and create a `ggplot` histogram for the distribution of the prediction error.\n",
    "- Additionally, create a `ggplot` scatterplot of the prediction error and the true count of bike rides. The plots should have a proper title, proper axis’ labels and proper axis limits.\n",
    "- Arrange the plots next to each or on top of each other, as preferred. Describe which insights you derive from the two plots. What can we say of the linear regression model performance, by simply looking at these two plots?"
   ]
  },
  {
   "cell_type": "code",
   "execution_count": 36,
   "metadata": {},
   "outputs": [
    {
     "name": "stderr",
     "output_type": "stream",
     "text": [
      "`stat_bin()` using `bins = 30`. Pick better value with `binwidth`.\n"
     ]
    },
    {
     "data": {
      "image/png": "[encoded data removed]",
      "text/plain": [
       "plot without title"
      ]
     },
     "metadata": {},
     "output_type": "display_data"
    }
   ],
   "source": [
    "lm_error <- lin_pred - test_set_lr$cnt_bike\n",
    "h_error_lm <- ggplot(data = test_set_lr, aes(x = lm_error)) + \n",
    "        geom_histogram(colour = \"darkgreen\", fill = \"seagreen\") +\n",
    "        xlim(-5000, 5000) + \n",
    "        ylim(0, 40) + \n",
    "        ggtitle(\"Linear Reg., Distribution of Prediction Error\") +\n",
    "        labs(x = \"Prediction Error\")\n",
    "p_error_lm <- ggplot(data = test_set_lr, aes(x = cnt_bike, y = lm_error)) +\n",
    "        geom_point(size = 2, color = \"seagreen\") +\n",
    "        ylim(-4000, 6000) +\n",
    "        xlim(0, 10000) +\n",
    "        ggtitle(\"Linear Reg., Prediction Error vs Actual Daily Count\") +\n",
    "        labs(x = \"Actual Daily Count\", y = \"Linear Reg. Prediction Error\")\n",
    "grid.arrange(h_error_lm,p_error_lm)\n",
    "#Insights: there are some large negative and positive prediction error which means highly \n",
    "#under-predictive and over-predicative. Overall, this prediction model is good, as most of the \n",
    "#prediction error is concentered around 0. From the scatterplot, when the actual daily count is \n",
    "#low there are some over predictions, when the actual daily count is high, there are some \n",
    "#under predictions. The overall all distribute around 0.\n"
   ]
  },
  {
   "cell_type": "markdown",
   "metadata": {},
   "source": [
    "### g) (0.3)\n",
    "\n",
    "Compute the ME and the RMSE for the linear regression model. Interpret the results."
   ]
  },
  {
   "cell_type": "code",
   "execution_count": 38,
   "metadata": {},
   "outputs": [
    {
     "data": {
      "text/html": [
       "-33.8210100659179"
      ],
      "text/latex": [
       "-33.8210100659179"
      ],
      "text/markdown": [
       "-33.8210100659179"
      ],
      "text/plain": [
       "[1] -33.82101"
      ]
     },
     "metadata": {},
     "output_type": "display_data"
    },
    {
     "data": {
      "text/html": [
       "1394.42529610372"
      ],
      "text/latex": [
       "1394.42529610372"
      ],
      "text/markdown": [
       "1394.42529610372"
      ],
      "text/plain": [
       "[1] 1394.425"
      ]
     },
     "metadata": {},
     "output_type": "display_data"
    }
   ],
   "source": [
    "ME_lin <- mean(lm_error)\n",
    "ME_lin\n",
    "lin_RMSE <- RMSE(pred = lin_pred, obs = test_set_lr$cnt_bike)\n",
    "lin_RMSE\n",
    "#Interpret: The ME number means in average, the KNN model is under predicting daily count. \n",
    "#The RMSE has the same unites of the outcome variable, from the number we generate, we \n",
    "#can say the prediction value is about 1394.43 count off about our actual daily count."
   ]
  },
  {
   "cell_type": "markdown",
   "metadata": {},
   "source": [
    "## Comparing the three models (0.5)\n",
    "\n",
    "- Report the ME and RMSE for the three models: k-NN, regression tree and linear regression.\n",
    "- Also, show the histograms for the distribution of the prediction errors for k-NN, regression tree and linear regression next to each other. By looking at the errors table and the histograms, which model do you think is performing better? Why do you think that model(s) may be performing better than the other(s)?"
   ]
  },
  {
   "cell_type": "code",
   "execution_count": 43,
   "metadata": {},
   "outputs": [
    {
     "data": {
      "text/html": [
       "90.6100823045268"
      ],
      "text/latex": [
       "90.6100823045268"
      ],
      "text/markdown": [
       "90.6100823045268"
      ],
      "text/plain": [
       "[1] 90.61008"
      ]
     },
     "metadata": {},
     "output_type": "display_data"
    },
    {
     "data": {
      "text/html": [
       "1346.5662932517"
      ],
      "text/latex": [
       "1346.5662932517"
      ],
      "text/markdown": [
       "1346.5662932517"
      ],
      "text/plain": [
       "[1] 1346.566"
      ]
     },
     "metadata": {},
     "output_type": "display_data"
    },
    {
     "data": {
      "text/html": [
       "-23.4692314785024"
      ],
      "text/latex": [
       "-23.4692314785024"
      ],
      "text/markdown": [
       "-23.4692314785024"
      ],
      "text/plain": [
       "[1] -23.46923"
      ]
     },
     "metadata": {},
     "output_type": "display_data"
    },
    {
     "data": {
      "text/html": [
       "1510.98679971756"
      ],
      "text/latex": [
       "1510.98679971756"
      ],
      "text/markdown": [
       "1510.98679971756"
      ],
      "text/plain": [
       "[1] 1510.987"
      ]
     },
     "metadata": {},
     "output_type": "display_data"
    },
    {
     "data": {
      "text/html": [
       "-33.8210100659179"
      ],
      "text/latex": [
       "-33.8210100659179"
      ],
      "text/markdown": [
       "-33.8210100659179"
      ],
      "text/plain": [
       "[1] -33.82101"
      ]
     },
     "metadata": {},
     "output_type": "display_data"
    },
    {
     "data": {
      "text/html": [
       "1394.42529610372"
      ],
      "text/latex": [
       "1394.42529610372"
      ],
      "text/markdown": [
       "1394.42529610372"
      ],
      "text/plain": [
       "[1] 1394.425"
      ]
     },
     "metadata": {},
     "output_type": "display_data"
    }
   ],
   "source": [
    "#ME and RMSE for k-NN (1-2 rows):\n",
    "knnME \n",
    "knnRMSE\n",
    "#ME and RMSE for regression tree (3-4 rows):\n",
    "ME_tree \n",
    "treeRMSE\n",
    "#ME and RMSE for linear regression(5-6 rows):\n",
    "ME_lin \n",
    "lin_RMSE\n",
    "#First we can camper the RMSE, which is the most common use one. From our learning, the \n",
    "#lower the RMSE the better the prediction. So, from the RMSE number, KNN perform best and \n",
    "#Linear Regression second, and the Regression tree is the lowest one. From other attributes, \n",
    "#the KNN and the Linear Regression are very close. So, we would like to choose either KNN or \n",
    "#Linear Regression."
   ]
  },
  {
   "cell_type": "code",
   "execution_count": 45,
   "metadata": {},
   "outputs": [
    {
     "name": "stderr",
     "output_type": "stream",
     "text": [
      "`stat_bin()` using `bins = 30`. Pick better value with `binwidth`.\n",
      "Warning message:\n",
      "\"Removed 2 rows containing missing values (geom_bar).\"`stat_bin()` using `bins = 30`. Pick better value with `binwidth`.\n",
      "Warning message:\n",
      "\"Removed 2 rows containing missing values (geom_bar).\"`stat_bin()` using `bins = 30`. Pick better value with `binwidth`.\n"
     ]
    },
    {
     "data": {
      "image/png": "[encoded data removed]",
      "text/plain": [
       "plot without title"
      ]
     },
     "metadata": {},
     "output_type": "display_data"
    }
   ],
   "source": [
    "grid.arrange(h_error_knn,h_error_tree,h_error_lm, nrow = 2)"
   ]
  },
  {
   "cell_type": "markdown",
   "metadata": {},
   "source": [
    "From histograms distribution, more concentrated means predict better without lots under \n",
    "prediction or over prediction. The KNN one looks ok, the Regression tree one looks spread, \n",
    "and the Linear Regression also looks ok, with concentrated data around 0. So, we would like \n",
    "to choose either KNN or Linear Regression."
   ]
  }
 ],
 "metadata": {
  "kernelspec": {
   "display_name": "Python 3",
   "language": "python",
   "name": "python3"
  },
  "language_info": {
   "codemirror_mode": {
    "name": "ipython",
    "version": 3
   },
   "file_extension": ".py",
   "mimetype": "text/x-python",
   "name": "python",
   "nbconvert_exporter": "python",
   "pygments_lexer": "ipython3",
   "version": "3.8.5"
  },
  "toc-autonumbering": false
 },
 "nbformat": 4,
 "nbformat_minor": 4
}
