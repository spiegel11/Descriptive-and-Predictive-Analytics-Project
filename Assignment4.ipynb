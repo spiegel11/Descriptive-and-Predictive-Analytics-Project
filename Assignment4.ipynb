{
 "cells": [
  {
   "cell_type": "markdown",
   "metadata": {},
   "source": [
    "# Homework 4: Classification\n",
    "\n",
    "## Instructions\n",
    "\n",
    "Your HW submission should consist of **one pdf or HTML file** exported from the Jupyter Lab containing the answers to all the questions included in the homework.\n",
    "\n",
    "You will use Jupyter Lab exclusively for this homework. All the cells in this notebook is editable. You need to edit, insert `markdown` and `code` cells to complete the homework.\n",
    "\n",
    "If you are having trouble with installing the package, first look at the [troubleshooting guide](https://www.notion.so/alanchen/R-FAQ-Troubleshooting-Guide-97dae246efad44b293ffb7b13f8a959f) or consult the instructor. Or you can use MyBinder: https://z.umn.edu/idsc4444mybinder\n",
    "\n",
    "> If you are running this notebook on MyBinder, be sure to download your notebook, otherwise all your progress will be lost. You will need to reupload your notebook to MyBinder next time to restore progress.\n",
    "\n",
    "> If you are running this notebook locally on your own machine, you can simply save the notebook.\n",
    "\n",
    "> AVOID writing all your codes in a single cell if there are multiple lines with meaningful outputs. Separate them and insert new cells as you see fit."
   ]
  },
  {
   "cell_type": "markdown",
   "metadata": {},
   "source": [
    "# Part 1: Theoretical Exercise (3 points)\n",
    "\n",
    "Assume you need to build a model to predict to which class a customer belongs to\n",
    "among three that categorize customers based on how much they have been spending\n",
    "at your store: big spender (green points), medium spender (blue points) and low\n",
    "spender (orange points).\n",
    "\n",
    "You have a training dataset with a total of 75 data points (30 blue, 20 orange, 25\n",
    "green) and you have two attributes/predictors you are considering: the customer’s\n",
    "age and the customer’s income. The graph below shows you a plot of the data, using\n",
    "these two attributes.\n",
    "\n",
    "<img src=\"https://i.loli.net/2020/11/25/mSQsja8iEdV45kx.png\" width=\"50%\" style=\"margin: auto\">\n",
    "\n",
    "You decide to train a decision tree on the dataset. The decision tree uses the concept\n",
    "of *entropy* to decide on which attribute/value to partition your dataset.\n",
    "\n",
    "Feel free to use Excel/Numbers to compute the entropy (remember, you need to use log in base\n",
    "2 for your calculations, i.e. $\\log_2(\\cdot)$. To do that, simply use the log function in Excel/Numbers, and then\n",
    "specify first the number you want to compute the log for, and after the comma,\n",
    "specify 2 for the base), but **you must report the steps of your calculations or you will\n",
    "lose points**."
   ]
  },
  {
   "cell_type": "markdown",
   "metadata": {},
   "source": [
    "## a) (0.5 point)\n",
    "\n",
    "Compute the Entropy for the entire dataset and interpret the result.\n",
    "Show your calculations. Feel free to round results to three decimals.\n",
    "\n",
    "**Answer**"
   ]
  },
  {
   "cell_type": "markdown",
   "metadata": {},
   "source": [
    "**Write your answer in this markdown cell**"
   ]
  },
  {
   "cell_type": "markdown",
   "metadata": {},
   "source": [
    "## b) (1 point)\n",
    "\n",
    "Assume that the decision tree algorithm is evaluating which attribute-value to use for the root node, and it is considering the attribute `Income` at value 50000 as candidate.\n",
    "\n",
    "The graph below shows you the resulting partitions and the respective data\n",
    "composition (so the partition to the left of the red line would be for `Income < 50000` and the partition to the right for `Income >= 50000`).\n",
    "\n",
    "- Compute the entropy of each partition and compute the weighted entropy of\n",
    "the two. Interpret the result.\n",
    "\n",
    "- Then, compare it to the entropy of the entire\n",
    "dataset (computed in point a) to determine the information gain.You must\n",
    "show your calculations. Feel free to round results to three decimals.\n",
    "\n",
    "<img src=\"https://i.loli.net/2020/11/25/RIgFmjolLW97DY2.png\" width=\"70%\" style=\"margin: auto\">\n",
    "\n",
    "**Answer**"
   ]
  },
  {
   "cell_type": "markdown",
   "metadata": {},
   "source": [
    "**Write your answer in this markdown cell**"
   ]
  },
  {
   "cell_type": "markdown",
   "metadata": {},
   "source": [
    "## c) (1 point)\n",
    "\n",
    "Next, assume the decision tree is evaluating to split on the attribute `Income` at 75000.\n",
    "\n",
    "The graph below shows you the resulting partitions and data composition of\n",
    "the partitions: (so the partition to the left of the red line would be for `Income < 75000` and the partition to the right for `Income >= 75000`).\n",
    "\n",
    "- Repeat the same process as before to compute the information gain.\n",
    "- Interpret your result.\n",
    "- You must show your calculations. Feel free to round results to two decimals.\n",
    "\n",
    "<img src=\"https://i.loli.net/2020/11/25/e1aWSpmKuZbQhAj.png\" width=\"70%\" style=\"margin: auto\">\n",
    "\n",
    "**Answer**"
   ]
  },
  {
   "cell_type": "markdown",
   "metadata": {},
   "source": [
    "**Write your answer in this markdown cell**"
   ]
  },
  {
   "cell_type": "markdown",
   "metadata": {},
   "source": [
    "d) (0.5 point) Finally, compare the information gains obtained in point b) and c)\n",
    "and determine which attribute-value the decision tree will pick first."
   ]
  },
  {
   "cell_type": "markdown",
   "metadata": {},
   "source": [
    "**Write your answer in this markdown cell**"
   ]
  },
  {
   "cell_type": "markdown",
   "metadata": {},
   "source": [
    "# Part 2: Classification in R (7 points total)\n",
    "\n",
    "For this question, you need to download two datasets: `credit_long.csv` and\n",
    "`credit_short.csv`.\n",
    "\n",
    "Both datasets contain data about credit cards balances of several individuals. For\n",
    "each observation (individual), you have the following attributes:\n",
    "\n",
    "- `LIMIT_BAL`: a continuous variable, capturing the credit limit on the customer’s\n",
    "credit card\n",
    "- `GENDER`: 1 = male, 2 = female\n",
    "- `MARRIAGE`: 1 = married, 2 = single, 3 = other\n",
    "- `AGE`: the age in years\n",
    "- `BILL_AMT1` to `BILL_AMT6`: numerical variables containing the credit card balances of the previous 6 months. `BILL_AMT1` is the most recent credit balance (so for last month) while `BILL_AMT6` is the credit balance of 6 months ago.\n",
    "- `PAY_AMT1` to `PAY_AMT6`: numerical variables containing the amount paid by the individual for each of the past 6 months. PAY_AMT1 is the most recent payment (so, payment made last month) while PAY_AMT6 is the amount paid\n",
    "6 months ago.\n",
    "- `DEFAULT`: our *Y*, the class variable. Default = NO, if the individual did not default this month; Default = YES if the individual did default.\n",
    "\n",
    "You want to build a classification model to predict which customers will default next\n",
    "month, based on the attributes available"
   ]
  },
  {
   "cell_type": "markdown",
   "metadata": {},
   "source": [
    "## Q1 (3 points)"
   ]
  },
  {
   "cell_type": "markdown",
   "metadata": {},
   "source": [
    "### a) (0.3)\n",
    "\n",
    "Load the data and split it into 80% training data and 20% test data. Simply show the code."
   ]
  },
  {
   "cell_type": "code",
   "execution_count": 7,
   "metadata": {},
   "outputs": [],
   "source": [
    "# your code starts here\n",
    "#library(\"caret\")\n",
    "#library(\"e1071\")\n",
    "#library(\"rpart\")\n",
    "#library(\"rpart.plot\")\n",
    "credit_short <- read.csv(\"credit_short.csv\")\n",
    "train_rows <- createDataPartition(y = credit_short$DEFAULT, p = 0.8, list = FALSE)\n",
    "data_train <- credit_short[train_rows,]\n",
    "data_test <- credit_short[-train_rows,]\n"
   ]
  },
  {
   "cell_type": "markdown",
   "metadata": {},
   "source": [
    "### b) (0.3)\n",
    "\n",
    "Assess whether you need to standardize the data. If yes, explain why\n",
    "and assess which attributes you should standardize and apply the\n",
    "standardization. If no, explain why. Report the code and your explanation."
   ]
  },
  {
   "cell_type": "code",
   "execution_count": 9,
   "metadata": {},
   "outputs": [
    {
     "data": {
      "text/html": [
       "<table>\n",
       "<thead><tr><th></th><th scope=col>LIMIT_BAL</th><th scope=col>GENDER</th><th scope=col>MARRIAGE</th><th scope=col>AGE</th><th scope=col>BILL_AMT1</th><th scope=col>BILL_AMT2</th><th scope=col>BILL_AMT3</th><th scope=col>BILL_AMT4</th><th scope=col>BILL_AMT5</th><th scope=col>BILL_AMT6</th><th scope=col>PAY_AMT1</th><th scope=col>PAY_AMT2</th><th scope=col>PAY_AMT3</th><th scope=col>PAY_AMT4</th><th scope=col>PAY_AMT5</th><th scope=col>PAY_AMT6</th><th scope=col>DEFAULT</th></tr></thead>\n",
       "<tbody>\n",
       "\t<tr><th scope=row>1</th><td> 1.3046613 </td><td>0.8193742  </td><td>-1.0463099 </td><td>-0.8188820 </td><td>-0.6063222 </td><td>-0.6417107 </td><td>-0.2635716 </td><td> 0.1192323 </td><td>-0.16031886</td><td>-0.46776543</td><td>-0.1319181 </td><td> 1.2078228 </td><td> 1.7955629 </td><td> 0.01935552</td><td> 0.4715413 </td><td> 4.2196306 </td><td>NO         </td></tr>\n",
       "\t<tr><th scope=row>3</th><td>-0.2968753 </td><td>0.8193742  </td><td> 0.8744059 </td><td>-1.0361281 </td><td>-0.5921251 </td><td>-0.5690967 </td><td>-0.5380710 </td><td>-0.5140843 </td><td>-0.49767069</td><td>-0.48098624</td><td>-0.2966854 </td><td>-0.2493754 </td><td>-0.3439471 </td><td>-0.29952894</td><td>-0.3212864 </td><td>-0.2481537 </td><td>YES        </td></tr>\n",
       "\t<tr><th scope=row>4</th><td>-0.6781935 </td><td>0.8193742  </td><td>-1.0463099 </td><td>-0.6016359 </td><td> 0.2301654 </td><td> 0.2530121 </td><td> 0.4042544 </td><td> 0.4724804 </td><td> 0.05885938</td><td>-0.03871711</td><td>-0.3733151 </td><td> 0.1391690 </td><td>-0.3699330 </td><td>-0.21553278</td><td>-0.2539358 </td><td>-0.2084536 </td><td>YES        </td></tr>\n",
       "\t<tr><th scope=row>5</th><td>-0.5256662 </td><td>0.8193742  </td><td>-1.0463099 </td><td>-0.4930129 </td><td> 0.3079843 </td><td> 0.3730842 </td><td> 0.4399112 </td><td> 0.5703070 </td><td> 0.59114697</td><td> 0.29262282</td><td>-0.1907208 </td><td>-0.1566285 </td><td>-0.1172918 </td><td>-0.11977168</td><td>-0.2037143 </td><td>-0.1725667 </td><td>NO         </td></tr>\n",
       "\t<tr><th scope=row>6</th><td> 0.2369702 </td><td>0.8193742  </td><td>-1.0463099 </td><td> 1.6794481 </td><td>-0.6961133 </td><td>-0.6750672 </td><td>-0.6795953 </td><td>-0.6707157 </td><td>-0.67136898</td><td>-0.66403685</td><td>-0.2920956 </td><td>-0.3101965 </td><td>-0.3699330 </td><td>-0.32497404</td><td>-0.3486931 </td><td>-0.2763617 </td><td>NO         </td></tr>\n",
       "\t<tr><th scope=row>7</th><td>-0.9069845 </td><td>0.8193742  </td><td>-1.0463099 </td><td> 1.0277098 </td><td>-0.6614417 </td><td>-0.6647056 </td><td>-0.3821552 </td><td>-0.3563185 </td><td>-0.34242436</td><td>-0.34520262</td><td>-0.2398117 </td><td> 0.7492087 </td><td>-0.2830244 </td><td>-0.25650485</td><td>-0.2755842 </td><td>-0.2131549 </td><td>NO         </td></tr>\n",
       "</tbody>\n",
       "</table>\n"
      ],
      "text/latex": [
       "\\begin{tabular}{r|lllllllllllllllll}\n",
       "  & LIMIT\\_BAL & GENDER & MARRIAGE & AGE & BILL\\_AMT1 & BILL\\_AMT2 & BILL\\_AMT3 & BILL\\_AMT4 & BILL\\_AMT5 & BILL\\_AMT6 & PAY\\_AMT1 & PAY\\_AMT2 & PAY\\_AMT3 & PAY\\_AMT4 & PAY\\_AMT5 & PAY\\_AMT6 & DEFAULT\\\\\n",
       "\\hline\n",
       "\t1 &  1.3046613  & 0.8193742   & -1.0463099  & -0.8188820  & -0.6063222  & -0.6417107  & -0.2635716  &  0.1192323  & -0.16031886 & -0.46776543 & -0.1319181  &  1.2078228  &  1.7955629  &  0.01935552 &  0.4715413  &  4.2196306  & NO         \\\\\n",
       "\t3 & -0.2968753  & 0.8193742   &  0.8744059  & -1.0361281  & -0.5921251  & -0.5690967  & -0.5380710  & -0.5140843  & -0.49767069 & -0.48098624 & -0.2966854  & -0.2493754  & -0.3439471  & -0.29952894 & -0.3212864  & -0.2481537  & YES        \\\\\n",
       "\t4 & -0.6781935  & 0.8193742   & -1.0463099  & -0.6016359  &  0.2301654  &  0.2530121  &  0.4042544  &  0.4724804  &  0.05885938 & -0.03871711 & -0.3733151  &  0.1391690  & -0.3699330  & -0.21553278 & -0.2539358  & -0.2084536  & YES        \\\\\n",
       "\t5 & -0.5256662  & 0.8193742   & -1.0463099  & -0.4930129  &  0.3079843  &  0.3730842  &  0.4399112  &  0.5703070  &  0.59114697 &  0.29262282 & -0.1907208  & -0.1566285  & -0.1172918  & -0.11977168 & -0.2037143  & -0.1725667  & NO         \\\\\n",
       "\t6 &  0.2369702  & 0.8193742   & -1.0463099  &  1.6794481  & -0.6961133  & -0.6750672  & -0.6795953  & -0.6707157  & -0.67136898 & -0.66403685 & -0.2920956  & -0.3101965  & -0.3699330  & -0.32497404 & -0.3486931  & -0.2763617  & NO         \\\\\n",
       "\t7 & -0.9069845  & 0.8193742   & -1.0463099  &  1.0277098  & -0.6614417  & -0.6647056  & -0.3821552  & -0.3563185  & -0.34242436 & -0.34520262 & -0.2398117  &  0.7492087  & -0.2830244  & -0.25650485 & -0.2755842  & -0.2131549  & NO         \\\\\n",
       "\\end{tabular}\n"
      ],
      "text/markdown": [
       "\n",
       "| <!--/--> | LIMIT_BAL | GENDER | MARRIAGE | AGE | BILL_AMT1 | BILL_AMT2 | BILL_AMT3 | BILL_AMT4 | BILL_AMT5 | BILL_AMT6 | PAY_AMT1 | PAY_AMT2 | PAY_AMT3 | PAY_AMT4 | PAY_AMT5 | PAY_AMT6 | DEFAULT |\n",
       "|---|---|---|---|---|---|---|---|---|---|---|---|---|---|---|---|---|---|\n",
       "| 1 |  1.3046613  | 0.8193742   | -1.0463099  | -0.8188820  | -0.6063222  | -0.6417107  | -0.2635716  |  0.1192323  | -0.16031886 | -0.46776543 | -0.1319181  |  1.2078228  |  1.7955629  |  0.01935552 |  0.4715413  |  4.2196306  | NO          |\n",
       "| 3 | -0.2968753  | 0.8193742   |  0.8744059  | -1.0361281  | -0.5921251  | -0.5690967  | -0.5380710  | -0.5140843  | -0.49767069 | -0.48098624 | -0.2966854  | -0.2493754  | -0.3439471  | -0.29952894 | -0.3212864  | -0.2481537  | YES         |\n",
       "| 4 | -0.6781935  | 0.8193742   | -1.0463099  | -0.6016359  |  0.2301654  |  0.2530121  |  0.4042544  |  0.4724804  |  0.05885938 | -0.03871711 | -0.3733151  |  0.1391690  | -0.3699330  | -0.21553278 | -0.2539358  | -0.2084536  | YES         |\n",
       "| 5 | -0.5256662  | 0.8193742   | -1.0463099  | -0.4930129  |  0.3079843  |  0.3730842  |  0.4399112  |  0.5703070  |  0.59114697 |  0.29262282 | -0.1907208  | -0.1566285  | -0.1172918  | -0.11977168 | -0.2037143  | -0.1725667  | NO          |\n",
       "| 6 |  0.2369702  | 0.8193742   | -1.0463099  |  1.6794481  | -0.6961133  | -0.6750672  | -0.6795953  | -0.6707157  | -0.67136898 | -0.66403685 | -0.2920956  | -0.3101965  | -0.3699330  | -0.32497404 | -0.3486931  | -0.2763617  | NO          |\n",
       "| 7 | -0.9069845  | 0.8193742   | -1.0463099  |  1.0277098  | -0.6614417  | -0.6647056  | -0.3821552  | -0.3563185  | -0.34242436 | -0.34520262 | -0.2398117  |  0.7492087  | -0.2830244  | -0.25650485 | -0.2755842  | -0.2131549  | NO          |\n",
       "\n"
      ],
      "text/plain": [
       "  LIMIT_BAL  GENDER    MARRIAGE   AGE        BILL_AMT1  BILL_AMT2  BILL_AMT3 \n",
       "1  1.3046613 0.8193742 -1.0463099 -0.8188820 -0.6063222 -0.6417107 -0.2635716\n",
       "3 -0.2968753 0.8193742  0.8744059 -1.0361281 -0.5921251 -0.5690967 -0.5380710\n",
       "4 -0.6781935 0.8193742 -1.0463099 -0.6016359  0.2301654  0.2530121  0.4042544\n",
       "5 -0.5256662 0.8193742 -1.0463099 -0.4930129  0.3079843  0.3730842  0.4399112\n",
       "6  0.2369702 0.8193742 -1.0463099  1.6794481 -0.6961133 -0.6750672 -0.6795953\n",
       "7 -0.9069845 0.8193742 -1.0463099  1.0277098 -0.6614417 -0.6647056 -0.3821552\n",
       "  BILL_AMT4  BILL_AMT5   BILL_AMT6   PAY_AMT1   PAY_AMT2   PAY_AMT3  \n",
       "1  0.1192323 -0.16031886 -0.46776543 -0.1319181  1.2078228  1.7955629\n",
       "3 -0.5140843 -0.49767069 -0.48098624 -0.2966854 -0.2493754 -0.3439471\n",
       "4  0.4724804  0.05885938 -0.03871711 -0.3733151  0.1391690 -0.3699330\n",
       "5  0.5703070  0.59114697  0.29262282 -0.1907208 -0.1566285 -0.1172918\n",
       "6 -0.6707157 -0.67136898 -0.66403685 -0.2920956 -0.3101965 -0.3699330\n",
       "7 -0.3563185 -0.34242436 -0.34520262 -0.2398117  0.7492087 -0.2830244\n",
       "  PAY_AMT4    PAY_AMT5   PAY_AMT6   DEFAULT\n",
       "1  0.01935552  0.4715413  4.2196306 NO     \n",
       "3 -0.29952894 -0.3212864 -0.2481537 YES    \n",
       "4 -0.21553278 -0.2539358 -0.2084536 YES    \n",
       "5 -0.11977168 -0.2037143 -0.1725667 NO     \n",
       "6 -0.32497404 -0.3486931 -0.2763617 NO     \n",
       "7 -0.25650485 -0.2755842 -0.2131549 NO     "
      ]
     },
     "metadata": {},
     "output_type": "display_data"
    }
   ],
   "source": [
    "#We need to standardize the data because the range of each attribute is different, normalization will improve the accuracy. \n",
    "#Attributes we need to standardize are LIMIT_BAL, GENDER, MARRIAGE, AGE, BILL_AMT1 to BILL_AMT6, PAY_AMT1 to PAY_AMT6. \n",
    "data_train_stand <- data_train\n",
    "data_test_stand <- data_test\n",
    "library(\"standardize\")\n",
    "data_train_stand[,1:16] <- apply(data_train_stand[,1:16],MARGIN=2,FUN=scale)\n",
    "data_test_stand[,1:16] <- apply(data_test_stand[,1:16],MARGIN=2,FUN=scale)\n",
    "head(data_train_stand)"
   ]
  },
  {
   "cell_type": "markdown",
   "metadata": {},
   "source": [
    "### c) (0.5)\n",
    "\n",
    "Train a k-NN model; use 5 different values of k (of your choice).\n",
    "Simply report the code. (It may take a minute or so for the code to run)."
   ]
  },
  {
   "cell_type": "code",
   "execution_count": 11,
   "metadata": {},
   "outputs": [
    {
     "data": {
      "text/plain": [
       "k-Nearest Neighbors \n",
       "\n",
       "4000 samples\n",
       "  16 predictor\n",
       "   2 classes: 'NO', 'YES' \n",
       "\n",
       "No pre-processing\n",
       "Resampling: Bootstrapped (25 reps) \n",
       "Summary of sample sizes: 4000, 4000, 4000, 4000, 4000, 4000, ... \n",
       "Resampling results across tuning parameters:\n",
       "\n",
       "  k  Accuracy   Kappa     \n",
       "  5  0.7110775  0.08011619\n",
       "  7  0.7260372  0.08523256\n",
       "  9  0.7349351  0.07775295\n",
       "\n",
       "Accuracy was used to select the optimal model using the largest value.\n",
       "The final value used for the model was k = 9."
      ]
     },
     "metadata": {},
     "output_type": "display_data"
    },
    {
     "data": {
      "text/plain": [
       "k-Nearest Neighbors \n",
       "\n",
       "4000 samples\n",
       "  16 predictor\n",
       "   2 classes: 'NO', 'YES' \n",
       "\n",
       "No pre-processing\n",
       "Resampling: Bootstrapped (25 reps) \n",
       "Summary of sample sizes: 4000, 4000, 4000, 4000, 4000, 4000, ... \n",
       "Resampling results across tuning parameters:\n",
       "\n",
       "  k   Accuracy   Kappa     \n",
       "   3  0.6911539  0.07365051\n",
       "   5  0.7091646  0.07643721\n",
       "   7  0.7273336  0.08541745\n",
       "   9  0.7366252  0.07910822\n",
       "  12  0.7461462  0.07648299\n",
       "\n",
       "Accuracy was used to select the optimal model using the largest value.\n",
       "The final value used for the model was k = 12."
      ]
     },
     "metadata": {},
     "output_type": "display_data"
    }
   ],
   "source": [
    "fitKNN <- train(data=data_train_stand,method=\"knn\",DEFAULT~.)\n",
    "fitKNN\n",
    "#Using 5 different values of k:\n",
    "grid <- expand.grid(k = c(3,5,7,9,12))\n",
    "\n",
    "fitKNN <- train(data = data_train_stand, method = \"knn\", DEFAULT~., \n",
    "                trControl = trainControl(search = \"grid\"), tuneGrid = grid)\n",
    "fitKNN"
   ]
  },
  {
   "cell_type": "markdown",
   "metadata": {},
   "source": [
    "### d) (0.3)\n",
    "\n",
    "Plot how the accuracy of the model changes with the value of k.\n",
    "Comment on which value of k is being picked by the algorithm. "
   ]
  },
  {
   "cell_type": "code",
   "execution_count": 12,
   "metadata": {},
   "outputs": [
    {
     "data": {
      "image/png": "[encoded data removed]",
      "text/plain": [
       "plot without title"
      ]
     },
     "metadata": {},
     "output_type": "display_data"
    }
   ],
   "source": [
    "plot(fitKNN, ylab=\"Accuracy\")\n",
    "#Accuracy was used to select the optimal model using the largest value, when K = 12, we have the largest accuracy, \n",
    "#so I pick k=12."
   ]
  },
  {
   "cell_type": "markdown",
   "metadata": {},
   "source": [
    "### e) (0.8)\n",
    "\n",
    "Get the (class) predictions and produce the confusion matrix. Report\n",
    "the code, the confusion matrix and accuracy (only) and\n",
    "comment on the overall accuracy of the model."
   ]
  },
  {
   "cell_type": "code",
   "execution_count": 26,
   "metadata": {},
   "outputs": [
    {
     "data": {
      "text/plain": [
       "Confusion Matrix and Statistics\n",
       "\n",
       "          Reference\n",
       "Prediction  NO YES\n",
       "       NO  745 198\n",
       "       YES  35  21\n",
       "                                          \n",
       "               Accuracy : 0.7668          \n",
       "                 95% CI : (0.7393, 0.7927)\n",
       "    No Information Rate : 0.7808          \n",
       "    P-Value [Acc > NIR] : 0.8659          \n",
       "                                          \n",
       "                  Kappa : 0.0697          \n",
       "                                          \n",
       " Mcnemar's Test P-Value : <2e-16          \n",
       "                                          \n",
       "              Precision : 0.7900          \n",
       "                 Recall : 0.9551          \n",
       "                     F1 : 0.8648          \n",
       "             Prevalence : 0.7808          \n",
       "         Detection Rate : 0.7457          \n",
       "   Detection Prevalence : 0.9439          \n",
       "      Balanced Accuracy : 0.5255          \n",
       "                                          \n",
       "       'Positive' Class : NO              \n",
       "                                          "
      ]
     },
     "metadata": {},
     "output_type": "display_data"
    }
   ],
   "source": [
    "knn_predictions <- predict(fitKNN, data_test_stand)\n",
    "confusionMatrix(knn_predictions, as.factor(data_test_stand$DEFAULT), mode = \"prec_recall\")\n",
    "#The accuracy of the overall model is 0.7668.Overall F1 score is 0.8648, it is high. \n",
    "#Overall Recall(sensitivity & specificity) is 0.9551\n",
    "#Overall Precision(positive predictive value & negative predictive value) is 0.7900"
   ]
  },
  {
   "cell_type": "markdown",
   "metadata": {},
   "source": [
    "### f) (0.8)\n",
    "\n",
    "Get recall and precision for each class.\n",
    "\n",
    "NOTE: you can do this in different ways. You must report the code used and the output.\n",
    "\n",
    "Evaluate the performance of the classification model with respect to the\n",
    "individual classes and compare with the accuracy."
   ]
  },
  {
   "cell_type": "code",
   "execution_count": 29,
   "metadata": {},
   "outputs": [
    {
     "data": {
      "text/plain": [
       "Confusion Matrix and Statistics\n",
       "\n",
       "          Reference\n",
       "Prediction  NO YES\n",
       "       NO  745 198\n",
       "       YES  35  21\n",
       "                                          \n",
       "               Accuracy : 0.7668          \n",
       "                 95% CI : (0.7393, 0.7927)\n",
       "    No Information Rate : 0.7808          \n",
       "    P-Value [Acc > NIR] : 0.8659          \n",
       "                                          \n",
       "                  Kappa : 0.0697          \n",
       "                                          \n",
       " Mcnemar's Test P-Value : <2e-16          \n",
       "                                          \n",
       "              Precision : 0.7900          \n",
       "                 Recall : 0.9551          \n",
       "                     F1 : 0.8648          \n",
       "             Prevalence : 0.7808          \n",
       "         Detection Rate : 0.7457          \n",
       "   Detection Prevalence : 0.9439          \n",
       "      Balanced Accuracy : 0.5255          \n",
       "                                          \n",
       "       'Positive' Class : NO              \n",
       "                                          "
      ]
     },
     "metadata": {},
     "output_type": "display_data"
    },
    {
     "data": {
      "text/plain": [
       "Confusion Matrix and Statistics\n",
       "\n",
       "          Reference\n",
       "Prediction  NO YES\n",
       "       NO  745 198\n",
       "       YES  35  21\n",
       "                                          \n",
       "               Accuracy : 0.7668          \n",
       "                 95% CI : (0.7393, 0.7927)\n",
       "    No Information Rate : 0.7808          \n",
       "    P-Value [Acc > NIR] : 0.8659          \n",
       "                                          \n",
       "                  Kappa : 0.0697          \n",
       "                                          \n",
       " Mcnemar's Test P-Value : <2e-16          \n",
       "                                          \n",
       "              Precision : 0.37500         \n",
       "                 Recall : 0.09589         \n",
       "                     F1 : 0.15273         \n",
       "             Prevalence : 0.21922         \n",
       "         Detection Rate : 0.02102         \n",
       "   Detection Prevalence : 0.05606         \n",
       "      Balanced Accuracy : 0.52551         \n",
       "                                          \n",
       "       'Positive' Class : YES             \n",
       "                                          "
      ]
     },
     "metadata": {},
     "output_type": "display_data"
    }
   ],
   "source": [
    "confusionMatrix(knn_predictions, as.factor(data_test_stand$DEFAULT), mode = \"prec_recall\",positive=\"NO\")\n",
    "confusionMatrix(knn_predictions, as.factor(data_test_stand$DEFAULT), mode = \"prec_recall\",positive=\"YES\")\n",
    "#The accuracy are the same as for the overall mode. However, when the positive class is NO, the precision, \n",
    "#recall, and F1 are higher than when positive class is YES."
   ]
  },
  {
   "cell_type": "markdown",
   "metadata": {},
   "source": [
    "## Q2\n",
    "\n",
    "Use the `credit_long.csv` dataset to train a Decision Tree that uses recursive partitioning. "
   ]
  },
  {
   "cell_type": "markdown",
   "metadata": {},
   "source": [
    "### a) (0.3)\n",
    "\n",
    "Load the data, summarize it. Looking at the entire dataset, what is the probability of default = NO and default = YES?"
   ]
  },
  {
   "cell_type": "code",
   "execution_count": 19,
   "metadata": {},
   "outputs": [
    {
     "data": {
      "text/plain": [
       "   LIMIT_BAL           GENDER         MARRIAGE          AGE       \n",
       " Min.   :  10000   Min.   :1.000   Min.   :0.000   Min.   :21.00  \n",
       " 1st Qu.:  50000   1st Qu.:1.000   1st Qu.:1.000   1st Qu.:28.00  \n",
       " Median : 140000   Median :2.000   Median :2.000   Median :34.00  \n",
       " Mean   : 167484   Mean   :1.604   Mean   :1.552   Mean   :35.49  \n",
       " 3rd Qu.: 240000   3rd Qu.:2.000   3rd Qu.:2.000   3rd Qu.:41.00  \n",
       " Max.   :1000000   Max.   :2.000   Max.   :3.000   Max.   :79.00  \n",
       "   BILL_AMT1         BILL_AMT2        BILL_AMT3         BILL_AMT4      \n",
       " Min.   :-165580   Min.   :-69777   Min.   :-157264   Min.   :-170000  \n",
       " 1st Qu.:   3559   1st Qu.:  2985   1st Qu.:   2666   1st Qu.:   2327  \n",
       " Median :  22382   Median : 21200   Median :  20089   Median :  19052  \n",
       " Mean   :  51223   Mean   : 49179   Mean   :  47013   Mean   :  43263  \n",
       " 3rd Qu.:  67091   3rd Qu.: 64006   3rd Qu.:  60165   3rd Qu.:  54506  \n",
       " Max.   : 964511   Max.   :983931   Max.   :1664089   Max.   : 891586  \n",
       "   BILL_AMT5        BILL_AMT6          PAY_AMT1         PAY_AMT2      \n",
       " Min.   :-81334   Min.   :-339603   Min.   :     0   Min.   :      0  \n",
       " 1st Qu.:  1763   1st Qu.:   1256   1st Qu.:  1000   1st Qu.:    833  \n",
       " Median : 18105   Median :  17071   Median :  2100   Median :   2009  \n",
       " Mean   : 40311   Mean   :  38872   Mean   :  5664   Mean   :   5921  \n",
       " 3rd Qu.: 50191   3rd Qu.:  49198   3rd Qu.:  5006   3rd Qu.:   5000  \n",
       " Max.   :927171   Max.   : 961664   Max.   :873552   Max.   :1684259  \n",
       "    PAY_AMT3         PAY_AMT4         PAY_AMT5           PAY_AMT6       \n",
       " Min.   :     0   Min.   :     0   Min.   :     0.0   Min.   :     0.0  \n",
       " 1st Qu.:   390   1st Qu.:   296   1st Qu.:   252.5   1st Qu.:   117.8  \n",
       " Median :  1800   Median :  1500   Median :  1500.0   Median :  1500.0  \n",
       " Mean   :  5226   Mean   :  4826   Mean   :  4799.4   Mean   :  5215.5  \n",
       " 3rd Qu.:  4505   3rd Qu.:  4013   3rd Qu.:  4031.5   3rd Qu.:  4000.0  \n",
       " Max.   :896040   Max.   :621000   Max.   :426529.0   Max.   :528666.0  \n",
       " DEFAULT    \n",
       " NO :23364  \n",
       " YES: 6636  \n",
       "            \n",
       "            \n",
       "            \n",
       "            "
      ]
     },
     "metadata": {},
     "output_type": "display_data"
    }
   ],
   "source": [
    "credit_long <- read.csv(\"credit_long.csv\")\n",
    "summary(credit_long)\n",
    "#Probability of Default(NO)=23364/30000=0.7788 \n",
    "#Probability of Default(YES)=6636/30000=0.2212"
   ]
  },
  {
   "cell_type": "markdown",
   "metadata": {},
   "source": [
    "### b) (0.2)\n",
    "\n",
    "Split the dataset into 80% training and 20% testing. Report only the\n",
    "code for this question."
   ]
  },
  {
   "cell_type": "code",
   "execution_count": 5,
   "metadata": {},
   "outputs": [],
   "source": [
    "train_rows_l <- createDataPartition(y = credit_long$DEFAULT, p = 0.8, list = FALSE)\n",
    "data_train_l <- credit_long[train_rows_l,]\n",
    "data_test_l <- credit_long[-train_rows_l,]"
   ]
  },
  {
   "cell_type": "markdown",
   "metadata": {},
   "source": [
    "### c) (0.5)\n",
    "\n",
    "Train a decision tree model. Decide whether you should standardize\n",
    "the data. If yes, decide which attributes to include and apply the\n",
    "standardization. If not, explain why. (It may take a minute or so for the\n",
    "code to run)."
   ]
  },
  {
   "cell_type": "code",
   "execution_count": 11,
   "metadata": {},
   "outputs": [],
   "source": [
    "#In the case of a decision tree, the data does not get normalized because the decision tree \n",
    "#uses the concept of Entropy and not a distance measure. \n",
    "fitDT <- train(data = data_train_l, method=\"rpart\", DEFAULT~.)\n"
   ]
  },
  {
   "cell_type": "markdown",
   "metadata": {},
   "source": [
    "### d) (1)\n",
    "\n",
    "Plot the tree and attach the plot.\n",
    "\n",
    "- Are all the attributes used in the decision tree? If no, why do you\n",
    "think that is?\n",
    "- How many leaf nodes does your tree have?\n",
    "- Pick 2 leaf nodes, one with outcome NO and one with outcome YES\n",
    "and interpret them (If you do not have leaf nodes with YES, pick any\n",
    "two). "
   ]
  },
  {
   "cell_type": "code",
   "execution_count": 12,
   "metadata": {},
   "outputs": [
    {
     "data": {
      "image/png": "[encoded data removed]",
      "text/plain": [
       "plot without title"
      ]
     },
     "metadata": {},
     "output_type": "display_data"
    }
   ],
   "source": [
    "rpart.plot(fitDT$finalModel)\n",
    "#No, more attributes used, more confused the models will create. It might also cause overfitting problem.\n",
    "#I have 8 leaf nodes in my decision tree model.\n",
    "#If limit_bal is less than 105e + 3, and payment_amount_1 is greater than 25, clients might not default.(The first left leaf node)\n",
    "#If limit_bal is greater than 105e + 3, and payment_amount_1 is less than 17 and bill_amount_2 is greater than 104, the clients\n",
    "#might default. (The first right leaft node)"
   ]
  },
  {
   "cell_type": "markdown",
   "metadata": {},
   "source": [
    "### e) (0.5)\n",
    "\n",
    "Get the class level predictions, produce the confusion matrix and comment on the performance of the overall model looking at accuracy. You need to report both code and output obtained."
   ]
  },
  {
   "cell_type": "code",
   "execution_count": 15,
   "metadata": {},
   "outputs": [
    {
     "data": {
      "text/plain": [
       "Confusion Matrix and Statistics\n",
       "\n",
       "          Reference\n",
       "Prediction   NO  YES\n",
       "       NO  4503 1113\n",
       "       YES  169  214\n",
       "                                          \n",
       "               Accuracy : 0.7863          \n",
       "                 95% CI : (0.7757, 0.7966)\n",
       "    No Information Rate : 0.7788          \n",
       "    P-Value [Acc > NIR] : 0.08273         \n",
       "                                          \n",
       "                  Kappa : 0.1678          \n",
       "                                          \n",
       " Mcnemar's Test P-Value : < 2e-16         \n",
       "                                          \n",
       "              Precision : 0.8018          \n",
       "                 Recall : 0.9638          \n",
       "                     F1 : 0.8754          \n",
       "             Prevalence : 0.7788          \n",
       "         Detection Rate : 0.7506          \n",
       "   Detection Prevalence : 0.9362          \n",
       "      Balanced Accuracy : 0.5625          \n",
       "                                          \n",
       "       'Positive' Class : NO              \n",
       "                                          "
      ]
     },
     "metadata": {},
     "output_type": "display_data"
    }
   ],
   "source": [
    "DT_predictions <- predict(fitDT$finalModel, newdata = data_test_l, type = \"class\")\n",
    "confusionMatrix(DT_predictions, as.factor(data_test_l$DEFAULT), mode = \"prec_recall\")\n",
    "#The accuracy of the overall model is 0.7863.Overall F1 score is 0.8754, it is high. \n",
    "#Overall Recall(sensitivity & specificity) is 0.9638\n",
    "#Overall Precision(positive predictive value & negative predictive value) is 0.8018"
   ]
  },
  {
   "cell_type": "markdown",
   "metadata": {},
   "source": [
    "### f) (0.5)\n",
    "\n",
    "Get the recall and precision for each individual class and\n",
    "comment on the performance of the model for the individual classes,\n",
    "compared to the overall accuracy.\n",
    "\n",
    "NOTE: you can do this in different ways.\n",
    "You must report the code used and the output."
   ]
  },
  {
   "cell_type": "code",
   "execution_count": 18,
   "metadata": {},
   "outputs": [
    {
     "data": {
      "text/plain": [
       "Confusion Matrix and Statistics\n",
       "\n",
       "          Reference\n",
       "Prediction   NO  YES\n",
       "       NO  4503 1113\n",
       "       YES  169  214\n",
       "                                          \n",
       "               Accuracy : 0.7863          \n",
       "                 95% CI : (0.7757, 0.7966)\n",
       "    No Information Rate : 0.7788          \n",
       "    P-Value [Acc > NIR] : 0.08273         \n",
       "                                          \n",
       "                  Kappa : 0.1678          \n",
       "                                          \n",
       " Mcnemar's Test P-Value : < 2e-16         \n",
       "                                          \n",
       "              Precision : 0.8018          \n",
       "                 Recall : 0.9638          \n",
       "                     F1 : 0.8754          \n",
       "             Prevalence : 0.7788          \n",
       "         Detection Rate : 0.7506          \n",
       "   Detection Prevalence : 0.9362          \n",
       "      Balanced Accuracy : 0.5625          \n",
       "                                          \n",
       "       'Positive' Class : NO              \n",
       "                                          "
      ]
     },
     "metadata": {},
     "output_type": "display_data"
    },
    {
     "data": {
      "text/plain": [
       "Confusion Matrix and Statistics\n",
       "\n",
       "          Reference\n",
       "Prediction   NO  YES\n",
       "       NO  4503 1113\n",
       "       YES  169  214\n",
       "                                          \n",
       "               Accuracy : 0.7863          \n",
       "                 95% CI : (0.7757, 0.7966)\n",
       "    No Information Rate : 0.7788          \n",
       "    P-Value [Acc > NIR] : 0.08273         \n",
       "                                          \n",
       "                  Kappa : 0.1678          \n",
       "                                          \n",
       " Mcnemar's Test P-Value : < 2e-16         \n",
       "                                          \n",
       "              Precision : 0.55875         \n",
       "                 Recall : 0.16127         \n",
       "                     F1 : 0.25029         \n",
       "             Prevalence : 0.22120         \n",
       "         Detection Rate : 0.03567         \n",
       "   Detection Prevalence : 0.06384         \n",
       "      Balanced Accuracy : 0.56255         \n",
       "                                          \n",
       "       'Positive' Class : YES             \n",
       "                                          "
      ]
     },
     "metadata": {},
     "output_type": "display_data"
    }
   ],
   "source": [
    "confusionMatrix(DT_predictions, as.factor(data_test_l$DEFAULT), mode = \"prec_recall\",positive = \"NO\")\n",
    "confusionMatrix(DT_predictions, as.factor(data_test_l$DEFAULT), mode = \"prec_recall\",positive = \"YES\")\n",
    "#The accuracies are the same as for the overall mode. When the positive class is NO, the precision, \n",
    "#recall, and F1 are higher than when positive class is YES."
   ]
  },
  {
   "cell_type": "markdown",
   "metadata": {},
   "source": [
    "### g) (1)\n",
    "\n",
    "Get again the predictions but this time as predicted probabilities and set\n",
    "a cut-off of 0.8 for the NO class.\n",
    "\n",
    "- Produce the confusion matrix and comment on the performance of the overall model looking at accuracy;\n",
    "- Get recall and precision for the individual classes and compare to the results you obtained in question e) and f)"
   ]
  },
  {
   "cell_type": "code",
   "execution_count": 26,
   "metadata": {},
   "outputs": [],
   "source": [
    "DT_prob <- as.data.frame(predict(fitDT$finalModel, newdata = data_test_l, type = \"prob\"))\n",
    "DT_prob$pred_class <- ifelse(DT_prob$NO > 0.8, \"NO\", \"YES\")\n"
   ]
  },
  {
   "cell_type": "code",
   "execution_count": 24,
   "metadata": {},
   "outputs": [
    {
     "data": {
      "text/plain": [
       "Confusion Matrix and Statistics\n",
       "\n",
       "          Reference\n",
       "Prediction   NO  YES\n",
       "       NO  2489  415\n",
       "       YES 2183  912\n",
       "                                          \n",
       "               Accuracy : 0.5669          \n",
       "                 95% CI : (0.5543, 0.5795)\n",
       "    No Information Rate : 0.7788          \n",
       "    P-Value [Acc > NIR] : 1               \n",
       "                                          \n",
       "                  Kappa : 0.149           \n",
       "                                          \n",
       " Mcnemar's Test P-Value : <2e-16          \n",
       "                                          \n",
       "            Sensitivity : 0.5327          \n",
       "            Specificity : 0.6873          \n",
       "         Pos Pred Value : 0.8571          \n",
       "         Neg Pred Value : 0.2947          \n",
       "             Prevalence : 0.7788          \n",
       "         Detection Rate : 0.4149          \n",
       "   Detection Prevalence : 0.4841          \n",
       "      Balanced Accuracy : 0.6100          \n",
       "                                          \n",
       "       'Positive' Class : NO              \n",
       "                                          "
      ]
     },
     "metadata": {},
     "output_type": "display_data"
    }
   ],
   "source": [
    "DT_prob$pred_class<- as.factor(DT_prob$pred_class)\n",
    "confusionMatrix(as.factor(DT_prob$pred_class), as.factor(data_test_l$DEFAULT))\n",
    "#The accuracy of the overall model is 0.5669.\n",
    "#Sensitivity is 0.5327 while specificity is 0.6873\n",
    "#Positive predictive value is 0.8571 while negative predictive value is 0.2947"
   ]
  },
  {
   "cell_type": "code",
   "execution_count": 25,
   "metadata": {},
   "outputs": [
    {
     "data": {
      "text/plain": [
       "Confusion Matrix and Statistics\n",
       "\n",
       "          Reference\n",
       "Prediction   NO  YES\n",
       "       NO  2489  415\n",
       "       YES 2183  912\n",
       "                                          \n",
       "               Accuracy : 0.5669          \n",
       "                 95% CI : (0.5543, 0.5795)\n",
       "    No Information Rate : 0.7788          \n",
       "    P-Value [Acc > NIR] : 1               \n",
       "                                          \n",
       "                  Kappa : 0.149           \n",
       "                                          \n",
       " Mcnemar's Test P-Value : <2e-16          \n",
       "                                          \n",
       "              Precision : 0.8571          \n",
       "                 Recall : 0.5327          \n",
       "                     F1 : 0.6571          \n",
       "             Prevalence : 0.7788          \n",
       "         Detection Rate : 0.4149          \n",
       "   Detection Prevalence : 0.4841          \n",
       "      Balanced Accuracy : 0.6100          \n",
       "                                          \n",
       "       'Positive' Class : NO              \n",
       "                                          "
      ]
     },
     "metadata": {},
     "output_type": "display_data"
    },
    {
     "data": {
      "text/plain": [
       "Confusion Matrix and Statistics\n",
       "\n",
       "          Reference\n",
       "Prediction   NO  YES\n",
       "       NO  2489  415\n",
       "       YES 2183  912\n",
       "                                          \n",
       "               Accuracy : 0.5669          \n",
       "                 95% CI : (0.5543, 0.5795)\n",
       "    No Information Rate : 0.7788          \n",
       "    P-Value [Acc > NIR] : 1               \n",
       "                                          \n",
       "                  Kappa : 0.149           \n",
       "                                          \n",
       " Mcnemar's Test P-Value : <2e-16          \n",
       "                                          \n",
       "              Precision : 0.2947          \n",
       "                 Recall : 0.6873          \n",
       "                     F1 : 0.4125          \n",
       "             Prevalence : 0.2212          \n",
       "         Detection Rate : 0.1520          \n",
       "   Detection Prevalence : 0.5159          \n",
       "      Balanced Accuracy : 0.6100          \n",
       "                                          \n",
       "       'Positive' Class : YES             \n",
       "                                          "
      ]
     },
     "metadata": {},
     "output_type": "display_data"
    }
   ],
   "source": [
    "confusionMatrix(as.factor(DT_prob$pred_class), as.factor(data_test_l$DEFAULT),mode=\"prec_recall\",positive=\"NO\")\n",
    "confusionMatrix(as.factor(DT_prob$pred_class), as.factor(data_test_l$DEFAULT),,mode=\"prec_recall\",positive=\"YES\")"
   ]
  },
  {
   "cell_type": "markdown",
   "metadata": {},
   "source": [
    "The balanced accuracy and accuracy are the same for both models. For the first model,positive class is \"NO\", \n",
    "it has higher precision, F1 score, detection rate. However, the recall, prevalence and detection prevalence \n",
    "are much lower than the second model, whose positive class is \"YES\"."
   ]
  }
 ],
 "metadata": {
  "kernelspec": {
   "display_name": "R",
   "language": "R",
   "name": "ir"
  },
  "language_info": {
   "codemirror_mode": "r",
   "file_extension": ".r",
   "mimetype": "text/x-r-source",
   "name": "R",
   "pygments_lexer": "r",
   "version": "3.6.1"
  },
  "toc-autonumbering": false
 },
 "nbformat": 4,
 "nbformat_minor": 4
}
