{
 "cells": [
  {
   "cell_type": "markdown",
   "metadata": {},
   "source": [
    "# Homework 1\n",
    "## Instructions\n",
    "\n",
    "Your HW submission should consist of **one pdf file** exported from the Jupyter Notebook containing the answers to all the\n",
    "questions included in the homework.\n",
    "\n",
    "You will use Jupyter Notebook exclusively for this homework. All the cells in this notebook is editable. You need to edit, insert `markdown` and `code` cells to complete the homework.\n",
    "\n",
    "> If you are running this notebook on MyBinder, be sure to download your notebook, otherwise all your progress will be lost. You will need to reupload your notebook to MyBinder next time to restore progress.\n",
    "\n",
    "> If you are running this notebook locally on your own machine, you can simply save the notebook.\n",
    "\n",
    "> AVOID writing all your codes in a single cell if there are multiple lines with meaningful outputs. Separate them and insert new cells as you see fit."
   ]
  },
  {
   "cell_type": "markdown",
   "metadata": {},
   "source": [
    "**Student Info**\n",
    "\n",
    "Student Name: Edit this cell to input Your name\n",
    "\n",
    "Student ID: Your ID"
   ]
  },
  {
   "cell_type": "markdown",
   "metadata": {},
   "source": [
    "## Question 1: Basic Operations\n",
    "\n",
    "1. (0.2 points) Import the laptop sales dataset, give it a proper name"
   ]
  },
  {
   "cell_type": "code",
   "execution_count": 29,
   "metadata": {},
   "outputs": [
    {
     "data": {
      "text/html": [
       "<table>\n",
       "<thead><tr><th scope=col>X.U.FEFF.Date</th><th scope=col>Configuration</th><th scope=col>Customer.Postcode</th><th scope=col>Store.Postcode</th><th scope=col>Retail.Price</th><th scope=col>Screen.Size..Inches.</th><th scope=col>Battery.Life..Hours.</th><th scope=col>RAM..GB.</th><th scope=col>Processor.Speeds..GHz.</th><th scope=col>Integrated.Wireless.</th><th scope=col>HD.Size..GB.</th><th scope=col>Bundled.Applications.</th><th scope=col>OS.X.Customer</th><th scope=col>OS.Y.Customer</th><th scope=col>OS.X.Store</th><th scope=col>OS.Y.Store</th><th scope=col>CustomerStoreDistance</th></tr></thead>\n",
       "<tbody>\n",
       "\t<tr><td>2008/01/01 00:01:19</td><td>163                </td><td>EC4V 5BH           </td><td>SE1 2BN            </td><td>455                </td><td>15                 </td><td>5                  </td><td>1                  </td><td>2.0                </td><td>Yes                </td><td> 80                </td><td>Yes                </td><td>532041             </td><td>180995             </td><td>534057             </td><td>179682             </td><td>2405.8730          </td></tr>\n",
       "\t<tr><td>2008/01/01 00:02:52</td><td>320                </td><td>SW4 0JL            </td><td>SW12 9HD           </td><td>545                </td><td>15                 </td><td>6                  </td><td>1                  </td><td>2.0                </td><td>No                 </td><td>300                </td><td>No                 </td><td>529240             </td><td>175537             </td><td>528739             </td><td>173080             </td><td>2507.5586          </td></tr>\n",
       "\t<tr><td>2008/01/01 00:04:18</td><td> 23                </td><td>EC3V 1LR           </td><td>E2 0RY             </td><td>515                </td><td>15                 </td><td>4                  </td><td>1                  </td><td>2.0                </td><td>Yes                </td><td>300                </td><td>Yes                </td><td>533095             </td><td>181047             </td><td>535652             </td><td>182961             </td><td>3194.0014          </td></tr>\n",
       "\t<tr><td>2008/01/01 00:04:40</td><td>169                </td><td>SW1P 3AU           </td><td>SE1 2BN            </td><td>395                </td><td>15                 </td><td>5                  </td><td>1                  </td><td>2.0                </td><td>No                 </td><td> 40                </td><td>Yes                </td><td>529902             </td><td>179641             </td><td>534057             </td><td>179682             </td><td>4155.2023          </td></tr>\n",
       "\t<tr><td>2008/01/01 00:06:04</td><td>365                </td><td>EC4V 4EG           </td><td>SW1V 4QQ           </td><td>585                </td><td>15                 </td><td>6                  </td><td>2                  </td><td>2.0                </td><td>No                 </td><td>120                </td><td>Yes                </td><td>531684             </td><td>180948             </td><td>528924             </td><td>178440             </td><td>3729.2981          </td></tr>\n",
       "\t<tr><td>2008/01/01 00:12:26</td><td>309                </td><td>W1B 5PX            </td><td>SW1V 4QQ           </td><td>555                </td><td>15                 </td><td>6                  </td><td>1                  </td><td>2.0                </td><td>Yes                </td><td>120                </td><td>Yes                </td><td>529207             </td><td>180969             </td><td>528924             </td><td>178440             </td><td>2544.7849          </td></tr>\n",
       "\t<tr><td>2008/01/01 00:14:32</td><td> 75                </td><td>SE25 4LX           </td><td>SE8 3JD            </td><td>465                </td><td>15                 </td><td>4                  </td><td>2                  </td><td>2.0                </td><td>No                 </td><td> 80                </td><td>Yes                </td><td>534575             </td><td>168236             </td><td>537175             </td><td>177885             </td><td>9993.1577          </td></tr>\n",
       "\t<tr><td>2008/01/01 00:17:13</td><td>346                </td><td>N7 6AR             </td><td>E2 0RY             </td><td>450                </td><td>15                 </td><td>6                  </td><td>2                  </td><td>1.5                </td><td>No                 </td><td> 40                </td><td>No                 </td><td>530461             </td><td>186176             </td><td>535652             </td><td>182961             </td><td>6105.9566          </td></tr>\n",
       "\t<tr><td>2008/01/01 00:24:08</td><td> 70                </td><td>W3 7JT             </td><td>SW18 1NN           </td><td>455                </td><td>15                 </td><td>4                  </td><td>2                  </td><td>2.0                </td><td>Yes                </td><td>120                </td><td>No                 </td><td>520898             </td><td>180071             </td><td>525155             </td><td>175180             </td><td>6484.1291          </td></tr>\n",
       "\t<tr><td>2008/01/01 00:56:50</td><td>351                </td><td>SW8 1RB            </td><td>SW1V 4QQ           </td><td>620                </td><td>15                 </td><td>6                  </td><td>2                  </td><td>1.5                </td><td>No                 </td><td>300                </td><td>Yes                </td><td>530298             </td><td>177435             </td><td>528924             </td><td>178440             </td><td>1702.3222          </td></tr>\n",
       "\t<tr><td>2008/01/01 01:00:49</td><td>209                </td><td>SE26 5HB           </td><td>CR7 8LE            </td><td>465                </td><td>15                 </td><td>5                  </td><td>2                  </td><td>2.0                </td><td>Yes                </td><td> 40                </td><td>Yes                </td><td>535838             </td><td>171458             </td><td>532714             </td><td>168302             </td><td>4440.6882          </td></tr>\n",
       "\t<tr><td>2008/01/01 01:03:25</td><td>359                </td><td>W1T 1DG            </td><td>NW5 2QH            </td><td>665                </td><td>15                 </td><td>6                  </td><td>2                  </td><td>2.0                </td><td>Yes                </td><td>300                </td><td>Yes                </td><td>529584             </td><td>181554             </td><td>529248             </td><td>185213             </td><td>3674.3948          </td></tr>\n",
       "\t<tr><td>2008/01/01 01:05:10</td><td>300                </td><td>TW9 3AH            </td><td>W4 3PH             </td><td>440                </td><td>15                 </td><td>6                  </td><td>1                  </td><td>1.5                </td><td>No                 </td><td> 80                </td><td>No                 </td><td>518891             </td><td>177662             </td><td>519585             </td><td>177640             </td><td> 694.3486          </td></tr>\n",
       "\t<tr><td>2008/01/01 01:07:08</td><td>363                </td><td>N1 9DU             </td><td>SW1V 4QQ           </td><td>565                </td><td>15                 </td><td>6                  </td><td>2                  </td><td>2.0                </td><td>No                 </td><td> 80                </td><td>Yes                </td><td>530451             </td><td>183067             </td><td>528924             </td><td>178440             </td><td>4872.4591          </td></tr>\n",
       "\t<tr><td>2008/01/01 01:15:42</td><td> 22                </td><td>N1 8LU             </td><td>E2 0RY             </td><td>405                </td><td>15                 </td><td>4                  </td><td>1                  </td><td>2.0                </td><td>Yes                </td><td>120                </td><td>No                 </td><td>531957             </td><td>183906             </td><td>535652             </td><td>182961             </td><td>3813.9284          </td></tr>\n",
       "\t<tr><td>2008/01/01 01:18:44</td><td> 53                </td><td>E14 0BB            </td><td>SE8 3JD            </td><td>480                </td><td>15                 </td><td>4                  </td><td>2                  </td><td>1.5                </td><td>Yes                </td><td>120                </td><td>Yes                </td><td>538189             </td><td>180731             </td><td>537175             </td><td>177885             </td><td>3021.2435          </td></tr>\n",
       "\t<tr><td>2008/01/01 01:29:40</td><td>310                </td><td>WC1X 0AE           </td><td>SW1P 3AU           </td><td>505                </td><td>15                 </td><td>6                  </td><td>1                  </td><td>2.0                </td><td>Yes                </td><td>120                </td><td>No                 </td><td>531065             </td><td>182190             </td><td>529902             </td><td>179641             </td><td>2801.7798          </td></tr>\n",
       "\t<tr><td>2008/01/01 01:30:52</td><td>314                </td><td>N1 9BL             </td><td>SE1 2BN            </td><td>425                </td><td>15                 </td><td>6                  </td><td>1                  </td><td>2.0                </td><td>No                 </td><td> 40                </td><td>No                 </td><td>530520             </td><td>183119             </td><td>534057             </td><td>179682             </td><td>4931.8696          </td></tr>\n",
       "\t<tr><td>2008/01/01 01:32:30</td><td>320                </td><td>WC2E 8RF           </td><td>SE1 2BN            </td><td>545                </td><td>15                 </td><td>6                  </td><td>1                  </td><td>2.0                </td><td>No                 </td><td>300                </td><td>No                 </td><td>530351             </td><td>180907             </td><td>534057             </td><td>179682             </td><td>3903.2116          </td></tr>\n",
       "\t<tr><td>2008/01/01 01:32:55</td><td>299                </td><td>SE1 3XB            </td><td>SW1P 3AU           </td><td>490                </td><td>15                 </td><td>6                  </td><td>1                  </td><td>1.5                </td><td>No                 </td><td> 80                </td><td>Yes                </td><td>533256             </td><td>179711             </td><td>529902             </td><td>179641             </td><td>3354.7304          </td></tr>\n",
       "\t<tr><td>2008/01/01 01:40:35</td><td>205                </td><td>EC3N 2AE           </td><td>SE1 2BN            </td><td>480                </td><td>15                 </td><td>5                  </td><td>2                  </td><td>1.5                </td><td>No                 </td><td>120                </td><td>Yes                </td><td>533409             </td><td>180902             </td><td>534057             </td><td>179682             </td><td>1381.4138          </td></tr>\n",
       "\t<tr><td>2008/01/01 01:42:26</td><td>216                </td><td>E6 3BD             </td><td>E2 0RY             </td><td>535                </td><td>15                 </td><td>5                  </td><td>2                  </td><td>2.0                </td><td>Yes                </td><td>300                </td><td>No                 </td><td>541936             </td><td>183350             </td><td>535652             </td><td>182961             </td><td>6296.0287          </td></tr>\n",
       "\t<tr><td>2008/01/01 01:42:54</td><td>203                </td><td>W1T 1HH            </td><td>NW5 2QH            </td><td>460                </td><td>15                 </td><td>5                  </td><td>2                  </td><td>1.5                </td><td>No                 </td><td> 80                </td><td>Yes                </td><td>529654             </td><td>181374             </td><td>529248             </td><td>185213             </td><td>3860.4089          </td></tr>\n",
       "\t<tr><td>2008/01/01 01:53:15</td><td>209                </td><td>SE26 4BG           </td><td>CR7 8LE            </td><td>465                </td><td>15                 </td><td>5                  </td><td>2                  </td><td>2.0                </td><td>Yes                </td><td> 40                </td><td>Yes                </td><td>534883             </td><td>172132             </td><td>532714             </td><td>168302             </td><td>4401.5294          </td></tr>\n",
       "\t<tr><td>2008/01/01 02:00:08</td><td>368                </td><td>EC1R 0DY           </td><td>NW5 2QH            </td><td>595                </td><td>15                 </td><td>6                  </td><td>2                  </td><td>2.0                </td><td>No                 </td><td>300                </td><td>No                 </td><td>531497             </td><td>182177             </td><td>529248             </td><td>185213             </td><td>3778.2664          </td></tr>\n",
       "\t<tr><td>2008/01/01 02:00:21</td><td>293                </td><td>E6 1PW             </td><td>SE8 3JD            </td><td>530                </td><td>15                 </td><td>6                  </td><td>1                  </td><td>1.5                </td><td>Yes                </td><td>120                </td><td>Yes                </td><td>541540             </td><td>183278             </td><td>537175             </td><td>177885             </td><td>6938.1319          </td></tr>\n",
       "\t<tr><td>2008/01/01 02:22:09</td><td>352                </td><td>E2 0JD             </td><td>SE8 3JD            </td><td>570                </td><td>15                 </td><td>6                  </td><td>2                  </td><td>1.5                </td><td>No                 </td><td>300                </td><td>No                 </td><td>535274             </td><td>182846             </td><td>537175             </td><td>177885             </td><td>5312.7509          </td></tr>\n",
       "\t<tr><td>2008/01/01 02:26:52</td><td>215                </td><td>SE10 9NW           </td><td>SE1 2BN            </td><td>585                </td><td>15                 </td><td>5                  </td><td>2                  </td><td>2.0                </td><td>Yes                </td><td>300                </td><td>Yes                </td><td>538670             </td><td>178069             </td><td>534057             </td><td>179682             </td><td>4886.8741          </td></tr>\n",
       "\t<tr><td>2008/01/01 02:29:54</td><td>347                </td><td>SE1 9AA            </td><td>SW1P 3AU           </td><td>540                </td><td>15                 </td><td>6                  </td><td>2                  </td><td>1.5                </td><td>No                 </td><td> 80                </td><td>Yes                </td><td>532585             </td><td>180197             </td><td>529902             </td><td>179641             </td><td>2740.0046          </td></tr>\n",
       "\t<tr><td>2008/01/01 02:31:09</td><td>340                </td><td>W1H 1DG            </td><td>SW1P 3AU           </td><td>510                </td><td>15                 </td><td>6                  </td><td>2                  </td><td>1.5                </td><td>Yes                </td><td> 80                </td><td>No                 </td><td>527601             </td><td>181753             </td><td>529902             </td><td>179641             </td><td>3123.3227          </td></tr>\n",
       "\t<tr><td>...</td><td>...</td><td>...</td><td>...</td><td>...</td><td>...</td><td>...</td><td>...</td><td>...</td><td>...</td><td>...</td><td>...</td><td>...</td><td>...</td><td>...</td><td>...</td><td>...</td></tr>\n",
       "\t<tr><td>2008/01/10 20:16:01</td><td>357                </td><td>N5 2LL             </td><td>N17 6QA            </td><td>605                </td><td>15                 </td><td>6                  </td><td>2                  </td><td>2.0                </td><td>Yes                </td><td>120                </td><td>Yes                </td><td>531921             </td><td>186234             </td><td>533788             </td><td>189994             </td><td> 4198.0101         </td></tr>\n",
       "\t<tr><td>2008/01/10 20:36:11</td><td>294                </td><td>SW8 1RB            </td><td>SW1P 3AU           </td><td>480                </td><td>15                 </td><td>6                  </td><td>1                  </td><td>1.5                </td><td>Yes                </td><td>120                </td><td>No                 </td><td>530298             </td><td>177435             </td><td>529902             </td><td>179641             </td><td> 2241.2613         </td></tr>\n",
       "\t<tr><td>2008/01/10 20:37:56</td><td> 67                </td><td>SW1P 1DN           </td><td>SE1 2BN            </td><td>485                </td><td>15                 </td><td>4                  </td><td>2                  </td><td>2.0                </td><td>Yes                </td><td> 80                </td><td>Yes                </td><td>529370             </td><td>178996             </td><td>534057             </td><td>179682             </td><td> 4736.9362         </td></tr>\n",
       "\t<tr><td>2008/01/10 20:41:28</td><td>159                </td><td>SE25 6EF           </td><td>SE8 3JD            </td><td>490                </td><td>15                 </td><td>5                  </td><td>1                  </td><td>1.5                </td><td>No                 </td><td>300                </td><td>Yes                </td><td>534086             </td><td>168521             </td><td>537175             </td><td>177885             </td><td> 9860.3457         </td></tr>\n",
       "\t<tr><td>2008/01/10 20:50:58</td><td>356                </td><td>W1J 7QQ            </td><td>SW1P 3AU           </td><td>535                </td><td>15                 </td><td>6                  </td><td>2                  </td><td>2.0                </td><td>Yes                </td><td> 80                </td><td>No                 </td><td>528745             </td><td>180265             </td><td>529902             </td><td>179641             </td><td> 1314.5436         </td></tr>\n",
       "\t<tr><td>2008/01/10 20:52:40</td><td> 61                </td><td>N1 9NL             </td><td>SW1P 3AU           </td><td>460                </td><td>15                 </td><td>4                  </td><td>2                  </td><td>1.5                </td><td>No                 </td><td>120                </td><td>Yes                </td><td>530455             </td><td>182970             </td><td>529902             </td><td>179641             </td><td> 3374.6185         </td></tr>\n",
       "\t<tr><td>2008/01/10 21:00:15</td><td>320                </td><td>W1H 7PP            </td><td>SW1P 3AU           </td><td>545                </td><td>15                 </td><td>6                  </td><td>1                  </td><td>2.0                </td><td>No                 </td><td>300                </td><td>No                 </td><td>527732             </td><td>181195             </td><td>529902             </td><td>179641             </td><td> 2669.0478         </td></tr>\n",
       "\t<tr><td>2008/01/10 21:13:42</td><td>289                </td><td>KT4 7NY            </td><td>SW18 1NN           </td><td>470                </td><td>15                 </td><td>6                  </td><td>1                  </td><td>1.5                </td><td>Yes                </td><td> 40                </td><td>Yes                </td><td>521892             </td><td>166332             </td><td>525155             </td><td>175180             </td><td> 9430.4970         </td></tr>\n",
       "\t<tr><td>2008/01/10 21:19:59</td><td>351                </td><td>SE22 9JA           </td><td>SE8 3JD            </td><td>620                </td><td>15                 </td><td>6                  </td><td>2                  </td><td>1.5                </td><td>No                 </td><td>300                </td><td>Yes                </td><td>533950             </td><td>174559             </td><td>537175             </td><td>177885             </td><td> 4632.8070         </td></tr>\n",
       "\t<tr><td>2008/01/10 21:22:46</td><td>157                </td><td>W1W 7QL            </td><td>SW1V 4QQ           </td><td>430                </td><td>15                 </td><td>5                  </td><td>1                  </td><td>1.5                </td><td>No                 </td><td>120                </td><td>Yes                </td><td>529131             </td><td>181596             </td><td>528924             </td><td>178440             </td><td> 3162.7812         </td></tr>\n",
       "\t<tr><td>2008/01/10 21:30:23</td><td>208                </td><td>N2 9EY             </td><td>N17 6QA            </td><td>490                </td><td>15                 </td><td>5                  </td><td>2                  </td><td>1.5                </td><td>No                 </td><td>300                </td><td>No                 </td><td>527830             </td><td>189608             </td><td>533788             </td><td>189994             </td><td> 5970.4908         </td></tr>\n",
       "\t<tr><td>2008/01/10 21:32:03</td><td>  3                </td><td>SE1 2JX            </td><td>SE1 2BN            </td><td>410                </td><td>15                 </td><td>4                  </td><td>1                  </td><td>1.5                </td><td>Yes                </td><td> 80                </td><td>Yes                </td><td>533647             </td><td>179825             </td><td>534057             </td><td>179682             </td><td>  434.2223         </td></tr>\n",
       "\t<tr><td>2008/01/10 21:37:09</td><td>194                </td><td>E12 5BP            </td><td>E7 8NW             </td><td>390                </td><td>15                 </td><td>5                  </td><td>2                  </td><td>1.5                </td><td>Yes                </td><td> 40                </td><td>No                 </td><td>542008             </td><td>185622             </td><td>541428             </td><td>184515             </td><td> 1249.7396         </td></tr>\n",
       "\t<tr><td>2008/01/10 21:38:35</td><td>176                </td><td>EC2A 2ER           </td><td>SW1P 3AU           </td><td>465                </td><td>15                 </td><td>5                  </td><td>1                  </td><td>2.0                </td><td>No                 </td><td>300                </td><td>No                 </td><td>532961             </td><td>181912             </td><td>529902             </td><td>179641             </td><td> 3809.8454         </td></tr>\n",
       "\t<tr><td>2008/01/10 21:39:11</td><td>168                </td><td>SW1A 2NH           </td><td>SW1V 4QQ           </td><td>485                </td><td>15                 </td><td>5                  </td><td>1                  </td><td>2.0                </td><td>Yes                </td><td>300                </td><td>No                 </td><td>530188             </td><td>179798             </td><td>528924             </td><td>178440             </td><td> 1855.2251         </td></tr>\n",
       "\t<tr><td>2008/01/10 21:45:47</td><td>339                </td><td>WC2B 5JS           </td><td>SW1P 3AU           </td><td>560                </td><td>15                 </td><td>6                  </td><td>2                  </td><td>1.5                </td><td>Yes                </td><td> 80                </td><td>Yes                </td><td>530518             </td><td>180960             </td><td>529902             </td><td>179641             </td><td> 1455.7531         </td></tr>\n",
       "\t<tr><td>2008/01/10 21:54:13</td><td>204                </td><td>WC2N 5PH           </td><td>SW1P 3AU           </td><td>410                </td><td>15                 </td><td>5                  </td><td>2                  </td><td>1.5                </td><td>No                 </td><td> 80                </td><td>No                 </td><td>530214             </td><td>180386             </td><td>529902             </td><td>179641             </td><td>  807.6936         </td></tr>\n",
       "\t<tr><td>2008/01/10 22:01:53</td><td>352                </td><td>EC1V 4JP           </td><td>NW5 2QH            </td><td>570                </td><td>15                 </td><td>6                  </td><td>2                  </td><td>1.5                </td><td>No                 </td><td>300                </td><td>No                 </td><td>531634             </td><td>182177             </td><td>529248             </td><td>185213             </td><td> 3861.3847         </td></tr>\n",
       "\t<tr><td>2008/01/10 22:02:00</td><td>297                </td><td>N3 1DH             </td><td>N17 6QA            </td><td>450                </td><td>15                 </td><td>6                  </td><td>1                  </td><td>1.5                </td><td>No                 </td><td> 40                </td><td>Yes                </td><td>525109             </td><td>190628             </td><td>533788             </td><td>189994             </td><td> 8702.1260         </td></tr>\n",
       "\t<tr><td>2008/01/10 22:28:51</td><td>342                </td><td>SW16 1DA           </td><td>SW18 1NN           </td><td>530                </td><td>15                 </td><td>6                  </td><td>2                  </td><td>1.5                </td><td>Yes                </td><td>120                </td><td>No                 </td><td>530201             </td><td>172499             </td><td>525155             </td><td>175180             </td><td> 5714.0071         </td></tr>\n",
       "\t<tr><td>2008/01/10 22:33:16</td><td>338                </td><td>SE5 8DH            </td><td>SW1P 3AU           </td><td>470                </td><td>15                 </td><td>6                  </td><td>2                  </td><td>1.5                </td><td>Yes                </td><td> 40                </td><td>No                 </td><td>533529             </td><td>175888             </td><td>529902             </td><td>179641             </td><td> 5219.2086         </td></tr>\n",
       "\t<tr><td>2008/01/10 22:36:38</td><td>314                </td><td>W1D 3RZ            </td><td>SW1V 4QQ           </td><td>425                </td><td>15                 </td><td>6                  </td><td>1                  </td><td>2.0                </td><td>No                 </td><td> 40                </td><td>No                 </td><td>529684             </td><td>181099             </td><td>528924             </td><td>178440             </td><td> 2765.4802         </td></tr>\n",
       "\t<tr><td>2008/01/10 22:43:57</td><td>303                </td><td>NW5 2TG            </td><td>SW1P 3AU           </td><td>570                </td><td>15                 </td><td>6                  </td><td>1                  </td><td>1.5                </td><td>No                 </td><td>300                </td><td>Yes                </td><td>529028             </td><td>185219             </td><td>529902             </td><td>179641             </td><td> 5646.0570         </td></tr>\n",
       "\t<tr><td>2008/01/10 22:48:49</td><td> 51                </td><td>SW1P 1DN           </td><td>SE1 2BN            </td><td>460                </td><td>15                 </td><td>4                  </td><td>2                  </td><td>1.5                </td><td>Yes                </td><td> 80                </td><td>Yes                </td><td>529370             </td><td>178996             </td><td>534057             </td><td>179682             </td><td> 4736.9362         </td></tr>\n",
       "\t<tr><td>2008/01/10 22:55:13</td><td>157                </td><td>N3 1DH             </td><td>N3 1DH             </td><td>430                </td><td>15                 </td><td>5                  </td><td>1                  </td><td>1.5                </td><td>No                 </td><td>120                </td><td>Yes                </td><td>525109             </td><td>190628             </td><td>525109             </td><td>190628             </td><td>    0.0000         </td></tr>\n",
       "\t<tr><td>2008/01/10 23:02:49</td><td>167                </td><td>W1D 3TA            </td><td>NW5 2QH            </td><td>535                </td><td>15                 </td><td>5                  </td><td>1                  </td><td>2.0                </td><td>Yes                </td><td>300                </td><td>Yes                </td><td>529586             </td><td>181258             </td><td>529248             </td><td>185213             </td><td> 3969.4167         </td></tr>\n",
       "\t<tr><td>2008/01/10 23:10:33</td><td>199                </td><td>CR0 2SS            </td><td>SW18 1NN           </td><td>560                </td><td>15                 </td><td>5                  </td><td>2                  </td><td>1.5                </td><td>Yes                </td><td>300                </td><td>Yes                </td><td>531542             </td><td>167084             </td><td>525155             </td><td>175180             </td><td>10312.0796         </td></tr>\n",
       "\t<tr><td>2008/01/10 23:15:32</td><td> 76                </td><td>SE1 3XB            </td><td>SE1 2BN            </td><td>415                </td><td>15                 </td><td>4                  </td><td>2                  </td><td>2.0                </td><td>No                 </td><td> 80                </td><td>No                 </td><td>533256             </td><td>179711             </td><td>534057             </td><td>179682             </td><td>  801.5248         </td></tr>\n",
       "\t<tr><td>2008/01/10 23:29:01</td><td>354                </td><td>EC1M 6BH           </td><td>SE1 2BN            </td><td>495                </td><td>15                 </td><td>6                  </td><td>2                  </td><td>2.0                </td><td>Yes                </td><td> 40                </td><td>No                 </td><td>531767             </td><td>181811             </td><td>534057             </td><td>179682             </td><td> 3126.7781         </td></tr>\n",
       "\t<tr><td>2008/01/10 23:37:01</td><td>355                </td><td>WC1E 7HJ           </td><td>SW1V 4QQ           </td><td>585                </td><td>15                 </td><td>6                  </td><td>2                  </td><td>2.0                </td><td>Yes                </td><td> 80                </td><td>Yes                </td><td>529551             </td><td>181921             </td><td>528924             </td><td>178440             </td><td> 3537.0171         </td></tr>\n",
       "</tbody>\n",
       "</table>\n"
      ],
      "text/latex": [
       "\\begin{tabular}{r|lllllllllllllllll}\n",
       " X.U.FEFF.Date & Configuration & Customer.Postcode & Store.Postcode & Retail.Price & Screen.Size..Inches. & Battery.Life..Hours. & RAM..GB. & Processor.Speeds..GHz. & Integrated.Wireless. & HD.Size..GB. & Bundled.Applications. & OS.X.Customer & OS.Y.Customer & OS.X.Store & OS.Y.Store & CustomerStoreDistance\\\\\n",
       "\\hline\n",
       "\t 2008/01/01 00:01:19 & 163                 & EC4V 5BH            & SE1 2BN             & 455                 & 15                  & 5                   & 1                   & 2.0                 & Yes                 &  80                 & Yes                 & 532041              & 180995              & 534057              & 179682              & 2405.8730          \\\\\n",
       "\t 2008/01/01 00:02:52 & 320                 & SW4 0JL             & SW12 9HD            & 545                 & 15                  & 6                   & 1                   & 2.0                 & No                  & 300                 & No                  & 529240              & 175537              & 528739              & 173080              & 2507.5586          \\\\\n",
       "\t 2008/01/01 00:04:18 &  23                 & EC3V 1LR            & E2 0RY              & 515                 & 15                  & 4                   & 1                   & 2.0                 & Yes                 & 300                 & Yes                 & 533095              & 181047              & 535652              & 182961              & 3194.0014          \\\\\n",
       "\t 2008/01/01 00:04:40 & 169                 & SW1P 3AU            & SE1 2BN             & 395                 & 15                  & 5                   & 1                   & 2.0                 & No                  &  40                 & Yes                 & 529902              & 179641              & 534057              & 179682              & 4155.2023          \\\\\n",
       "\t 2008/01/01 00:06:04 & 365                 & EC4V 4EG            & SW1V 4QQ            & 585                 & 15                  & 6                   & 2                   & 2.0                 & No                  & 120                 & Yes                 & 531684              & 180948              & 528924              & 178440              & 3729.2981          \\\\\n",
       "\t 2008/01/01 00:12:26 & 309                 & W1B 5PX             & SW1V 4QQ            & 555                 & 15                  & 6                   & 1                   & 2.0                 & Yes                 & 120                 & Yes                 & 529207              & 180969              & 528924              & 178440              & 2544.7849          \\\\\n",
       "\t 2008/01/01 00:14:32 &  75                 & SE25 4LX            & SE8 3JD             & 465                 & 15                  & 4                   & 2                   & 2.0                 & No                  &  80                 & Yes                 & 534575              & 168236              & 537175              & 177885              & 9993.1577          \\\\\n",
       "\t 2008/01/01 00:17:13 & 346                 & N7 6AR              & E2 0RY              & 450                 & 15                  & 6                   & 2                   & 1.5                 & No                  &  40                 & No                  & 530461              & 186176              & 535652              & 182961              & 6105.9566          \\\\\n",
       "\t 2008/01/01 00:24:08 &  70                 & W3 7JT              & SW18 1NN            & 455                 & 15                  & 4                   & 2                   & 2.0                 & Yes                 & 120                 & No                  & 520898              & 180071              & 525155              & 175180              & 6484.1291          \\\\\n",
       "\t 2008/01/01 00:56:50 & 351                 & SW8 1RB             & SW1V 4QQ            & 620                 & 15                  & 6                   & 2                   & 1.5                 & No                  & 300                 & Yes                 & 530298              & 177435              & 528924              & 178440              & 1702.3222          \\\\\n",
       "\t 2008/01/01 01:00:49 & 209                 & SE26 5HB            & CR7 8LE             & 465                 & 15                  & 5                   & 2                   & 2.0                 & Yes                 &  40                 & Yes                 & 535838              & 171458              & 532714              & 168302              & 4440.6882          \\\\\n",
       "\t 2008/01/01 01:03:25 & 359                 & W1T 1DG             & NW5 2QH             & 665                 & 15                  & 6                   & 2                   & 2.0                 & Yes                 & 300                 & Yes                 & 529584              & 181554              & 529248              & 185213              & 3674.3948          \\\\\n",
       "\t 2008/01/01 01:05:10 & 300                 & TW9 3AH             & W4 3PH              & 440                 & 15                  & 6                   & 1                   & 1.5                 & No                  &  80                 & No                  & 518891              & 177662              & 519585              & 177640              &  694.3486          \\\\\n",
       "\t 2008/01/01 01:07:08 & 363                 & N1 9DU              & SW1V 4QQ            & 565                 & 15                  & 6                   & 2                   & 2.0                 & No                  &  80                 & Yes                 & 530451              & 183067              & 528924              & 178440              & 4872.4591          \\\\\n",
       "\t 2008/01/01 01:15:42 &  22                 & N1 8LU              & E2 0RY              & 405                 & 15                  & 4                   & 1                   & 2.0                 & Yes                 & 120                 & No                  & 531957              & 183906              & 535652              & 182961              & 3813.9284          \\\\\n",
       "\t 2008/01/01 01:18:44 &  53                 & E14 0BB             & SE8 3JD             & 480                 & 15                  & 4                   & 2                   & 1.5                 & Yes                 & 120                 & Yes                 & 538189              & 180731              & 537175              & 177885              & 3021.2435          \\\\\n",
       "\t 2008/01/01 01:29:40 & 310                 & WC1X 0AE            & SW1P 3AU            & 505                 & 15                  & 6                   & 1                   & 2.0                 & Yes                 & 120                 & No                  & 531065              & 182190              & 529902              & 179641              & 2801.7798          \\\\\n",
       "\t 2008/01/01 01:30:52 & 314                 & N1 9BL              & SE1 2BN             & 425                 & 15                  & 6                   & 1                   & 2.0                 & No                  &  40                 & No                  & 530520              & 183119              & 534057              & 179682              & 4931.8696          \\\\\n",
       "\t 2008/01/01 01:32:30 & 320                 & WC2E 8RF            & SE1 2BN             & 545                 & 15                  & 6                   & 1                   & 2.0                 & No                  & 300                 & No                  & 530351              & 180907              & 534057              & 179682              & 3903.2116          \\\\\n",
       "\t 2008/01/01 01:32:55 & 299                 & SE1 3XB             & SW1P 3AU            & 490                 & 15                  & 6                   & 1                   & 1.5                 & No                  &  80                 & Yes                 & 533256              & 179711              & 529902              & 179641              & 3354.7304          \\\\\n",
       "\t 2008/01/01 01:40:35 & 205                 & EC3N 2AE            & SE1 2BN             & 480                 & 15                  & 5                   & 2                   & 1.5                 & No                  & 120                 & Yes                 & 533409              & 180902              & 534057              & 179682              & 1381.4138          \\\\\n",
       "\t 2008/01/01 01:42:26 & 216                 & E6 3BD              & E2 0RY              & 535                 & 15                  & 5                   & 2                   & 2.0                 & Yes                 & 300                 & No                  & 541936              & 183350              & 535652              & 182961              & 6296.0287          \\\\\n",
       "\t 2008/01/01 01:42:54 & 203                 & W1T 1HH             & NW5 2QH             & 460                 & 15                  & 5                   & 2                   & 1.5                 & No                  &  80                 & Yes                 & 529654              & 181374              & 529248              & 185213              & 3860.4089          \\\\\n",
       "\t 2008/01/01 01:53:15 & 209                 & SE26 4BG            & CR7 8LE             & 465                 & 15                  & 5                   & 2                   & 2.0                 & Yes                 &  40                 & Yes                 & 534883              & 172132              & 532714              & 168302              & 4401.5294          \\\\\n",
       "\t 2008/01/01 02:00:08 & 368                 & EC1R 0DY            & NW5 2QH             & 595                 & 15                  & 6                   & 2                   & 2.0                 & No                  & 300                 & No                  & 531497              & 182177              & 529248              & 185213              & 3778.2664          \\\\\n",
       "\t 2008/01/01 02:00:21 & 293                 & E6 1PW              & SE8 3JD             & 530                 & 15                  & 6                   & 1                   & 1.5                 & Yes                 & 120                 & Yes                 & 541540              & 183278              & 537175              & 177885              & 6938.1319          \\\\\n",
       "\t 2008/01/01 02:22:09 & 352                 & E2 0JD              & SE8 3JD             & 570                 & 15                  & 6                   & 2                   & 1.5                 & No                  & 300                 & No                  & 535274              & 182846              & 537175              & 177885              & 5312.7509          \\\\\n",
       "\t 2008/01/01 02:26:52 & 215                 & SE10 9NW            & SE1 2BN             & 585                 & 15                  & 5                   & 2                   & 2.0                 & Yes                 & 300                 & Yes                 & 538670              & 178069              & 534057              & 179682              & 4886.8741          \\\\\n",
       "\t 2008/01/01 02:29:54 & 347                 & SE1 9AA             & SW1P 3AU            & 540                 & 15                  & 6                   & 2                   & 1.5                 & No                  &  80                 & Yes                 & 532585              & 180197              & 529902              & 179641              & 2740.0046          \\\\\n",
       "\t 2008/01/01 02:31:09 & 340                 & W1H 1DG             & SW1P 3AU            & 510                 & 15                  & 6                   & 2                   & 1.5                 & Yes                 &  80                 & No                  & 527601              & 181753              & 529902              & 179641              & 3123.3227          \\\\\n",
       "\t ... & ... & ... & ... & ... & ... & ... & ... & ... & ... & ... & ... & ... & ... & ... & ... & ...\\\\\n",
       "\t 2008/01/10 20:16:01 & 357                 & N5 2LL              & N17 6QA             & 605                 & 15                  & 6                   & 2                   & 2.0                 & Yes                 & 120                 & Yes                 & 531921              & 186234              & 533788              & 189994              &  4198.0101         \\\\\n",
       "\t 2008/01/10 20:36:11 & 294                 & SW8 1RB             & SW1P 3AU            & 480                 & 15                  & 6                   & 1                   & 1.5                 & Yes                 & 120                 & No                  & 530298              & 177435              & 529902              & 179641              &  2241.2613         \\\\\n",
       "\t 2008/01/10 20:37:56 &  67                 & SW1P 1DN            & SE1 2BN             & 485                 & 15                  & 4                   & 2                   & 2.0                 & Yes                 &  80                 & Yes                 & 529370              & 178996              & 534057              & 179682              &  4736.9362         \\\\\n",
       "\t 2008/01/10 20:41:28 & 159                 & SE25 6EF            & SE8 3JD             & 490                 & 15                  & 5                   & 1                   & 1.5                 & No                  & 300                 & Yes                 & 534086              & 168521              & 537175              & 177885              &  9860.3457         \\\\\n",
       "\t 2008/01/10 20:50:58 & 356                 & W1J 7QQ             & SW1P 3AU            & 535                 & 15                  & 6                   & 2                   & 2.0                 & Yes                 &  80                 & No                  & 528745              & 180265              & 529902              & 179641              &  1314.5436         \\\\\n",
       "\t 2008/01/10 20:52:40 &  61                 & N1 9NL              & SW1P 3AU            & 460                 & 15                  & 4                   & 2                   & 1.5                 & No                  & 120                 & Yes                 & 530455              & 182970              & 529902              & 179641              &  3374.6185         \\\\\n",
       "\t 2008/01/10 21:00:15 & 320                 & W1H 7PP             & SW1P 3AU            & 545                 & 15                  & 6                   & 1                   & 2.0                 & No                  & 300                 & No                  & 527732              & 181195              & 529902              & 179641              &  2669.0478         \\\\\n",
       "\t 2008/01/10 21:13:42 & 289                 & KT4 7NY             & SW18 1NN            & 470                 & 15                  & 6                   & 1                   & 1.5                 & Yes                 &  40                 & Yes                 & 521892              & 166332              & 525155              & 175180              &  9430.4970         \\\\\n",
       "\t 2008/01/10 21:19:59 & 351                 & SE22 9JA            & SE8 3JD             & 620                 & 15                  & 6                   & 2                   & 1.5                 & No                  & 300                 & Yes                 & 533950              & 174559              & 537175              & 177885              &  4632.8070         \\\\\n",
       "\t 2008/01/10 21:22:46 & 157                 & W1W 7QL             & SW1V 4QQ            & 430                 & 15                  & 5                   & 1                   & 1.5                 & No                  & 120                 & Yes                 & 529131              & 181596              & 528924              & 178440              &  3162.7812         \\\\\n",
       "\t 2008/01/10 21:30:23 & 208                 & N2 9EY              & N17 6QA             & 490                 & 15                  & 5                   & 2                   & 1.5                 & No                  & 300                 & No                  & 527830              & 189608              & 533788              & 189994              &  5970.4908         \\\\\n",
       "\t 2008/01/10 21:32:03 &   3                 & SE1 2JX             & SE1 2BN             & 410                 & 15                  & 4                   & 1                   & 1.5                 & Yes                 &  80                 & Yes                 & 533647              & 179825              & 534057              & 179682              &   434.2223         \\\\\n",
       "\t 2008/01/10 21:37:09 & 194                 & E12 5BP             & E7 8NW              & 390                 & 15                  & 5                   & 2                   & 1.5                 & Yes                 &  40                 & No                  & 542008              & 185622              & 541428              & 184515              &  1249.7396         \\\\\n",
       "\t 2008/01/10 21:38:35 & 176                 & EC2A 2ER            & SW1P 3AU            & 465                 & 15                  & 5                   & 1                   & 2.0                 & No                  & 300                 & No                  & 532961              & 181912              & 529902              & 179641              &  3809.8454         \\\\\n",
       "\t 2008/01/10 21:39:11 & 168                 & SW1A 2NH            & SW1V 4QQ            & 485                 & 15                  & 5                   & 1                   & 2.0                 & Yes                 & 300                 & No                  & 530188              & 179798              & 528924              & 178440              &  1855.2251         \\\\\n",
       "\t 2008/01/10 21:45:47 & 339                 & WC2B 5JS            & SW1P 3AU            & 560                 & 15                  & 6                   & 2                   & 1.5                 & Yes                 &  80                 & Yes                 & 530518              & 180960              & 529902              & 179641              &  1455.7531         \\\\\n",
       "\t 2008/01/10 21:54:13 & 204                 & WC2N 5PH            & SW1P 3AU            & 410                 & 15                  & 5                   & 2                   & 1.5                 & No                  &  80                 & No                  & 530214              & 180386              & 529902              & 179641              &   807.6936         \\\\\n",
       "\t 2008/01/10 22:01:53 & 352                 & EC1V 4JP            & NW5 2QH             & 570                 & 15                  & 6                   & 2                   & 1.5                 & No                  & 300                 & No                  & 531634              & 182177              & 529248              & 185213              &  3861.3847         \\\\\n",
       "\t 2008/01/10 22:02:00 & 297                 & N3 1DH              & N17 6QA             & 450                 & 15                  & 6                   & 1                   & 1.5                 & No                  &  40                 & Yes                 & 525109              & 190628              & 533788              & 189994              &  8702.1260         \\\\\n",
       "\t 2008/01/10 22:28:51 & 342                 & SW16 1DA            & SW18 1NN            & 530                 & 15                  & 6                   & 2                   & 1.5                 & Yes                 & 120                 & No                  & 530201              & 172499              & 525155              & 175180              &  5714.0071         \\\\\n",
       "\t 2008/01/10 22:33:16 & 338                 & SE5 8DH             & SW1P 3AU            & 470                 & 15                  & 6                   & 2                   & 1.5                 & Yes                 &  40                 & No                  & 533529              & 175888              & 529902              & 179641              &  5219.2086         \\\\\n",
       "\t 2008/01/10 22:36:38 & 314                 & W1D 3RZ             & SW1V 4QQ            & 425                 & 15                  & 6                   & 1                   & 2.0                 & No                  &  40                 & No                  & 529684              & 181099              & 528924              & 178440              &  2765.4802         \\\\\n",
       "\t 2008/01/10 22:43:57 & 303                 & NW5 2TG             & SW1P 3AU            & 570                 & 15                  & 6                   & 1                   & 1.5                 & No                  & 300                 & Yes                 & 529028              & 185219              & 529902              & 179641              &  5646.0570         \\\\\n",
       "\t 2008/01/10 22:48:49 &  51                 & SW1P 1DN            & SE1 2BN             & 460                 & 15                  & 4                   & 2                   & 1.5                 & Yes                 &  80                 & Yes                 & 529370              & 178996              & 534057              & 179682              &  4736.9362         \\\\\n",
       "\t 2008/01/10 22:55:13 & 157                 & N3 1DH              & N3 1DH              & 430                 & 15                  & 5                   & 1                   & 1.5                 & No                  & 120                 & Yes                 & 525109              & 190628              & 525109              & 190628              &     0.0000         \\\\\n",
       "\t 2008/01/10 23:02:49 & 167                 & W1D 3TA             & NW5 2QH             & 535                 & 15                  & 5                   & 1                   & 2.0                 & Yes                 & 300                 & Yes                 & 529586              & 181258              & 529248              & 185213              &  3969.4167         \\\\\n",
       "\t 2008/01/10 23:10:33 & 199                 & CR0 2SS             & SW18 1NN            & 560                 & 15                  & 5                   & 2                   & 1.5                 & Yes                 & 300                 & Yes                 & 531542              & 167084              & 525155              & 175180              & 10312.0796         \\\\\n",
       "\t 2008/01/10 23:15:32 &  76                 & SE1 3XB             & SE1 2BN             & 415                 & 15                  & 4                   & 2                   & 2.0                 & No                  &  80                 & No                  & 533256              & 179711              & 534057              & 179682              &   801.5248         \\\\\n",
       "\t 2008/01/10 23:29:01 & 354                 & EC1M 6BH            & SE1 2BN             & 495                 & 15                  & 6                   & 2                   & 2.0                 & Yes                 &  40                 & No                  & 531767              & 181811              & 534057              & 179682              &  3126.7781         \\\\\n",
       "\t 2008/01/10 23:37:01 & 355                 & WC1E 7HJ            & SW1V 4QQ            & 585                 & 15                  & 6                   & 2                   & 2.0                 & Yes                 &  80                 & Yes                 & 529551              & 181921              & 528924              & 178440              &  3537.0171         \\\\\n",
       "\\end{tabular}\n"
      ],
      "text/markdown": [
       "\n",
       "| X.U.FEFF.Date | Configuration | Customer.Postcode | Store.Postcode | Retail.Price | Screen.Size..Inches. | Battery.Life..Hours. | RAM..GB. | Processor.Speeds..GHz. | Integrated.Wireless. | HD.Size..GB. | Bundled.Applications. | OS.X.Customer | OS.Y.Customer | OS.X.Store | OS.Y.Store | CustomerStoreDistance |\n",
       "|---|---|---|---|---|---|---|---|---|---|---|---|---|---|---|---|---|\n",
       "| 2008/01/01 00:01:19 | 163                 | EC4V 5BH            | SE1 2BN             | 455                 | 15                  | 5                   | 1                   | 2.0                 | Yes                 |  80                 | Yes                 | 532041              | 180995              | 534057              | 179682              | 2405.8730           |\n",
       "| 2008/01/01 00:02:52 | 320                 | SW4 0JL             | SW12 9HD            | 545                 | 15                  | 6                   | 1                   | 2.0                 | No                  | 300                 | No                  | 529240              | 175537              | 528739              | 173080              | 2507.5586           |\n",
       "| 2008/01/01 00:04:18 |  23                 | EC3V 1LR            | E2 0RY              | 515                 | 15                  | 4                   | 1                   | 2.0                 | Yes                 | 300                 | Yes                 | 533095              | 181047              | 535652              | 182961              | 3194.0014           |\n",
       "| 2008/01/01 00:04:40 | 169                 | SW1P 3AU            | SE1 2BN             | 395                 | 15                  | 5                   | 1                   | 2.0                 | No                  |  40                 | Yes                 | 529902              | 179641              | 534057              | 179682              | 4155.2023           |\n",
       "| 2008/01/01 00:06:04 | 365                 | EC4V 4EG            | SW1V 4QQ            | 585                 | 15                  | 6                   | 2                   | 2.0                 | No                  | 120                 | Yes                 | 531684              | 180948              | 528924              | 178440              | 3729.2981           |\n",
       "| 2008/01/01 00:12:26 | 309                 | W1B 5PX             | SW1V 4QQ            | 555                 | 15                  | 6                   | 1                   | 2.0                 | Yes                 | 120                 | Yes                 | 529207              | 180969              | 528924              | 178440              | 2544.7849           |\n",
       "| 2008/01/01 00:14:32 |  75                 | SE25 4LX            | SE8 3JD             | 465                 | 15                  | 4                   | 2                   | 2.0                 | No                  |  80                 | Yes                 | 534575              | 168236              | 537175              | 177885              | 9993.1577           |\n",
       "| 2008/01/01 00:17:13 | 346                 | N7 6AR              | E2 0RY              | 450                 | 15                  | 6                   | 2                   | 1.5                 | No                  |  40                 | No                  | 530461              | 186176              | 535652              | 182961              | 6105.9566           |\n",
       "| 2008/01/01 00:24:08 |  70                 | W3 7JT              | SW18 1NN            | 455                 | 15                  | 4                   | 2                   | 2.0                 | Yes                 | 120                 | No                  | 520898              | 180071              | 525155              | 175180              | 6484.1291           |\n",
       "| 2008/01/01 00:56:50 | 351                 | SW8 1RB             | SW1V 4QQ            | 620                 | 15                  | 6                   | 2                   | 1.5                 | No                  | 300                 | Yes                 | 530298              | 177435              | 528924              | 178440              | 1702.3222           |\n",
       "| 2008/01/01 01:00:49 | 209                 | SE26 5HB            | CR7 8LE             | 465                 | 15                  | 5                   | 2                   | 2.0                 | Yes                 |  40                 | Yes                 | 535838              | 171458              | 532714              | 168302              | 4440.6882           |\n",
       "| 2008/01/01 01:03:25 | 359                 | W1T 1DG             | NW5 2QH             | 665                 | 15                  | 6                   | 2                   | 2.0                 | Yes                 | 300                 | Yes                 | 529584              | 181554              | 529248              | 185213              | 3674.3948           |\n",
       "| 2008/01/01 01:05:10 | 300                 | TW9 3AH             | W4 3PH              | 440                 | 15                  | 6                   | 1                   | 1.5                 | No                  |  80                 | No                  | 518891              | 177662              | 519585              | 177640              |  694.3486           |\n",
       "| 2008/01/01 01:07:08 | 363                 | N1 9DU              | SW1V 4QQ            | 565                 | 15                  | 6                   | 2                   | 2.0                 | No                  |  80                 | Yes                 | 530451              | 183067              | 528924              | 178440              | 4872.4591           |\n",
       "| 2008/01/01 01:15:42 |  22                 | N1 8LU              | E2 0RY              | 405                 | 15                  | 4                   | 1                   | 2.0                 | Yes                 | 120                 | No                  | 531957              | 183906              | 535652              | 182961              | 3813.9284           |\n",
       "| 2008/01/01 01:18:44 |  53                 | E14 0BB             | SE8 3JD             | 480                 | 15                  | 4                   | 2                   | 1.5                 | Yes                 | 120                 | Yes                 | 538189              | 180731              | 537175              | 177885              | 3021.2435           |\n",
       "| 2008/01/01 01:29:40 | 310                 | WC1X 0AE            | SW1P 3AU            | 505                 | 15                  | 6                   | 1                   | 2.0                 | Yes                 | 120                 | No                  | 531065              | 182190              | 529902              | 179641              | 2801.7798           |\n",
       "| 2008/01/01 01:30:52 | 314                 | N1 9BL              | SE1 2BN             | 425                 | 15                  | 6                   | 1                   | 2.0                 | No                  |  40                 | No                  | 530520              | 183119              | 534057              | 179682              | 4931.8696           |\n",
       "| 2008/01/01 01:32:30 | 320                 | WC2E 8RF            | SE1 2BN             | 545                 | 15                  | 6                   | 1                   | 2.0                 | No                  | 300                 | No                  | 530351              | 180907              | 534057              | 179682              | 3903.2116           |\n",
       "| 2008/01/01 01:32:55 | 299                 | SE1 3XB             | SW1P 3AU            | 490                 | 15                  | 6                   | 1                   | 1.5                 | No                  |  80                 | Yes                 | 533256              | 179711              | 529902              | 179641              | 3354.7304           |\n",
       "| 2008/01/01 01:40:35 | 205                 | EC3N 2AE            | SE1 2BN             | 480                 | 15                  | 5                   | 2                   | 1.5                 | No                  | 120                 | Yes                 | 533409              | 180902              | 534057              | 179682              | 1381.4138           |\n",
       "| 2008/01/01 01:42:26 | 216                 | E6 3BD              | E2 0RY              | 535                 | 15                  | 5                   | 2                   | 2.0                 | Yes                 | 300                 | No                  | 541936              | 183350              | 535652              | 182961              | 6296.0287           |\n",
       "| 2008/01/01 01:42:54 | 203                 | W1T 1HH             | NW5 2QH             | 460                 | 15                  | 5                   | 2                   | 1.5                 | No                  |  80                 | Yes                 | 529654              | 181374              | 529248              | 185213              | 3860.4089           |\n",
       "| 2008/01/01 01:53:15 | 209                 | SE26 4BG            | CR7 8LE             | 465                 | 15                  | 5                   | 2                   | 2.0                 | Yes                 |  40                 | Yes                 | 534883              | 172132              | 532714              | 168302              | 4401.5294           |\n",
       "| 2008/01/01 02:00:08 | 368                 | EC1R 0DY            | NW5 2QH             | 595                 | 15                  | 6                   | 2                   | 2.0                 | No                  | 300                 | No                  | 531497              | 182177              | 529248              | 185213              | 3778.2664           |\n",
       "| 2008/01/01 02:00:21 | 293                 | E6 1PW              | SE8 3JD             | 530                 | 15                  | 6                   | 1                   | 1.5                 | Yes                 | 120                 | Yes                 | 541540              | 183278              | 537175              | 177885              | 6938.1319           |\n",
       "| 2008/01/01 02:22:09 | 352                 | E2 0JD              | SE8 3JD             | 570                 | 15                  | 6                   | 2                   | 1.5                 | No                  | 300                 | No                  | 535274              | 182846              | 537175              | 177885              | 5312.7509           |\n",
       "| 2008/01/01 02:26:52 | 215                 | SE10 9NW            | SE1 2BN             | 585                 | 15                  | 5                   | 2                   | 2.0                 | Yes                 | 300                 | Yes                 | 538670              | 178069              | 534057              | 179682              | 4886.8741           |\n",
       "| 2008/01/01 02:29:54 | 347                 | SE1 9AA             | SW1P 3AU            | 540                 | 15                  | 6                   | 2                   | 1.5                 | No                  |  80                 | Yes                 | 532585              | 180197              | 529902              | 179641              | 2740.0046           |\n",
       "| 2008/01/01 02:31:09 | 340                 | W1H 1DG             | SW1P 3AU            | 510                 | 15                  | 6                   | 2                   | 1.5                 | Yes                 |  80                 | No                  | 527601              | 181753              | 529902              | 179641              | 3123.3227           |\n",
       "| ... | ... | ... | ... | ... | ... | ... | ... | ... | ... | ... | ... | ... | ... | ... | ... | ... |\n",
       "| 2008/01/10 20:16:01 | 357                 | N5 2LL              | N17 6QA             | 605                 | 15                  | 6                   | 2                   | 2.0                 | Yes                 | 120                 | Yes                 | 531921              | 186234              | 533788              | 189994              |  4198.0101          |\n",
       "| 2008/01/10 20:36:11 | 294                 | SW8 1RB             | SW1P 3AU            | 480                 | 15                  | 6                   | 1                   | 1.5                 | Yes                 | 120                 | No                  | 530298              | 177435              | 529902              | 179641              |  2241.2613          |\n",
       "| 2008/01/10 20:37:56 |  67                 | SW1P 1DN            | SE1 2BN             | 485                 | 15                  | 4                   | 2                   | 2.0                 | Yes                 |  80                 | Yes                 | 529370              | 178996              | 534057              | 179682              |  4736.9362          |\n",
       "| 2008/01/10 20:41:28 | 159                 | SE25 6EF            | SE8 3JD             | 490                 | 15                  | 5                   | 1                   | 1.5                 | No                  | 300                 | Yes                 | 534086              | 168521              | 537175              | 177885              |  9860.3457          |\n",
       "| 2008/01/10 20:50:58 | 356                 | W1J 7QQ             | SW1P 3AU            | 535                 | 15                  | 6                   | 2                   | 2.0                 | Yes                 |  80                 | No                  | 528745              | 180265              | 529902              | 179641              |  1314.5436          |\n",
       "| 2008/01/10 20:52:40 |  61                 | N1 9NL              | SW1P 3AU            | 460                 | 15                  | 4                   | 2                   | 1.5                 | No                  | 120                 | Yes                 | 530455              | 182970              | 529902              | 179641              |  3374.6185          |\n",
       "| 2008/01/10 21:00:15 | 320                 | W1H 7PP             | SW1P 3AU            | 545                 | 15                  | 6                   | 1                   | 2.0                 | No                  | 300                 | No                  | 527732              | 181195              | 529902              | 179641              |  2669.0478          |\n",
       "| 2008/01/10 21:13:42 | 289                 | KT4 7NY             | SW18 1NN            | 470                 | 15                  | 6                   | 1                   | 1.5                 | Yes                 |  40                 | Yes                 | 521892              | 166332              | 525155              | 175180              |  9430.4970          |\n",
       "| 2008/01/10 21:19:59 | 351                 | SE22 9JA            | SE8 3JD             | 620                 | 15                  | 6                   | 2                   | 1.5                 | No                  | 300                 | Yes                 | 533950              | 174559              | 537175              | 177885              |  4632.8070          |\n",
       "| 2008/01/10 21:22:46 | 157                 | W1W 7QL             | SW1V 4QQ            | 430                 | 15                  | 5                   | 1                   | 1.5                 | No                  | 120                 | Yes                 | 529131              | 181596              | 528924              | 178440              |  3162.7812          |\n",
       "| 2008/01/10 21:30:23 | 208                 | N2 9EY              | N17 6QA             | 490                 | 15                  | 5                   | 2                   | 1.5                 | No                  | 300                 | No                  | 527830              | 189608              | 533788              | 189994              |  5970.4908          |\n",
       "| 2008/01/10 21:32:03 |   3                 | SE1 2JX             | SE1 2BN             | 410                 | 15                  | 4                   | 1                   | 1.5                 | Yes                 |  80                 | Yes                 | 533647              | 179825              | 534057              | 179682              |   434.2223          |\n",
       "| 2008/01/10 21:37:09 | 194                 | E12 5BP             | E7 8NW              | 390                 | 15                  | 5                   | 2                   | 1.5                 | Yes                 |  40                 | No                  | 542008              | 185622              | 541428              | 184515              |  1249.7396          |\n",
       "| 2008/01/10 21:38:35 | 176                 | EC2A 2ER            | SW1P 3AU            | 465                 | 15                  | 5                   | 1                   | 2.0                 | No                  | 300                 | No                  | 532961              | 181912              | 529902              | 179641              |  3809.8454          |\n",
       "| 2008/01/10 21:39:11 | 168                 | SW1A 2NH            | SW1V 4QQ            | 485                 | 15                  | 5                   | 1                   | 2.0                 | Yes                 | 300                 | No                  | 530188              | 179798              | 528924              | 178440              |  1855.2251          |\n",
       "| 2008/01/10 21:45:47 | 339                 | WC2B 5JS            | SW1P 3AU            | 560                 | 15                  | 6                   | 2                   | 1.5                 | Yes                 |  80                 | Yes                 | 530518              | 180960              | 529902              | 179641              |  1455.7531          |\n",
       "| 2008/01/10 21:54:13 | 204                 | WC2N 5PH            | SW1P 3AU            | 410                 | 15                  | 5                   | 2                   | 1.5                 | No                  |  80                 | No                  | 530214              | 180386              | 529902              | 179641              |   807.6936          |\n",
       "| 2008/01/10 22:01:53 | 352                 | EC1V 4JP            | NW5 2QH             | 570                 | 15                  | 6                   | 2                   | 1.5                 | No                  | 300                 | No                  | 531634              | 182177              | 529248              | 185213              |  3861.3847          |\n",
       "| 2008/01/10 22:02:00 | 297                 | N3 1DH              | N17 6QA             | 450                 | 15                  | 6                   | 1                   | 1.5                 | No                  |  40                 | Yes                 | 525109              | 190628              | 533788              | 189994              |  8702.1260          |\n",
       "| 2008/01/10 22:28:51 | 342                 | SW16 1DA            | SW18 1NN            | 530                 | 15                  | 6                   | 2                   | 1.5                 | Yes                 | 120                 | No                  | 530201              | 172499              | 525155              | 175180              |  5714.0071          |\n",
       "| 2008/01/10 22:33:16 | 338                 | SE5 8DH             | SW1P 3AU            | 470                 | 15                  | 6                   | 2                   | 1.5                 | Yes                 |  40                 | No                  | 533529              | 175888              | 529902              | 179641              |  5219.2086          |\n",
       "| 2008/01/10 22:36:38 | 314                 | W1D 3RZ             | SW1V 4QQ            | 425                 | 15                  | 6                   | 1                   | 2.0                 | No                  |  40                 | No                  | 529684              | 181099              | 528924              | 178440              |  2765.4802          |\n",
       "| 2008/01/10 22:43:57 | 303                 | NW5 2TG             | SW1P 3AU            | 570                 | 15                  | 6                   | 1                   | 1.5                 | No                  | 300                 | Yes                 | 529028              | 185219              | 529902              | 179641              |  5646.0570          |\n",
       "| 2008/01/10 22:48:49 |  51                 | SW1P 1DN            | SE1 2BN             | 460                 | 15                  | 4                   | 2                   | 1.5                 | Yes                 |  80                 | Yes                 | 529370              | 178996              | 534057              | 179682              |  4736.9362          |\n",
       "| 2008/01/10 22:55:13 | 157                 | N3 1DH              | N3 1DH              | 430                 | 15                  | 5                   | 1                   | 1.5                 | No                  | 120                 | Yes                 | 525109              | 190628              | 525109              | 190628              |     0.0000          |\n",
       "| 2008/01/10 23:02:49 | 167                 | W1D 3TA             | NW5 2QH             | 535                 | 15                  | 5                   | 1                   | 2.0                 | Yes                 | 300                 | Yes                 | 529586              | 181258              | 529248              | 185213              |  3969.4167          |\n",
       "| 2008/01/10 23:10:33 | 199                 | CR0 2SS             | SW18 1NN            | 560                 | 15                  | 5                   | 2                   | 1.5                 | Yes                 | 300                 | Yes                 | 531542              | 167084              | 525155              | 175180              | 10312.0796          |\n",
       "| 2008/01/10 23:15:32 |  76                 | SE1 3XB             | SE1 2BN             | 415                 | 15                  | 4                   | 2                   | 2.0                 | No                  |  80                 | No                  | 533256              | 179711              | 534057              | 179682              |   801.5248          |\n",
       "| 2008/01/10 23:29:01 | 354                 | EC1M 6BH            | SE1 2BN             | 495                 | 15                  | 6                   | 2                   | 2.0                 | Yes                 |  40                 | No                  | 531767              | 181811              | 534057              | 179682              |  3126.7781          |\n",
       "| 2008/01/10 23:37:01 | 355                 | WC1E 7HJ            | SW1V 4QQ            | 585                 | 15                  | 6                   | 2                   | 2.0                 | Yes                 |  80                 | Yes                 | 529551              | 181921              | 528924              | 178440              |  3537.0171          |\n",
       "\n"
      ],
      "text/plain": [
       "     X.U.FEFF.Date       Configuration Customer.Postcode Store.Postcode\n",
       "1    2008/01/01 00:01:19 163           EC4V 5BH          SE1 2BN       \n",
       "2    2008/01/01 00:02:52 320           SW4 0JL           SW12 9HD      \n",
       "3    2008/01/01 00:04:18  23           EC3V 1LR          E2 0RY        \n",
       "4    2008/01/01 00:04:40 169           SW1P 3AU          SE1 2BN       \n",
       "5    2008/01/01 00:06:04 365           EC4V 4EG          SW1V 4QQ      \n",
       "6    2008/01/01 00:12:26 309           W1B 5PX           SW1V 4QQ      \n",
       "7    2008/01/01 00:14:32  75           SE25 4LX          SE8 3JD       \n",
       "8    2008/01/01 00:17:13 346           N7 6AR            E2 0RY        \n",
       "9    2008/01/01 00:24:08  70           W3 7JT            SW18 1NN      \n",
       "10   2008/01/01 00:56:50 351           SW8 1RB           SW1V 4QQ      \n",
       "11   2008/01/01 01:00:49 209           SE26 5HB          CR7 8LE       \n",
       "12   2008/01/01 01:03:25 359           W1T 1DG           NW5 2QH       \n",
       "13   2008/01/01 01:05:10 300           TW9 3AH           W4 3PH        \n",
       "14   2008/01/01 01:07:08 363           N1 9DU            SW1V 4QQ      \n",
       "15   2008/01/01 01:15:42  22           N1 8LU            E2 0RY        \n",
       "16   2008/01/01 01:18:44  53           E14 0BB           SE8 3JD       \n",
       "17   2008/01/01 01:29:40 310           WC1X 0AE          SW1P 3AU      \n",
       "18   2008/01/01 01:30:52 314           N1 9BL            SE1 2BN       \n",
       "19   2008/01/01 01:32:30 320           WC2E 8RF          SE1 2BN       \n",
       "20   2008/01/01 01:32:55 299           SE1 3XB           SW1P 3AU      \n",
       "21   2008/01/01 01:40:35 205           EC3N 2AE          SE1 2BN       \n",
       "22   2008/01/01 01:42:26 216           E6 3BD            E2 0RY        \n",
       "23   2008/01/01 01:42:54 203           W1T 1HH           NW5 2QH       \n",
       "24   2008/01/01 01:53:15 209           SE26 4BG          CR7 8LE       \n",
       "25   2008/01/01 02:00:08 368           EC1R 0DY          NW5 2QH       \n",
       "26   2008/01/01 02:00:21 293           E6 1PW            SE8 3JD       \n",
       "27   2008/01/01 02:22:09 352           E2 0JD            SE8 3JD       \n",
       "28   2008/01/01 02:26:52 215           SE10 9NW          SE1 2BN       \n",
       "29   2008/01/01 02:29:54 347           SE1 9AA           SW1P 3AU      \n",
       "30   2008/01/01 02:31:09 340           W1H 1DG           SW1P 3AU      \n",
       "...  ...                 ...           ...               ...           \n",
       "2485 2008/01/10 20:16:01 357           N5 2LL            N17 6QA       \n",
       "2486 2008/01/10 20:36:11 294           SW8 1RB           SW1P 3AU      \n",
       "2487 2008/01/10 20:37:56  67           SW1P 1DN          SE1 2BN       \n",
       "2488 2008/01/10 20:41:28 159           SE25 6EF          SE8 3JD       \n",
       "2489 2008/01/10 20:50:58 356           W1J 7QQ           SW1P 3AU      \n",
       "2490 2008/01/10 20:52:40  61           N1 9NL            SW1P 3AU      \n",
       "2491 2008/01/10 21:00:15 320           W1H 7PP           SW1P 3AU      \n",
       "2492 2008/01/10 21:13:42 289           KT4 7NY           SW18 1NN      \n",
       "2493 2008/01/10 21:19:59 351           SE22 9JA          SE8 3JD       \n",
       "2494 2008/01/10 21:22:46 157           W1W 7QL           SW1V 4QQ      \n",
       "2495 2008/01/10 21:30:23 208           N2 9EY            N17 6QA       \n",
       "2496 2008/01/10 21:32:03   3           SE1 2JX           SE1 2BN       \n",
       "2497 2008/01/10 21:37:09 194           E12 5BP           E7 8NW        \n",
       "2498 2008/01/10 21:38:35 176           EC2A 2ER          SW1P 3AU      \n",
       "2499 2008/01/10 21:39:11 168           SW1A 2NH          SW1V 4QQ      \n",
       "2500 2008/01/10 21:45:47 339           WC2B 5JS          SW1P 3AU      \n",
       "2501 2008/01/10 21:54:13 204           WC2N 5PH          SW1P 3AU      \n",
       "2502 2008/01/10 22:01:53 352           EC1V 4JP          NW5 2QH       \n",
       "2503 2008/01/10 22:02:00 297           N3 1DH            N17 6QA       \n",
       "2504 2008/01/10 22:28:51 342           SW16 1DA          SW18 1NN      \n",
       "2505 2008/01/10 22:33:16 338           SE5 8DH           SW1P 3AU      \n",
       "2506 2008/01/10 22:36:38 314           W1D 3RZ           SW1V 4QQ      \n",
       "2507 2008/01/10 22:43:57 303           NW5 2TG           SW1P 3AU      \n",
       "2508 2008/01/10 22:48:49  51           SW1P 1DN          SE1 2BN       \n",
       "2509 2008/01/10 22:55:13 157           N3 1DH            N3 1DH        \n",
       "2510 2008/01/10 23:02:49 167           W1D 3TA           NW5 2QH       \n",
       "2511 2008/01/10 23:10:33 199           CR0 2SS           SW18 1NN      \n",
       "2512 2008/01/10 23:15:32  76           SE1 3XB           SE1 2BN       \n",
       "2513 2008/01/10 23:29:01 354           EC1M 6BH          SE1 2BN       \n",
       "2514 2008/01/10 23:37:01 355           WC1E 7HJ          SW1V 4QQ      \n",
       "     Retail.Price Screen.Size..Inches. Battery.Life..Hours. RAM..GB.\n",
       "1    455          15                   5                    1       \n",
       "2    545          15                   6                    1       \n",
       "3    515          15                   4                    1       \n",
       "4    395          15                   5                    1       \n",
       "5    585          15                   6                    2       \n",
       "6    555          15                   6                    1       \n",
       "7    465          15                   4                    2       \n",
       "8    450          15                   6                    2       \n",
       "9    455          15                   4                    2       \n",
       "10   620          15                   6                    2       \n",
       "11   465          15                   5                    2       \n",
       "12   665          15                   6                    2       \n",
       "13   440          15                   6                    1       \n",
       "14   565          15                   6                    2       \n",
       "15   405          15                   4                    1       \n",
       "16   480          15                   4                    2       \n",
       "17   505          15                   6                    1       \n",
       "18   425          15                   6                    1       \n",
       "19   545          15                   6                    1       \n",
       "20   490          15                   6                    1       \n",
       "21   480          15                   5                    2       \n",
       "22   535          15                   5                    2       \n",
       "23   460          15                   5                    2       \n",
       "24   465          15                   5                    2       \n",
       "25   595          15                   6                    2       \n",
       "26   530          15                   6                    1       \n",
       "27   570          15                   6                    2       \n",
       "28   585          15                   5                    2       \n",
       "29   540          15                   6                    2       \n",
       "30   510          15                   6                    2       \n",
       "...  ...          ...                  ...                  ...     \n",
       "2485 605          15                   6                    2       \n",
       "2486 480          15                   6                    1       \n",
       "2487 485          15                   4                    2       \n",
       "2488 490          15                   5                    1       \n",
       "2489 535          15                   6                    2       \n",
       "2490 460          15                   4                    2       \n",
       "2491 545          15                   6                    1       \n",
       "2492 470          15                   6                    1       \n",
       "2493 620          15                   6                    2       \n",
       "2494 430          15                   5                    1       \n",
       "2495 490          15                   5                    2       \n",
       "2496 410          15                   4                    1       \n",
       "2497 390          15                   5                    2       \n",
       "2498 465          15                   5                    1       \n",
       "2499 485          15                   5                    1       \n",
       "2500 560          15                   6                    2       \n",
       "2501 410          15                   5                    2       \n",
       "2502 570          15                   6                    2       \n",
       "2503 450          15                   6                    1       \n",
       "2504 530          15                   6                    2       \n",
       "2505 470          15                   6                    2       \n",
       "2506 425          15                   6                    1       \n",
       "2507 570          15                   6                    1       \n",
       "2508 460          15                   4                    2       \n",
       "2509 430          15                   5                    1       \n",
       "2510 535          15                   5                    1       \n",
       "2511 560          15                   5                    2       \n",
       "2512 415          15                   4                    2       \n",
       "2513 495          15                   6                    2       \n",
       "2514 585          15                   6                    2       \n",
       "     Processor.Speeds..GHz. Integrated.Wireless. HD.Size..GB.\n",
       "1    2.0                    Yes                   80         \n",
       "2    2.0                    No                   300         \n",
       "3    2.0                    Yes                  300         \n",
       "4    2.0                    No                    40         \n",
       "5    2.0                    No                   120         \n",
       "6    2.0                    Yes                  120         \n",
       "7    2.0                    No                    80         \n",
       "8    1.5                    No                    40         \n",
       "9    2.0                    Yes                  120         \n",
       "10   1.5                    No                   300         \n",
       "11   2.0                    Yes                   40         \n",
       "12   2.0                    Yes                  300         \n",
       "13   1.5                    No                    80         \n",
       "14   2.0                    No                    80         \n",
       "15   2.0                    Yes                  120         \n",
       "16   1.5                    Yes                  120         \n",
       "17   2.0                    Yes                  120         \n",
       "18   2.0                    No                    40         \n",
       "19   2.0                    No                   300         \n",
       "20   1.5                    No                    80         \n",
       "21   1.5                    No                   120         \n",
       "22   2.0                    Yes                  300         \n",
       "23   1.5                    No                    80         \n",
       "24   2.0                    Yes                   40         \n",
       "25   2.0                    No                   300         \n",
       "26   1.5                    Yes                  120         \n",
       "27   1.5                    No                   300         \n",
       "28   2.0                    Yes                  300         \n",
       "29   1.5                    No                    80         \n",
       "30   1.5                    Yes                   80         \n",
       "...  ...                    ...                  ...         \n",
       "2485 2.0                    Yes                  120         \n",
       "2486 1.5                    Yes                  120         \n",
       "2487 2.0                    Yes                   80         \n",
       "2488 1.5                    No                   300         \n",
       "2489 2.0                    Yes                   80         \n",
       "2490 1.5                    No                   120         \n",
       "2491 2.0                    No                   300         \n",
       "2492 1.5                    Yes                   40         \n",
       "2493 1.5                    No                   300         \n",
       "2494 1.5                    No                   120         \n",
       "2495 1.5                    No                   300         \n",
       "2496 1.5                    Yes                   80         \n",
       "2497 1.5                    Yes                   40         \n",
       "2498 2.0                    No                   300         \n",
       "2499 2.0                    Yes                  300         \n",
       "2500 1.5                    Yes                   80         \n",
       "2501 1.5                    No                    80         \n",
       "2502 1.5                    No                   300         \n",
       "2503 1.5                    No                    40         \n",
       "2504 1.5                    Yes                  120         \n",
       "2505 1.5                    Yes                   40         \n",
       "2506 2.0                    No                    40         \n",
       "2507 1.5                    No                   300         \n",
       "2508 1.5                    Yes                   80         \n",
       "2509 1.5                    No                   120         \n",
       "2510 2.0                    Yes                  300         \n",
       "2511 1.5                    Yes                  300         \n",
       "2512 2.0                    No                    80         \n",
       "2513 2.0                    Yes                   40         \n",
       "2514 2.0                    Yes                   80         \n",
       "     Bundled.Applications. OS.X.Customer OS.Y.Customer OS.X.Store OS.Y.Store\n",
       "1    Yes                   532041        180995        534057     179682    \n",
       "2    No                    529240        175537        528739     173080    \n",
       "3    Yes                   533095        181047        535652     182961    \n",
       "4    Yes                   529902        179641        534057     179682    \n",
       "5    Yes                   531684        180948        528924     178440    \n",
       "6    Yes                   529207        180969        528924     178440    \n",
       "7    Yes                   534575        168236        537175     177885    \n",
       "8    No                    530461        186176        535652     182961    \n",
       "9    No                    520898        180071        525155     175180    \n",
       "10   Yes                   530298        177435        528924     178440    \n",
       "11   Yes                   535838        171458        532714     168302    \n",
       "12   Yes                   529584        181554        529248     185213    \n",
       "13   No                    518891        177662        519585     177640    \n",
       "14   Yes                   530451        183067        528924     178440    \n",
       "15   No                    531957        183906        535652     182961    \n",
       "16   Yes                   538189        180731        537175     177885    \n",
       "17   No                    531065        182190        529902     179641    \n",
       "18   No                    530520        183119        534057     179682    \n",
       "19   No                    530351        180907        534057     179682    \n",
       "20   Yes                   533256        179711        529902     179641    \n",
       "21   Yes                   533409        180902        534057     179682    \n",
       "22   No                    541936        183350        535652     182961    \n",
       "23   Yes                   529654        181374        529248     185213    \n",
       "24   Yes                   534883        172132        532714     168302    \n",
       "25   No                    531497        182177        529248     185213    \n",
       "26   Yes                   541540        183278        537175     177885    \n",
       "27   No                    535274        182846        537175     177885    \n",
       "28   Yes                   538670        178069        534057     179682    \n",
       "29   Yes                   532585        180197        529902     179641    \n",
       "30   No                    527601        181753        529902     179641    \n",
       "...  ...                   ...           ...           ...        ...       \n",
       "2485 Yes                   531921        186234        533788     189994    \n",
       "2486 No                    530298        177435        529902     179641    \n",
       "2487 Yes                   529370        178996        534057     179682    \n",
       "2488 Yes                   534086        168521        537175     177885    \n",
       "2489 No                    528745        180265        529902     179641    \n",
       "2490 Yes                   530455        182970        529902     179641    \n",
       "2491 No                    527732        181195        529902     179641    \n",
       "2492 Yes                   521892        166332        525155     175180    \n",
       "2493 Yes                   533950        174559        537175     177885    \n",
       "2494 Yes                   529131        181596        528924     178440    \n",
       "2495 No                    527830        189608        533788     189994    \n",
       "2496 Yes                   533647        179825        534057     179682    \n",
       "2497 No                    542008        185622        541428     184515    \n",
       "2498 No                    532961        181912        529902     179641    \n",
       "2499 No                    530188        179798        528924     178440    \n",
       "2500 Yes                   530518        180960        529902     179641    \n",
       "2501 No                    530214        180386        529902     179641    \n",
       "2502 No                    531634        182177        529248     185213    \n",
       "2503 Yes                   525109        190628        533788     189994    \n",
       "2504 No                    530201        172499        525155     175180    \n",
       "2505 No                    533529        175888        529902     179641    \n",
       "2506 No                    529684        181099        528924     178440    \n",
       "2507 Yes                   529028        185219        529902     179641    \n",
       "2508 Yes                   529370        178996        534057     179682    \n",
       "2509 Yes                   525109        190628        525109     190628    \n",
       "2510 Yes                   529586        181258        529248     185213    \n",
       "2511 Yes                   531542        167084        525155     175180    \n",
       "2512 No                    533256        179711        534057     179682    \n",
       "2513 No                    531767        181811        534057     179682    \n",
       "2514 Yes                   529551        181921        528924     178440    \n",
       "     CustomerStoreDistance\n",
       "1    2405.8730            \n",
       "2    2507.5586            \n",
       "3    3194.0014            \n",
       "4    4155.2023            \n",
       "5    3729.2981            \n",
       "6    2544.7849            \n",
       "7    9993.1577            \n",
       "8    6105.9566            \n",
       "9    6484.1291            \n",
       "10   1702.3222            \n",
       "11   4440.6882            \n",
       "12   3674.3948            \n",
       "13    694.3486            \n",
       "14   4872.4591            \n",
       "15   3813.9284            \n",
       "16   3021.2435            \n",
       "17   2801.7798            \n",
       "18   4931.8696            \n",
       "19   3903.2116            \n",
       "20   3354.7304            \n",
       "21   1381.4138            \n",
       "22   6296.0287            \n",
       "23   3860.4089            \n",
       "24   4401.5294            \n",
       "25   3778.2664            \n",
       "26   6938.1319            \n",
       "27   5312.7509            \n",
       "28   4886.8741            \n",
       "29   2740.0046            \n",
       "30   3123.3227            \n",
       "...  ...                  \n",
       "2485  4198.0101           \n",
       "2486  2241.2613           \n",
       "2487  4736.9362           \n",
       "2488  9860.3457           \n",
       "2489  1314.5436           \n",
       "2490  3374.6185           \n",
       "2491  2669.0478           \n",
       "2492  9430.4970           \n",
       "2493  4632.8070           \n",
       "2494  3162.7812           \n",
       "2495  5970.4908           \n",
       "2496   434.2223           \n",
       "2497  1249.7396           \n",
       "2498  3809.8454           \n",
       "2499  1855.2251           \n",
       "2500  1455.7531           \n",
       "2501   807.6936           \n",
       "2502  3861.3847           \n",
       "2503  8702.1260           \n",
       "2504  5714.0071           \n",
       "2505  5219.2086           \n",
       "2506  2765.4802           \n",
       "2507  5646.0570           \n",
       "2508  4736.9362           \n",
       "2509     0.0000           \n",
       "2510  3969.4167           \n",
       "2511 10312.0796           \n",
       "2512   801.5248           \n",
       "2513  3126.7781           \n",
       "2514  3537.0171           "
      ]
     },
     "metadata": {},
     "output_type": "display_data"
    }
   ],
   "source": [
    "# Please input your code here\n",
    "sale_data <- read.csv(\"LaptopSales.csv\", encoding = \"UTF-8\")\n",
    "sale_data"
   ]
  },
  {
   "cell_type": "markdown",
   "metadata": {},
   "source": [
    "2. (0.2 points) Summarize your data, check for missing values; if missing values exist, report for which variable(s) and row number(s) (you do not\n",
    "need to fix the missing data)."
   ]
  },
  {
   "cell_type": "code",
   "execution_count": 30,
   "metadata": {},
   "outputs": [
    {
     "data": {
      "text/plain": [
       "             X.U.FEFF.Date  Configuration   Customer.Postcode  Store.Postcode\n",
       " 2008/01/04 01:08:16:   2   Min.   :  1.0   SE1 0LH :   9     SW1P 3AU:486   \n",
       " 2008/01/05 14:27:24:   2   1st Qu.: 78.0   WC2R 3LD:   9     SE1 2BN :378   \n",
       " 2008/01/08 11:49:35:   2   Median :212.0   E1 1DT  :   8     SW1V 4QQ:375   \n",
       " 2008/01/09 05:28:29:   2   Mean   :209.9   E2 0RY  :   8     NW5 2QH :276   \n",
       " 2008/01/01 00:01:19:   1   3rd Qu.:315.8   EC4V 2BA:   8     E2 0RY  :266   \n",
       " 2008/01/01 00:02:52:   1   Max.   :368.0   N5 2LL  :   8     SE8 3JD :160   \n",
       " (Other)            :2504                   (Other) :2464     (Other) :573   \n",
       "  Retail.Price   Screen.Size..Inches. Battery.Life..Hours.    RAM..GB.    \n",
       " Min.   :300.0   Min.   :15           Min.   :4.00         Min.   :1.000  \n",
       " 1st Qu.:455.0   1st Qu.:15           1st Qu.:4.00         1st Qu.:1.000  \n",
       " Median :490.0   Median :15           Median :5.00         Median :2.000  \n",
       " Mean   :489.8   Mean   :15           Mean   :5.16         Mean   :1.538  \n",
       " 3rd Qu.:530.0   3rd Qu.:15           3rd Qu.:6.00         3rd Qu.:2.000  \n",
       " Max.   :665.0   Max.   :15           Max.   :6.00         Max.   :2.000  \n",
       "                                                                          \n",
       " Processor.Speeds..GHz. Integrated.Wireless.  HD.Size..GB.  \n",
       " Min.   :1.500          No :1213             Min.   : 40.0  \n",
       " 1st Qu.:1.500          Yes:1301             1st Qu.: 80.0  \n",
       " Median :2.000                               Median :120.0  \n",
       " Mean   :1.757                               Mean   :150.9  \n",
       " 3rd Qu.:2.000                               3rd Qu.:300.0  \n",
       " Max.   :2.000                               Max.   :300.0  \n",
       "                                                            \n",
       " Bundled.Applications. OS.X.Customer    OS.Y.Customer      OS.X.Store    \n",
       " No :1111              Min.   :512253   Min.   :164886   Min.   :517917  \n",
       " Yes:1403              1st Qu.:529281   1st Qu.:178695   1st Qu.:528924  \n",
       "                       Median :531190   Median :181082   Median :529902  \n",
       "                       Mean   :530926   Mean   :179837   Mean   :530821  \n",
       "                       3rd Qu.:533237   3rd Qu.:182049   3rd Qu.:534057  \n",
       "                       Max.   :549065   Max.   :199846   Max.   :541428  \n",
       "                                                         NA's   :4       \n",
       "   OS.Y.Store     CustomerStoreDistance\n",
       " Min.   :168302   Min.   :    0        \n",
       " 1st Qu.:178440   1st Qu.: 2385        \n",
       " Median :179641   Median : 3368        \n",
       " Mean   :179827   Mean   : 3680        \n",
       " 3rd Qu.:182961   3rd Qu.: 4331        \n",
       " Max.   :190628   Max.   :19892        \n",
       " NA's   :4        NA's   :4            "
      ]
     },
     "metadata": {},
     "output_type": "display_data"
    },
    {
     "data": {
      "text/html": [
       "<ol class=list-inline>\n",
       "\t<li>1675</li>\n",
       "\t<li>1774</li>\n",
       "\t<li>1969</li>\n",
       "\t<li>2203</li>\n",
       "</ol>\n"
      ],
      "text/latex": [
       "\\begin{enumerate*}\n",
       "\\item 1675\n",
       "\\item 1774\n",
       "\\item 1969\n",
       "\\item 2203\n",
       "\\end{enumerate*}\n"
      ],
      "text/markdown": [
       "1. 1675\n",
       "2. 1774\n",
       "3. 1969\n",
       "4. 2203\n",
       "\n",
       "\n"
      ],
      "text/plain": [
       "[1] 1675 1774 1969 2203"
      ]
     },
     "metadata": {},
     "output_type": "display_data"
    },
    {
     "data": {
      "text/html": [
       "<ol class=list-inline>\n",
       "\t<li>1675</li>\n",
       "\t<li>1774</li>\n",
       "\t<li>1969</li>\n",
       "\t<li>2203</li>\n",
       "</ol>\n"
      ],
      "text/latex": [
       "\\begin{enumerate*}\n",
       "\\item 1675\n",
       "\\item 1774\n",
       "\\item 1969\n",
       "\\item 2203\n",
       "\\end{enumerate*}\n"
      ],
      "text/markdown": [
       "1. 1675\n",
       "2. 1774\n",
       "3. 1969\n",
       "4. 2203\n",
       "\n",
       "\n"
      ],
      "text/plain": [
       "[1] 1675 1774 1969 2203"
      ]
     },
     "metadata": {},
     "output_type": "display_data"
    },
    {
     "data": {
      "text/html": [
       "<ol class=list-inline>\n",
       "\t<li>1675</li>\n",
       "\t<li>1774</li>\n",
       "\t<li>1969</li>\n",
       "\t<li>2203</li>\n",
       "</ol>\n"
      ],
      "text/latex": [
       "\\begin{enumerate*}\n",
       "\\item 1675\n",
       "\\item 1774\n",
       "\\item 1969\n",
       "\\item 2203\n",
       "\\end{enumerate*}\n"
      ],
      "text/markdown": [
       "1. 1675\n",
       "2. 1774\n",
       "3. 1969\n",
       "4. 2203\n",
       "\n",
       "\n"
      ],
      "text/plain": [
       "[1] 1675 1774 1969 2203"
      ]
     },
     "metadata": {},
     "output_type": "display_data"
    }
   ],
   "source": [
    "# Please input your code here, same below\n",
    "summary(sale_data)\n",
    "#There are three variables have missing value, which are: OS.X.Store, OS.Y.Store, CustomerStoreDistance.\n",
    "which(is.na(sale_data$OS.X.Store))\n",
    "which(is.na(sale_data$OS.Y.Store))\n",
    "which(is.na(sale_data$CustomerStoreDistance))\n"
   ]
  },
  {
   "cell_type": "markdown",
   "metadata": {},
   "source": [
    "3. (0.2 points) What is the average price of a laptop and what is the median\n",
    "price?"
   ]
  },
  {
   "cell_type": "code",
   "execution_count": 31,
   "metadata": {},
   "outputs": [
    {
     "data": {
      "text/html": [
       "489.844868735084"
      ],
      "text/latex": [
       "489.844868735084"
      ],
      "text/markdown": [
       "489.844868735084"
      ],
      "text/plain": [
       "[1] 489.8449"
      ]
     },
     "metadata": {},
     "output_type": "display_data"
    },
    {
     "data": {
      "text/html": [
       "490"
      ],
      "text/latex": [
       "490"
      ],
      "text/markdown": [
       "490"
      ],
      "text/plain": [
       "[1] 490"
      ]
     },
     "metadata": {},
     "output_type": "display_data"
    }
   ],
   "source": [
    "avg_price <- mean(sale_data$Retail.Price)\n",
    "avg_price\n",
    "median_price <- median(sale_data$Retail.Price)\n",
    "median_price\n",
    "#average price is 489.8,median price is 490"
   ]
  },
  {
   "cell_type": "markdown",
   "metadata": {},
   "source": [
    "4. (0.2 point) What is the average price of a laptop with Integrated Wireless?\n",
    "And what is the average price without Integrated wireless?"
   ]
  },
  {
   "cell_type": "code",
   "execution_count": 32,
   "metadata": {},
   "outputs": [
    {
     "data": {
      "text/html": [
       "495.910837817064"
      ],
      "text/latex": [
       "495.910837817064"
      ],
      "text/markdown": [
       "495.910837817064"
      ],
      "text/plain": [
       "[1] 495.9108"
      ]
     },
     "metadata": {},
     "output_type": "display_data"
    },
    {
     "data": {
      "text/html": [
       "483.338829348722"
      ],
      "text/latex": [
       "483.338829348722"
      ],
      "text/markdown": [
       "483.338829348722"
      ],
      "text/plain": [
       "[1] 483.3388"
      ]
     },
     "metadata": {},
     "output_type": "display_data"
    }
   ],
   "source": [
    "lap_IF <- subset(sale_data, Integrated.Wireless. == \"Yes\")\n",
    "Avgp_lap_IF <- mean(lap_IF$Retail.Price)\n",
    "Avgp_lap_IF\n",
    "lap_NIF <- subset(sale_data, Integrated.Wireless. == \"No\")\n",
    "Avgp_lap_NIF <- mean(lap_NIF$Retail.Price)\n",
    "Avgp_lap_NIF\n",
    "#the average price of a laptop with Integrated Wireless is 495.9, the average price of a laptop without Integrated Wireless is 483.3"
   ]
  },
  {
   "cell_type": "markdown",
   "metadata": {},
   "source": [
    "5. (0.2 points) What is the configuration type with the highest price?"
   ]
  },
  {
   "cell_type": "code",
   "execution_count": 33,
   "metadata": {},
   "outputs": [
    {
     "data": {
      "text/html": [
       "<table>\n",
       "<thead><tr><th></th><th scope=col>X.U.FEFF.Date</th><th scope=col>Configuration</th><th scope=col>Customer.Postcode</th><th scope=col>Store.Postcode</th><th scope=col>Retail.Price</th><th scope=col>Screen.Size..Inches.</th><th scope=col>Battery.Life..Hours.</th><th scope=col>RAM..GB.</th><th scope=col>Processor.Speeds..GHz.</th><th scope=col>Integrated.Wireless.</th><th scope=col>HD.Size..GB.</th><th scope=col>Bundled.Applications.</th><th scope=col>OS.X.Customer</th><th scope=col>OS.Y.Customer</th><th scope=col>OS.X.Store</th><th scope=col>OS.Y.Store</th><th scope=col>CustomerStoreDistance</th></tr></thead>\n",
       "<tbody>\n",
       "\t<tr><th scope=row>12</th><td>2008/01/01 01:03:25</td><td>359                </td><td>W1T 1DG            </td><td>NW5 2QH            </td><td>665                </td><td>15                 </td><td>6                  </td><td>2                  </td><td>2                  </td><td>Yes                </td><td>300                </td><td>Yes                </td><td>529584             </td><td>181554             </td><td>529248             </td><td>185213             </td><td>3674.395           </td></tr>\n",
       "\t<tr><th scope=row>140</th><td>2008/01/01 15:28:24</td><td>359                </td><td>W2 1PU             </td><td>SW1P 3AU           </td><td>665                </td><td>15                 </td><td>6                  </td><td>2                  </td><td>2                  </td><td>Yes                </td><td>300                </td><td>Yes                </td><td>527090             </td><td>181506             </td><td>529902             </td><td>179641             </td><td>3374.251           </td></tr>\n",
       "\t<tr><th scope=row>459</th><td>2008/01/02 22:00:12</td><td>359                </td><td>W1B 5DL            </td><td>NW5 2QH            </td><td>665                </td><td>15                 </td><td>6                  </td><td>2                  </td><td>2                  </td><td>Yes                </td><td>300                </td><td>Yes                </td><td>529389             </td><td>180720             </td><td>529248             </td><td>185213             </td><td>4495.212           </td></tr>\n",
       "\t<tr><th scope=row>756</th><td>2008/01/04 01:48:14</td><td>359                </td><td>WC2R 3LD           </td><td>SW1P 3AU           </td><td>665                </td><td>15                 </td><td>6                  </td><td>2                  </td><td>2                  </td><td>Yes                </td><td>300                </td><td>Yes                </td><td>531026             </td><td>180989             </td><td>529902             </td><td>179641             </td><td>1755.130           </td></tr>\n",
       "\t<tr><th scope=row>1261</th><td>2008/01/06 01:51:54</td><td>359                </td><td>SE23 1JB           </td><td>SE1 2BN            </td><td>665                </td><td>15                 </td><td>6                  </td><td>2                  </td><td>2                  </td><td>Yes                </td><td>300                </td><td>Yes                </td><td>536658             </td><td>173336             </td><td>534057             </td><td>179682             </td><td>6858.347           </td></tr>\n",
       "\t<tr><th scope=row>1828</th><td>2008/01/08 09:35:50</td><td>359                </td><td>SE22 9JA           </td><td>SE8 3JD            </td><td>665                </td><td>15                 </td><td>6                  </td><td>2                  </td><td>2                  </td><td>Yes                </td><td>300                </td><td>Yes                </td><td>533950             </td><td>174559             </td><td>537175             </td><td>177885             </td><td>4632.807           </td></tr>\n",
       "\t<tr><th scope=row>2375</th><td>2008/01/10 09:05:09</td><td>359                </td><td>NW1 0JH            </td><td>NW5 2QH            </td><td>665                </td><td>15                 </td><td>6                  </td><td>2                  </td><td>2                  </td><td>Yes                </td><td>300                </td><td>Yes                </td><td>529174             </td><td>183469             </td><td>529248             </td><td>185213             </td><td>1745.569           </td></tr>\n",
       "</tbody>\n",
       "</table>\n"
      ],
      "text/latex": [
       "\\begin{tabular}{r|lllllllllllllllll}\n",
       "  & X.U.FEFF.Date & Configuration & Customer.Postcode & Store.Postcode & Retail.Price & Screen.Size..Inches. & Battery.Life..Hours. & RAM..GB. & Processor.Speeds..GHz. & Integrated.Wireless. & HD.Size..GB. & Bundled.Applications. & OS.X.Customer & OS.Y.Customer & OS.X.Store & OS.Y.Store & CustomerStoreDistance\\\\\n",
       "\\hline\n",
       "\t12 & 2008/01/01 01:03:25 & 359                 & W1T 1DG             & NW5 2QH             & 665                 & 15                  & 6                   & 2                   & 2                   & Yes                 & 300                 & Yes                 & 529584              & 181554              & 529248              & 185213              & 3674.395           \\\\\n",
       "\t140 & 2008/01/01 15:28:24 & 359                 & W2 1PU              & SW1P 3AU            & 665                 & 15                  & 6                   & 2                   & 2                   & Yes                 & 300                 & Yes                 & 527090              & 181506              & 529902              & 179641              & 3374.251           \\\\\n",
       "\t459 & 2008/01/02 22:00:12 & 359                 & W1B 5DL             & NW5 2QH             & 665                 & 15                  & 6                   & 2                   & 2                   & Yes                 & 300                 & Yes                 & 529389              & 180720              & 529248              & 185213              & 4495.212           \\\\\n",
       "\t756 & 2008/01/04 01:48:14 & 359                 & WC2R 3LD            & SW1P 3AU            & 665                 & 15                  & 6                   & 2                   & 2                   & Yes                 & 300                 & Yes                 & 531026              & 180989              & 529902              & 179641              & 1755.130           \\\\\n",
       "\t1261 & 2008/01/06 01:51:54 & 359                 & SE23 1JB            & SE1 2BN             & 665                 & 15                  & 6                   & 2                   & 2                   & Yes                 & 300                 & Yes                 & 536658              & 173336              & 534057              & 179682              & 6858.347           \\\\\n",
       "\t1828 & 2008/01/08 09:35:50 & 359                 & SE22 9JA            & SE8 3JD             & 665                 & 15                  & 6                   & 2                   & 2                   & Yes                 & 300                 & Yes                 & 533950              & 174559              & 537175              & 177885              & 4632.807           \\\\\n",
       "\t2375 & 2008/01/10 09:05:09 & 359                 & NW1 0JH             & NW5 2QH             & 665                 & 15                  & 6                   & 2                   & 2                   & Yes                 & 300                 & Yes                 & 529174              & 183469              & 529248              & 185213              & 1745.569           \\\\\n",
       "\\end{tabular}\n"
      ],
      "text/markdown": [
       "\n",
       "| <!--/--> | X.U.FEFF.Date | Configuration | Customer.Postcode | Store.Postcode | Retail.Price | Screen.Size..Inches. | Battery.Life..Hours. | RAM..GB. | Processor.Speeds..GHz. | Integrated.Wireless. | HD.Size..GB. | Bundled.Applications. | OS.X.Customer | OS.Y.Customer | OS.X.Store | OS.Y.Store | CustomerStoreDistance |\n",
       "|---|---|---|---|---|---|---|---|---|---|---|---|---|---|---|---|---|---|\n",
       "| 12 | 2008/01/01 01:03:25 | 359                 | W1T 1DG             | NW5 2QH             | 665                 | 15                  | 6                   | 2                   | 2                   | Yes                 | 300                 | Yes                 | 529584              | 181554              | 529248              | 185213              | 3674.395            |\n",
       "| 140 | 2008/01/01 15:28:24 | 359                 | W2 1PU              | SW1P 3AU            | 665                 | 15                  | 6                   | 2                   | 2                   | Yes                 | 300                 | Yes                 | 527090              | 181506              | 529902              | 179641              | 3374.251            |\n",
       "| 459 | 2008/01/02 22:00:12 | 359                 | W1B 5DL             | NW5 2QH             | 665                 | 15                  | 6                   | 2                   | 2                   | Yes                 | 300                 | Yes                 | 529389              | 180720              | 529248              | 185213              | 4495.212            |\n",
       "| 756 | 2008/01/04 01:48:14 | 359                 | WC2R 3LD            | SW1P 3AU            | 665                 | 15                  | 6                   | 2                   | 2                   | Yes                 | 300                 | Yes                 | 531026              | 180989              | 529902              | 179641              | 1755.130            |\n",
       "| 1261 | 2008/01/06 01:51:54 | 359                 | SE23 1JB            | SE1 2BN             | 665                 | 15                  | 6                   | 2                   | 2                   | Yes                 | 300                 | Yes                 | 536658              | 173336              | 534057              | 179682              | 6858.347            |\n",
       "| 1828 | 2008/01/08 09:35:50 | 359                 | SE22 9JA            | SE8 3JD             | 665                 | 15                  | 6                   | 2                   | 2                   | Yes                 | 300                 | Yes                 | 533950              | 174559              | 537175              | 177885              | 4632.807            |\n",
       "| 2375 | 2008/01/10 09:05:09 | 359                 | NW1 0JH             | NW5 2QH             | 665                 | 15                  | 6                   | 2                   | 2                   | Yes                 | 300                 | Yes                 | 529174              | 183469              | 529248              | 185213              | 1745.569            |\n",
       "\n"
      ],
      "text/plain": [
       "     X.U.FEFF.Date       Configuration Customer.Postcode Store.Postcode\n",
       "12   2008/01/01 01:03:25 359           W1T 1DG           NW5 2QH       \n",
       "140  2008/01/01 15:28:24 359           W2 1PU            SW1P 3AU      \n",
       "459  2008/01/02 22:00:12 359           W1B 5DL           NW5 2QH       \n",
       "756  2008/01/04 01:48:14 359           WC2R 3LD          SW1P 3AU      \n",
       "1261 2008/01/06 01:51:54 359           SE23 1JB          SE1 2BN       \n",
       "1828 2008/01/08 09:35:50 359           SE22 9JA          SE8 3JD       \n",
       "2375 2008/01/10 09:05:09 359           NW1 0JH           NW5 2QH       \n",
       "     Retail.Price Screen.Size..Inches. Battery.Life..Hours. RAM..GB.\n",
       "12   665          15                   6                    2       \n",
       "140  665          15                   6                    2       \n",
       "459  665          15                   6                    2       \n",
       "756  665          15                   6                    2       \n",
       "1261 665          15                   6                    2       \n",
       "1828 665          15                   6                    2       \n",
       "2375 665          15                   6                    2       \n",
       "     Processor.Speeds..GHz. Integrated.Wireless. HD.Size..GB.\n",
       "12   2                      Yes                  300         \n",
       "140  2                      Yes                  300         \n",
       "459  2                      Yes                  300         \n",
       "756  2                      Yes                  300         \n",
       "1261 2                      Yes                  300         \n",
       "1828 2                      Yes                  300         \n",
       "2375 2                      Yes                  300         \n",
       "     Bundled.Applications. OS.X.Customer OS.Y.Customer OS.X.Store OS.Y.Store\n",
       "12   Yes                   529584        181554        529248     185213    \n",
       "140  Yes                   527090        181506        529902     179641    \n",
       "459  Yes                   529389        180720        529248     185213    \n",
       "756  Yes                   531026        180989        529902     179641    \n",
       "1261 Yes                   536658        173336        534057     179682    \n",
       "1828 Yes                   533950        174559        537175     177885    \n",
       "2375 Yes                   529174        183469        529248     185213    \n",
       "     CustomerStoreDistance\n",
       "12   3674.395             \n",
       "140  3374.251             \n",
       "459  4495.212             \n",
       "756  1755.130             \n",
       "1261 6858.347             \n",
       "1828 4632.807             \n",
       "2375 1745.569             "
      ]
     },
     "metadata": {},
     "output_type": "display_data"
    }
   ],
   "source": [
    "lap_highest <- subset(sale_data, Retail.Price == \"665\")\n",
    "lap_highest\n",
    "#configuration 359 type has the highest price.\n"
   ]
  },
  {
   "cell_type": "markdown",
   "metadata": {},
   "source": [
    "6. (0.2 points) How many laptops have HD size < 150?"
   ]
  },
  {
   "cell_type": "code",
   "execution_count": 34,
   "metadata": {},
   "outputs": [
    {
     "data": {
      "text/html": [
       "1749"
      ],
      "text/latex": [
       "1749"
      ],
      "text/markdown": [
       "1749"
      ],
      "text/plain": [
       "[1] 1749"
      ]
     },
     "metadata": {},
     "output_type": "display_data"
    }
   ],
   "source": [
    "small_HD <- subset(sale_data, HD.Size..GB. < 150)\n",
    "nrow(small_HD)\n",
    "#there are 1749 laptops have HD size < 150"
   ]
  },
  {
   "cell_type": "markdown",
   "metadata": {},
   "source": [
    "7. (0.2 points) What is the total value, in $, of all the laptops sold in this\n",
    "dataset? (In other words, what is the sum of all the prices)"
   ]
  },
  {
   "cell_type": "code",
   "execution_count": 35,
   "metadata": {},
   "outputs": [
    {
     "data": {
      "text/html": [
       "1231470"
      ],
      "text/latex": [
       "1231470"
      ],
      "text/markdown": [
       "1231470"
      ],
      "text/plain": [
       "[1] 1231470"
      ]
     },
     "metadata": {},
     "output_type": "display_data"
    }
   ],
   "source": [
    "sum(sale_data$Retail.Price)\n",
    "#total value of all laptops sold in this dataset is 1231470."
   ]
  },
  {
   "cell_type": "markdown",
   "metadata": {},
   "source": [
    "## Question 2: Visualization\n",
    "\n",
    "For each plot you construct, you also need to provide a description of the **insights** you get from it. All your plots should have\n",
    "1. a proper title\n",
    "2. a proper labeling of (both) axis and\n",
    "3. proper axis limits (for both).\n",
    "\n",
    "Proper axis limit means that the axis limits should be such that no value is excluded or cut out of the plot. You may be required additional things for individual plots, see the questions below. You are required to use `ggplot` for the plots."
   ]
  },
  {
   "cell_type": "markdown",
   "metadata": {},
   "source": [
    "1. (0.5 points) Plot the distribution of the Customer Store Distance variable and provide a description of the insights you get from it. Your plot should be created in `ggplot` and include the following options: the fill color should vary depending on the count in each bar. The fill gradient should be purple for low values and `darkblue` for high values. The `alpha` should be set to `1`."
   ]
  },
  {
   "cell_type": "code",
   "execution_count": 36,
   "metadata": {},
   "outputs": [
    {
     "name": "stderr",
     "output_type": "stream",
     "text": [
      "`stat_bin()` using `bins = 30`. Pick better value with `binwidth`.\n",
      "Warning message:\n",
      "\"Removed 4 rows containing non-finite values (stat_bin).\"Warning message:\n",
      "\"Removed 2 rows containing missing values (geom_bar).\""
     ]
    },
    {
     "ename": "ERROR",
     "evalue": "Error: Cannot use `+.gg()` with a single argument. Did you accidentally put + on a new line?\n",
     "output_type": "error",
     "traceback": [
      "Error: Cannot use `+.gg()` with a single argument. Did you accidentally put + on a new line?\nTraceback:\n",
      "1. `+.gg`(scale_fill_gradient(low = \"purple\", high = \"darkblue\"))",
      "2. abort(\"Cannot use `+.gg()` with a single argument. Did you accidentally put + on a new line?\")",
      "3. signal_abort(cnd)"
     ]
    },
    {
     "data": {
      "image/png": "[encoded data removed]",
      "text/plain": [
       "plot without title"
      ]
     },
     "metadata": {},
     "output_type": "display_data"
    }
   ],
   "source": [
    "# your ggplot line here\n",
    " \n",
    " library(ggplot2)\n",
    " ggplot(data=sale_data, aes(x =CustomerStoreDistance , fill = ..count..)) + geom_histogram(alpha=1) + xlim(0,20000)\n",
    " + scale_fill_gradient(low=\"purple\",high=\"darkblue\") \n",
    " + ggtitle(\"Customer Store Distance of Laptop Sales\") + labs(x=\"Customer Store Distance\", y=\"Count\")\n",
    " #Insight: When customer store distance is approximately between 0 - 3000. The more customers stores increases \n",
    " #within longer distance. But when distance is over approximately 3000, the longer the distance, the less \n",
    " # customer stores. "
   ]
  },
  {
   "cell_type": "markdown",
   "metadata": {},
   "source": [
    "**Explanation**:\n",
    "\n",
    "_Edit_ this markdown cell to input your explanation."
   ]
  },
  {
   "cell_type": "markdown",
   "metadata": {},
   "source": [
    "2. (0.5 points) Plot a `boxplot` of the variable `Retail Price` (only) and provide a description of the insights you get from it. Use `ggplot`. For this plot, you do not need to label the X axis (but you do need a title and label the Y axis). Your plot should display outliers (if any) in orange, with a shape of a triangle and size `3`\n",
    "\n",
    "(HINT: to understand how to change shapes see http://www.sthda.com/english/wiki/ggplot2-point-shapes)"
   ]
  },
  {
   "cell_type": "code",
   "execution_count": 37,
   "metadata": {},
   "outputs": [
    {
     "data": {
      "image/png": "[encoded data removed]",
      "text/plain": [
       "plot without title"
      ]
     },
     "metadata": {},
     "output_type": "display_data"
    }
   ],
   "source": [
    "ggplot(data = sale_data, aes(x=, y=Retail.Price, color=)) +\n",
    "  geom_boxplot(notch = FALSE, outlier.colour=\"orange\", outlier.shape=\"triangle\", outlier.size=3) +\n",
    "  ggtitle(\"The Boxplot of Retail Price of the Laptop\") +\n",
    "  labs(y = \"Retail Price of Laptop\")\n",
    "#Insights: \n",
    "#1.The mean of retail price of the laptop is less than 500.\n",
    "#2.The lowest retail price of the laptop is about 300.\n",
    "#3.The highest retail price of the laptop is over 650.\n",
    "#4.The majority of retail price of the laptop is around 450 -550.\n"
   ]
  },
  {
   "cell_type": "markdown",
   "metadata": {},
   "source": [
    "3. (1 points) Plot a boxplot to compare the retail price of laptops divided in groups based on the variable `HD.Size..GB.`; provide a description of the insights you get from it. Use `ggplot`; each individual box in your plot should have a different fill color, based on `HD.Size..GB`. The outliers should be identified with a shape and color of your choice."
   ]
  },
  {
   "cell_type": "code",
   "execution_count": 38,
   "metadata": {},
   "outputs": [
    {
     "data": {
      "image/png": "[encoded data removed]",
      "text/plain": [
       "plot without title"
      ]
     },
     "metadata": {},
     "output_type": "display_data"
    }
   ],
   "source": [
    "ggplot(data = sale_data, aes(x=HD.Size..GB., y=Retail.Price, group= HD.Size..GB., fill =HD.Size..GB.)) +\n",
    "  geom_boxplot(notch = FALSE, outlier.colour=\"red\", outlier.shape=\"triangle\", outlier.size=3) +\n",
    "  ggtitle(\"The Boxplot of Retail Price of the Laptop,by HD Size\") +\n",
    "  labs(x = \"HD Size of the Laptop\", y = \"Retail Price of Laptop\")\n",
    " #Insights:\n",
    " #1.HD size of the laptop can affect the retail price of the laptop.\n",
    " #2.When HD size of the laptop is smaller than 50, the average price of the laptop is the lowest.\n",
    " #3.When HD size of the laptop is greater than 50 but smaller than 150, the average price of laptop is higher a little than the laptop which has HD\n",
    " #size is smaller than 50. \n",
    " #4.The laptop that its HD size is 300 has the highest retail price."
   ]
  },
  {
   "cell_type": "markdown",
   "metadata": {},
   "source": [
    "Finally, we want to understand what type of relationship exists between the retail price and the battery life hours of a laptop."
   ]
  },
  {
   "cell_type": "markdown",
   "metadata": {},
   "source": [
    "4. (0.5 points) Plot the relationship between battery life hours and the retail price. Use ggplot; the color of the points should change based on battery life hours. What do you see? Provide an explanation."
   ]
  },
  {
   "cell_type": "code",
   "execution_count": 39,
   "metadata": {},
   "outputs": [
    {
     "name": "stderr",
     "output_type": "stream",
     "text": [
      "`geom_smooth()` using formula 'y ~ x'\n"
     ]
    },
    {
     "data": {
      "image/png": "[encoded data removed]",
      "text/plain": [
       "plot without title"
      ]
     },
     "metadata": {},
     "output_type": "display_data"
    }
   ],
   "source": [
    "ggplot(data = sale_data, aes(x=Battery.Life..Hours., y=Retail.Price, color=Battery.Life..Hours.)) + geom_point(size=2)+\n",
    " ggtitle(\"The Relationship between Battery Life and Retail Price\") + labs(x=\"Battery Life\",y=\"Retail Price\") +  geom_smooth(method=lm)\n",
    "#Insights:\n",
    "#1.There is a positive relationship between battery life and retail price of the laptop.\n",
    "#2."
   ]
  },
  {
   "cell_type": "markdown",
   "metadata": {},
   "source": [
    "5. (1.1 points) Plot a histogram of retail price, divided by categories based on the battery life hours and provide a description of the insights you get from it. Use ggplot. Your histogram should have a different color for each category and an alpha = 0.8.\n",
    "\n",
    "HINT: you may need to create a new \"categorical\" variable for the battery life hours, that is currently a numerical variable.\n",
    "\n",
    "Here an example of how to do that:\n",
    "\n",
    "Assume you have a dataset called “mydata” and you have a numerical variable “age”. You want to group the variable age into categories: Elder, Middle Aged, Young. You first need to create a new variable that will contain the categories, let us call it “agecat” and then assign the records to the different categories based on some rules you decide. For example, all records for which age > 75, are assigned to the category “Elder”.\n",
    "\n",
    "See example code below:\n",
    "\n",
    "```\n",
    "mydata$agecat[age > 75] <- “Elder”\n",
    "mydata$agecat[age > 45 & age <=75] <- “Middle Aged”\n",
    "mydata$agecat[age <= 45] <- “Young”\n",
    "```"
   ]
  },
  {
   "cell_type": "code",
   "execution_count": 41,
   "metadata": {},
   "outputs": [
    {
     "name": "stderr",
     "output_type": "stream",
     "text": [
      "`stat_bin()` using `bins = 30`. Pick better value with `binwidth`.\n"
     ]
    },
    {
     "data": {
      "image/png": "[encoded data removed]",
      "text/plain": [
       "plot without title"
      ]
     },
     "metadata": {},
     "output_type": "display_data"
    }
   ],
   "source": [
    "sale_data$Battery.Life..Hours.[sale_data$Battery.Life..Hours.==6] <- \"High Quality\"\n",
    "sale_data$Battery.Life..Hours.[sale_data$Battery.Life..Hours.== 5 ] <- \"Normal Quality\"\n",
    "sale_data$Battery.Life..Hours.[sale_data$Battery.Life..Hours.==4] <- \"Low Quality\"\n",
    "ggplot(data = sale_data, aes(x=Retail.Price, fill=Battery.Life..Hours.)) + geom_histogram(alpha=0.8)+ \n",
    "ggtitle(\"Distribution of Retail Price by Battery Life\") + labs(x=\"Retail Price\",y=\"Count\")\n",
    "#Insights:\n",
    "#1.There are three types of battery life, which can last 4,5,6 hours each.\n",
    "#2.If the retail price of laptops are less than 450, battery life of laptops is more likely less than 6 hours, which means the low or normal quality.\n",
    "#3.When the retail price of laptops are more than 450,the majority of laptops can have more than 5 hours battery of life.\n",
    "#4.When the retail price of laptops are more than 600, the battery of life will last at least 6 hours."
   ]
  },
  {
   "cell_type": "markdown",
   "metadata": {},
   "source": [
    "**ANSWER**:\n",
    "\n",
    "_Edit_ this markdown cell to input your explanation."
   ]
  },
  {
   "cell_type": "markdown",
   "metadata": {},
   "source": [
    "# End of HW1\n",
    "\n",
    "Now, head to the `File` menu, and export notebook as PDF. Use this PDF as your submission."
   ]
  },
  {
   "cell_type": "code",
   "execution_count": null,
   "metadata": {},
   "outputs": [],
   "source": []
  }
 ],
 "metadata": {
  "kernelspec": {
   "display_name": "R",
   "language": "R",
   "name": "ir"
  },
  "language_info": {
   "codemirror_mode": "r",
   "file_extension": ".r",
   "mimetype": "text/x-r-source",
   "name": "R",
   "pygments_lexer": "r",
   "version": "3.6.1"
  },
  "toc-showcode": true
 },
 "nbformat": 4,
 "nbformat_minor": 4
}
